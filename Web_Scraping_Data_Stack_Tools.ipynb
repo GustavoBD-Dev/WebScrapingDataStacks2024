{
  "nbformat": 4,
  "nbformat_minor": 0,
  "metadata": {
    "colab": {
      "provenance": [],
      "authorship_tag": "ABX9TyNn+1rvKgpym0fBCy1k3NjX",
      "include_colab_link": true
    },
    "kernelspec": {
      "name": "python3",
      "display_name": "Python 3"
    },
    "language_info": {
      "name": "python"
    }
  },
  "cells": [
    {
      "cell_type": "markdown",
      "metadata": {
        "id": "view-in-github",
        "colab_type": "text"
      },
      "source": [
        "<a href=\"https://colab.research.google.com/github/GustavoBD-Dev/WebScrapingDataStacks2024/blob/JSON-analysis/Web_Scraping_Data_Stack_Tools.ipynb\" target=\"_parent\"><img src=\"https://colab.research.google.com/assets/colab-badge.svg\" alt=\"Open In Colab\"/></a>"
      ]
    },
    {
      "cell_type": "markdown",
      "source": [
        "# Web Scraping Data Stack 2024\n",
        "\n",
        "The tools that are used by the amazing companies in the world are organising their data stack."
      ],
      "metadata": {
        "id": "zK_IWHqseM4D"
      }
    },
    {
      "cell_type": "code",
      "source": [
        "# Instalación de dependencias en la compu que nos presta Google\n",
        "!pip install selenium\n",
        "!apt-get update\n",
        "!apt install chromium-chromedriver -q"
      ],
      "metadata": {
        "id": "LgAHMZiCkgwN"
      },
      "execution_count": null,
      "outputs": []
    },
    {
      "cell_type": "code",
      "execution_count": null,
      "metadata": {
        "id": "HhDkyG7khCOY"
      },
      "outputs": [],
      "source": [
        "import sys\n",
        "sys.path.insert(0,'/usr/lib/chromium-browser/chromedriver')\n",
        "from selenium import webdriver\n",
        "from selenium.webdriver.support.ui import Select\n",
        "from selenium.webdriver.common.keys import Keys\n",
        "from selenium.webdriver.support.ui import WebDriverWait\n",
        "from selenium.webdriver.common.by import By\n",
        "from selenium.webdriver.support import expected_conditions as EC\n",
        "\n",
        "options = webdriver.ChromeOptions() # Usamos chrome, se podria usar otro.\n",
        "options.add_argument('--headless') # Chromium sin interfaz grafica\n",
        "options.add_argument('--no-sandbox') # Seguridad\n",
        "options.add_argument('--disable-dev-shm-usage') # configuracion de linux\n",
        "options.add_argument('--user-agent=\"\"Mozilla/5.0 (Windows NT 10.0; Win64; x64) AppleWebKit/537.36 (KHTML, like Gecko) Chrome/74.0.3729.157 Safari/537.36\"\"') # user agent\n",
        "options.add_argument('--disable-blink-features=AutomationControlled')\n",
        "driver = webdriver.Chrome(options=options)\n",
        "driver_2 = webdriver.Chrome(options=options)"
      ]
    },
    {
      "cell_type": "code",
      "source": [
        "driver.get(\"https://www.moderndatastack.xyz/stacks\")"
      ],
      "metadata": {
        "id": "u_i7nVrBdgyY"
      },
      "execution_count": null,
      "outputs": []
    },
    {
      "cell_type": "code",
      "source": [
        "driver.title"
      ],
      "metadata": {
        "colab": {
          "base_uri": "https://localhost:8080/",
          "height": 35
        },
        "id": "hMv86PONhlBD",
        "outputId": "462fac41-dd14-4e3c-895a-a7bbbfeda1b6"
      },
      "execution_count": null,
      "outputs": [
        {
          "output_type": "execute_result",
          "data": {
            "text/plain": [
              "'Data Stack - Modern Data Stack | Modern Data Stack'"
            ],
            "application/vnd.google.colaboratory.intrinsic+json": {
              "type": "string"
            }
          },
          "metadata": {},
          "execution_count": 393
        }
      ]
    },
    {
      "cell_type": "code",
      "source": [
        "driver.page_source"
      ],
      "metadata": {
        "id": "jI7RTLjbhlAJ"
      },
      "execution_count": null,
      "outputs": []
    },
    {
      "cell_type": "code",
      "source": [
        "!pip install beautifulsoup4"
      ],
      "metadata": {
        "colab": {
          "base_uri": "https://localhost:8080/"
        },
        "id": "7-zyV7PnjTwu",
        "outputId": "726e0755-c44d-4be5-ed21-3995d5793ab2"
      },
      "execution_count": null,
      "outputs": [
        {
          "output_type": "stream",
          "name": "stdout",
          "text": [
            "Requirement already satisfied: beautifulsoup4 in /usr/local/lib/python3.10/dist-packages (4.12.3)\n",
            "Requirement already satisfied: soupsieve>1.2 in /usr/local/lib/python3.10/dist-packages (from beautifulsoup4) (2.5)\n"
          ]
        }
      ]
    },
    {
      "cell_type": "code",
      "source": [
        "from bs4 import BeautifulSoup\n",
        "soup = BeautifulSoup(driver.page_source, 'html.parser')"
      ],
      "metadata": {
        "id": "-0xj0YOIjP2I"
      },
      "execution_count": null,
      "outputs": []
    },
    {
      "cell_type": "code",
      "source": [
        "print(soup.prettify())"
      ],
      "metadata": {
        "collapsed": true,
        "id": "FVY2D1Pkj4mA"
      },
      "execution_count": null,
      "outputs": []
    },
    {
      "cell_type": "code",
      "source": [
        "soup.h4['class'] # explore data"
      ],
      "metadata": {
        "colab": {
          "base_uri": "https://localhost:8080/"
        },
        "id": "QfeTtrpvka1W",
        "outputId": "3d42383e-d30e-4c68-dca3-f294d145a56d"
      },
      "execution_count": null,
      "outputs": [
        {
          "output_type": "execute_result",
          "data": {
            "text/plain": [
              "['mds-fs-lg', 'mds-fw-md', 'mds-text-dark', 'm-0', 'text-capitalize']"
            ]
          },
          "metadata": {},
          "execution_count": 117
        }
      ]
    },
    {
      "cell_type": "code",
      "source": [
        "soup.h4"
      ],
      "metadata": {
        "colab": {
          "base_uri": "https://localhost:8080/"
        },
        "id": "tt9fdm2XnKh6",
        "outputId": "ed135351-49ea-4db3-9837-9a042b3b1e76"
      },
      "execution_count": null,
      "outputs": [
        {
          "output_type": "execute_result",
          "data": {
            "text/plain": [
              "<h4 class=\"mds-fs-lg mds-fw-md mds-text-dark m-0 text-capitalize\">&amp;facts</h4>"
            ]
          },
          "metadata": {},
          "execution_count": 78
        }
      ]
    },
    {
      "cell_type": "code",
      "source": [
        "soup.h4.text"
      ],
      "metadata": {
        "colab": {
          "base_uri": "https://localhost:8080/",
          "height": 35
        },
        "id": "CAIyCgDgnxFV",
        "outputId": "d275f634-9585-4e7b-af7a-cd8c5d6ac626"
      },
      "execution_count": null,
      "outputs": [
        {
          "output_type": "execute_result",
          "data": {
            "text/plain": [
              "'&facts'"
            ],
            "application/vnd.google.colaboratory.intrinsic+json": {
              "type": "string"
            }
          },
          "metadata": {},
          "execution_count": 79
        }
      ]
    },
    {
      "cell_type": "code",
      "source": [
        "for link in soup.find_all('h4'):\n",
        "    print(link.text)"
      ],
      "metadata": {
        "id": "natIaXqKloH5"
      },
      "execution_count": null,
      "outputs": []
    },
    {
      "cell_type": "code",
      "source": [
        "for link in soup.find_all('h4'):\n",
        "  print(f\"https://www.moderndatastack.xyz/stacks/{str(link.text).replace(' ','-').lower().replace('&', '')}\")"
      ],
      "metadata": {
        "id": "6eDXAgPNo5VU"
      },
      "execution_count": null,
      "outputs": []
    },
    {
      "cell_type": "code",
      "source": [
        "url_get = \"https://www.moderndatastack.xyz/stacks/bolt\"\n",
        "print(\">>>\" + url_get)\n",
        "driver_2.get(url_get)\n",
        "soup_2 = BeautifulSoup(driver_2.page_source, 'html.parser')\n",
        "# print(soup_2.prettify())"
      ],
      "metadata": {
        "colab": {
          "base_uri": "https://localhost:8080/"
        },
        "id": "Ic-Q5dKKuUTD",
        "outputId": "502c380c-a0f7-4ff4-c3e7-2a135a961ffe"
      },
      "execution_count": null,
      "outputs": [
        {
          "output_type": "stream",
          "name": "stdout",
          "text": [
            ">>>https://www.moderndatastack.xyz/stacks/bolt\n"
          ]
        }
      ]
    },
    {
      "cell_type": "code",
      "source": [
        "soup_2.title"
      ],
      "metadata": {
        "colab": {
          "base_uri": "https://localhost:8080/"
        },
        "id": "kzMkEZYGr_DV",
        "outputId": "3f9fb4b1-1cfd-43d6-9e84-845a279d4426"
      },
      "execution_count": null,
      "outputs": [
        {
          "output_type": "execute_result",
          "data": {
            "text/plain": [
              "<title>Bolt- Modern Data Stack | Modern Data Stack</title>"
            ]
          },
          "metadata": {},
          "execution_count": 290
        }
      ]
    },
    {
      "cell_type": "markdown",
      "source": [
        "Section with data by category of tools"
      ],
      "metadata": {
        "id": "OemfrHXExPXp"
      }
    },
    {
      "cell_type": "code",
      "source": [
        "soup_2.div.find_all('p-3 row')"
      ],
      "metadata": {
        "colab": {
          "base_uri": "https://localhost:8080/"
        },
        "id": "Zf2EyYMBu4Re",
        "outputId": "9068e6be-f90d-48aa-808d-1b9613d53a5d"
      },
      "execution_count": null,
      "outputs": [
        {
          "output_type": "execute_result",
          "data": {
            "text/plain": [
              "[]"
            ]
          },
          "metadata": {},
          "execution_count": 291
        }
      ]
    },
    {
      "cell_type": "code",
      "source": [
        "soup_2.h4.text"
      ],
      "metadata": {
        "colab": {
          "base_uri": "https://localhost:8080/",
          "height": 35
        },
        "id": "aA3qEKFkveGB",
        "outputId": "4940f355-98e6-4d78-8e48-20259a656bbb"
      },
      "execution_count": null,
      "outputs": [
        {
          "output_type": "execute_result",
          "data": {
            "text/plain": [
              "'Business Intelligence (BI)'"
            ],
            "application/vnd.google.colaboratory.intrinsic+json": {
              "type": "string"
            }
          },
          "metadata": {},
          "execution_count": 292
        }
      ]
    },
    {
      "cell_type": "code",
      "source": [
        "soup_2.find_all('h4')"
      ],
      "metadata": {
        "colab": {
          "base_uri": "https://localhost:8080/"
        },
        "id": "M0n3xWafxZDy",
        "outputId": "d155dde1-fe30-433e-882a-4f7be6d2719d"
      },
      "execution_count": null,
      "outputs": [
        {
          "output_type": "execute_result",
          "data": {
            "text/plain": [
              "[<h4 id=\"categoryName0\" style=\"text-align: center;\">Business Intelligence (BI)</h4>,\n",
              " <h4 id=\"categoryName1\" style=\"text-align: center;\">Data Warehouses</h4>,\n",
              " <h4 id=\"categoryName2\" style=\"text-align: center;\">ETL Tools</h4>,\n",
              " <h4 id=\"categoryName3\" style=\"text-align: center;\">Reverse ETL Tools</h4>,\n",
              " <h4 class=\"m-0 mb-3\">Members</h4>,\n",
              " <h4 style=\"text-align: center;\">Similar Stacks</h4>]"
            ]
          },
          "metadata": {},
          "execution_count": 293
        }
      ]
    },
    {
      "cell_type": "markdown",
      "source": [
        "Extract only the category, then find the tools, there is more than one toll per category."
      ],
      "metadata": {
        "id": "UxRwn0pRxmbV"
      }
    },
    {
      "cell_type": "code",
      "source": [
        "for cat in soup_2.find_all('h4')[:-2]: #clasificaciones\n",
        "  print(cat.text)"
      ],
      "metadata": {
        "colab": {
          "base_uri": "https://localhost:8080/"
        },
        "id": "LymCIl32xleJ",
        "outputId": "82f86129-7586-48fb-bdc4-cd7f88a20b6b"
      },
      "execution_count": null,
      "outputs": [
        {
          "output_type": "stream",
          "name": "stdout",
          "text": [
            "Business Intelligence (BI)\n",
            "Data Warehouses\n",
            "ETL Tools\n",
            "Reverse ETL Tools\n"
          ]
        }
      ]
    },
    {
      "cell_type": "code",
      "source": [
        "for tools in soup_2.find_all('p')[2:-5]:\n",
        "  print(tools.text)"
      ],
      "metadata": {
        "colab": {
          "base_uri": "https://localhost:8080/"
        },
        "id": "-y7go8SAytT8",
        "outputId": "905ec647-3eb3-4b74-9e8a-92081f68d4cb"
      },
      "execution_count": null,
      "outputs": [
        {
          "output_type": "stream",
          "name": "stdout",
          "text": [
            "Looker\n",
            "Tableau\n",
            "Metabase\n",
            "Redshift\n",
            "Google BigQuery\n",
            "Fivetran\n",
            "Hightouch\n"
          ]
        }
      ]
    },
    {
      "cell_type": "code",
      "source": [
        "for tools in soup_2.find_all('p')[2:-5]:\n",
        "  print(tools.contents)"
      ],
      "metadata": {
        "colab": {
          "base_uri": "https://localhost:8080/"
        },
        "id": "D_Kc5nxr87Lj",
        "outputId": "016d69c8-53fe-4242-9cc7-c7f63d4d60cb"
      },
      "execution_count": null,
      "outputs": [
        {
          "output_type": "stream",
          "name": "stdout",
          "text": [
            "['Looker']\n",
            "['Tableau']\n",
            "['Metabase']\n",
            "['Redshift']\n",
            "['Google BigQuery']\n",
            "['Fivetran']\n",
            "['Hightouch']\n"
          ]
        }
      ]
    },
    {
      "cell_type": "markdown",
      "source": [
        "We search rows by columns, first column with the category, next the different tools in this category. Built a dictionary with the data to save in variable."
      ],
      "metadata": {
        "id": "P0AjayS8yAov"
      }
    },
    {
      "cell_type": "code",
      "source": [
        "for tools in soup_2.find_all('div', 'p-3 row'):\n",
        "  for vendors in tools.find_all('h4'):\n",
        "    print([x for x in vendors.contents])\n",
        "    print([x.text for x in tools.find_all('p')])"
      ],
      "metadata": {
        "colab": {
          "base_uri": "https://localhost:8080/"
        },
        "id": "z6QV0izA-26a",
        "outputId": "498025fd-e0d1-47ce-dc22-837ad911b5de"
      },
      "execution_count": null,
      "outputs": [
        {
          "output_type": "stream",
          "name": "stdout",
          "text": [
            "['Business Intelligence (BI)']\n",
            "['Looker', 'Tableau', 'Metabase']\n",
            "['Data Warehouses']\n",
            "['Redshift', 'Google BigQuery']\n",
            "['ETL Tools']\n",
            "['Fivetran']\n",
            "['Reverse ETL Tools']\n",
            "['Hightouch']\n"
          ]
        }
      ]
    },
    {
      "cell_type": "code",
      "source": [
        "\n",
        "dict = {}\n",
        "\n",
        "for tools in soup_2.find_all('div', 'p-3 row'):\n",
        "  for vendors in tools.find_all('h4'):\n",
        "    x = vendors.text#[x for x in vendors.contents]\n",
        "    y = [x.text for x in tools.find_all('p')]\n",
        "    dict[x] = y\n",
        "\n",
        "print(dict)\n"
      ],
      "metadata": {
        "colab": {
          "base_uri": "https://localhost:8080/"
        },
        "id": "2dUJ3yt3b9pQ",
        "outputId": "7993610f-d773-4ea1-a264-d28d44d7e0d1"
      },
      "execution_count": null,
      "outputs": [
        {
          "output_type": "stream",
          "name": "stdout",
          "text": [
            "{'Business Intelligence (BI)': ['Looker', 'Tableau', 'Metabase'], 'Data Warehouses': ['Redshift', 'Google BigQuery'], 'ETL Tools': ['Fivetran'], 'Reverse ETL Tools': ['Hightouch']}\n"
          ]
        }
      ]
    },
    {
      "cell_type": "markdown",
      "source": [
        "For each enterprise, get the name and built the link url, then we found the data by category and tools. Save the data in a variable and append to variable and save in the file."
      ],
      "metadata": {
        "id": "N6liuMoqyl5w"
      }
    },
    {
      "cell_type": "code",
      "source": [
        "import json\n",
        "\n",
        "data_scrap = []\n",
        "\n",
        "for link in soup.find_all('h4'):\n",
        "\n",
        "  link_text = str(link.text)\n",
        "\n",
        "  if link_text.endswith(\" \"):\n",
        "    link_text = str(link.text)[:-1]\n",
        "\n",
        "  if link_text.lower() == 'angellist talent':\n",
        "    link_text = 'angellist'\n",
        "  elif link_text.lower() == \"feeld\":\n",
        "    link_text = \"fantastics\"\n",
        "  elif link_text.lower() == \"hashboard\":\n",
        "    link_text = \"glean\"\n",
        "  elif link_text.lower() == \"l'oréal\":\n",
        "    link_text = \"loreal\"\n",
        "  elif link_text.lower() == \"circleup\":\n",
        "    link_text = \"circleup-inc\"\n",
        "\n",
        "  print(link.text +':  ' +link_text.lower())\n",
        "  url_get = f\"https://www.moderndatastack.xyz/stacks/{str(link_text).lower().replace(' ','-').replace('&', '').replace('.','').replace(',','').replace('--','-').replace('(','').replace(')','')}\"\n",
        "  print(\">>>\" + url_get)\n",
        "  driver_2.get(url_get)\n",
        "  soup_2 = BeautifulSoup(driver_2.page_source, 'html.parser')\n",
        "  st_dict = {}\n",
        "\n",
        "  for tools in soup_2.find_all('div', 'p-3 row'):\n",
        "    for vendors in tools.find_all('h4'):\n",
        "      x = vendors.text#[x for x in vendors.contents]\n",
        "      y = [x.text for x in tools.find_all('p')]\n",
        "      st_dict[x] = y\n",
        "      print(x)\n",
        "      print(y)\n",
        "\n",
        "  enterprise = str(link_text).lower().replace(' ','-').replace('&', '').replace('.','').replace(',','').replace('--','-').replace('(','').replace(')','').capitalize()\n",
        "  data = {}\n",
        "  data = {'name': enterprise, 'tools': st_dict}\n",
        "  print(data)\n",
        "  data_scrap.append(data)\n",
        "\n",
        "# Convert the dictionary to a JSON string\n",
        "json_string = json.dumps(data_scrap)\n",
        "\n",
        "# Write the JSON string to a file\n",
        "with open('data.json', 'w') as outfile:\n",
        "    outfile.write(json_string)\n"
      ],
      "metadata": {
        "id": "8bItg294ytSx"
      },
      "execution_count": null,
      "outputs": []
    },
    {
      "cell_type": "code",
      "source": [
        "# prompt: read file json as dictionary\n",
        "\n",
        "import json\n",
        "data = None\n",
        "with open('data.json', 'r') as f:\n",
        "  data = json.load(f)\n",
        "\n",
        "print(data)"
      ],
      "metadata": {
        "colab": {
          "base_uri": "https://localhost:8080/"
        },
        "id": "2stD9-Kq3Ypm",
        "outputId": "f37f9f8e-6b23-46a6-bcc0-4950eda17975"
      },
      "execution_count": 1,
      "outputs": [
        {
          "output_type": "stream",
          "name": "stdout",
          "text": [
            "[{'name': 'Facts', 'tools': {'Customer Data Platform(CDP)': ['Segment'], 'Event Tracking': ['Segment'], 'Spreadsheet based BI': ['Rows.com'], 'Product Analytics': ['June'], 'Data Lakes': ['AWS S3']}}, {'name': '1mg', 'tools': {'Data Streaming': ['Apache Kafka'], 'Event Tracking': ['Rudderstack'], 'Reverse ETL Tools': ['Rudderstack'], 'Customer Data Platform(CDP)': ['Rudderstack'], 'ETL Tools': ['Rudderstack'], 'Data Warehouses': ['Google BigQuery', 'Redshift'], 'Data Lakes': ['AWS S3']}}, {'name': '3step-sports', 'tools': {'Business Intelligence (BI)': ['Tableau'], 'Data Warehouses': ['Snowflake'], 'ETL Tools': ['Airbyte'], 'Data Modelling and Transformation': ['dbt']}}, {'name': '5x', 'tools': {'ETL Tools': ['Fivetran'], 'Business Intelligence (BI)': ['Looker'], 'Data Modelling and Transformation': ['dbt'], 'Data Warehouses': ['Snowflake']}}, {'name': 'Adevinta', 'tools': {'Data Warehouses': ['Redshift'], 'ETL Tools': ['AWS Glue'], 'Data Lakes': ['AWS S3', 'Delta.io', 'Apache Hudi'], 'Business Intelligence (BI)': ['Tableau'], 'Data Modelling and Transformation': ['dbt', 'Apache Spark', 'AWS Athena'], 'Workflow Orchestration': ['Airflow', 'Argo'], 'Data Streaming': ['Apache Kafka', 'AWS Kinesis'], 'Data Quality Monitoring': ['Great Expectations', 'Soda']}}, {'name': 'Affirm', 'tools': {'Data Streaming': ['Apache Kafka'], 'Workflow Orchestration': ['Airflow'], 'Data Warehouses': ['Databricks', 'Snowflake'], 'Data Lakes': ['Databricks'], 'Data Modelling and Transformation': ['dbt']}}, {'name': 'Aggua', 'tools': {'Data Modelling and Transformation': ['dbt'], 'Business Intelligence (BI)': ['Looker'], 'ETL Tools': ['Fivetran'], 'Data Warehouses': ['Databricks'], 'Data Lakes': ['Databricks']}}, {'name': 'Airbnb', 'tools': {'No code automation': ['Integromat'], 'Business Intelligence (BI)': ['Tableau', 'Superset'], 'Customer Data Platform(CDP)': ['mparticle'], 'Data Lakes': ['AWS S3'], 'Workflow Orchestration': ['Airflow'], 'Data Warehouses': ['StarRocks']}}, {'name': 'Airbyte', 'tools': {'Customer Data Platform(CDP)': ['Segment'], 'Event Tracking': ['Segment'], 'Data Warehouses': ['Google BigQuery'], 'Data Modelling and Transformation': ['dbt'], 'ETL Tools': ['Airbyte'], 'Business Intelligence (BI)': ['Metabase'], 'Workflow Orchestration': ['Dagster']}}, {'name': 'Airtasker', 'tools': {'Data Warehouses': ['Snowflake'], 'Data Modelling and Transformation': ['dbt'], 'ETL Tools': ['Fivetran'], 'Customer Data Platform(CDP)': ['Segment'], 'Event Tracking': ['Segment'], 'Business Intelligence (BI)': ['Tableau']}}, {'name': 'Aldea-ventures', 'tools': {'Data Warehouses': ['Databricks', 'Snowflake'], 'Data Lakes': ['Databricks'], 'Spreadsheet based BI': ['Rows.com'], 'Workflow Orchestration': ['Astronomer'], 'Operational Analytics ': ['Netspring', 'Variance'], 'Reverse ETL Tools': ['Hightouch'], 'Data Streaming': ['AWS Kinesis'], 'Data Privacy and Governance': ['Privacera'], 'Synthetic Data': ['Datomize'], 'Feature Store': ['Tecton'], 'Business Reliability/Observability': ['Quantive Signals'], 'PLG CRM': ['Correlated', 'Variance'], 'Data Cataloging': ['data.world ', 'Secoda'], 'Data Discovery': ['Secoda'], 'Data Quality Monitoring': ['Monte Carlo Data'], 'Data Modelling and Transformation': ['dbt'], 'Business Intelligence (BI)': ['Looker'], 'ETL Tools': ['Fivetran'], 'Augmented Analytics': ['Sisu Data']}}, {'name': 'Aldefi', 'tools': {'ETL Tools': ['Airbyte'], 'Data Modelling and Transformation': ['dbt'], 'Business Intelligence (BI)': ['Looker'], 'Data Cataloging': ['Tableau Data Catalog']}}, {'name': 'Algomarketing', 'tools': {'Business Intelligence (BI)': ['Salesforce Einstein Analytics'], 'Data Warehouses': ['Google BigQuery']}}, {'name': 'Amazon', 'tools': {'Data Streaming': ['AWS Kinesis'], 'Data Lakes': ['AWS S3'], 'Data Warehouses': ['Redshift', 'Vertica'], 'Business Intelligence (BI)': ['Cluvio', 'Tableau']}}, {'name': 'Amino', 'tools': {'ETL Tools': ['Stitch'], 'Business Intelligence (BI)': ['Looker'], 'Workflow Orchestration': ['Dagster'], 'Data Modelling and Transformation': ['dbt'], 'Data Warehouses': ['Snowflake', 'Databricks'], 'Data Lakes': ['Databricks']}}, {'name': 'Amuse', 'tools': {'ETL Tools': ['Fivetran'], 'Data Modelling and Transformation': ['dbt'], 'Business Intelligence (BI)': ['Sigma'], 'Spreadsheet based BI': ['Sigma'], 'Data Warehouses': ['Snowflake']}}, {'name': 'Andersen-inc', 'tools': {'Spreadsheet based BI': ['Canvas']}}, {'name': 'Angellist', 'tools': {'Data Modelling and Transformation': ['dbt'], 'Reverse ETL Tools': ['Hightouch'], 'Business Intelligence (BI)': ['Metabase'], 'Data Warehouses': ['Redshift'], 'ETL Tools': ['AWS Glue'], 'Workflow Orchestration': ['Dagster'], 'Data Discovery': ['Secoda'], 'Data Cataloging': ['Secoda'], 'Data Lakes': ['AWS S3']}}, {'name': 'Apache-doris', 'tools': {'Data Streaming': ['Apache Flink'], 'Data Modelling and Transformation': ['Apache Spark'], 'Data Lakes': ['Apache Hudi']}}, {'name': 'App-creative', 'tools': {'Data Warehouses': ['Databricks'], 'Data Lakes': ['Databricks'], 'Data Streaming': ['AWS Kinesis']}}, {'name': 'Apple', 'tools': {'Data Lakes': ['Min.io']}}, {'name': 'Aritzia', 'tools': {'Data Warehouses': ['Google BigQuery'], 'Data Modelling and Transformation': ['Dataform'], 'Business Intelligence (BI)': ['Tableau'], 'Data Quality Monitoring': ['Anomalo'], 'Data Streaming': ['Beam'], 'Workflow Orchestration': ['Dagster'], 'Reverse ETL Tools': ['Hightouch']}}, {'name': 'Arka-energy', 'tools': {'Spreadsheet based BI': ['Rows.com']}}, {'name': 'Assent-inc', 'tools': {'Data Modelling and Transformation': ['dbt'], 'Reverse ETL Tools': ['Hightouch'], 'ETL Tools': ['Fivetran'], 'Data Warehouses': ['Snowflake'], 'Business Intelligence (BI)': ['Tableau']}}, {'name': 'Astrato-analytics', 'tools': {'Data Warehouses': ['Snowflake', 'Google BigQuery', 'Databricks', 'Azure Synapse Analytics', 'Dremio', 'Redshift'], 'Data Lakes': ['Databricks', 'Dremio'], 'ETL Tools': ['Matillion'], 'Business Intelligence (BI)': ['Astrato']}}, {'name': 'Atadataco', 'tools': {'Data Modelling and Transformation': ['dbt'], 'Business Intelligence (BI)': ['Looker', 'Sigma'], 'ETL Tools': ['Fivetran', 'Rudderstack'], 'Reverse ETL Tools': ['Hightouch', 'Rudderstack'], 'Workflow Orchestration': ['Shipyard'], 'Data Warehouses': ['Snowflake', 'Google BigQuery'], 'Customer Data Platform(CDP)': ['Segment', 'Rudderstack'], 'Event Tracking': ['Segment', 'Rudderstack'], 'Spreadsheet based BI': ['Canvas', 'Sigma']}}, {'name': 'Atlan', 'tools': {'Data Modelling and Transformation': ['dbt'], 'Business Intelligence (BI)': ['Looker'], 'Data Warehouses': ['Snowflake']}}, {'name': 'Automatad', 'tools': {'Data Streaming': ['Apache Kafka'], 'Business Intelligence (BI)': ['Redash'], 'Data Lakes': ['AWS S3']}}, {'name': 'Awmr', 'tools': {'Workflow Orchestration': ['Airflow']}}, {'name': 'Axs', 'tools': {'Data Warehouses': ['Databricks', 'Redshift', 'Snowflake'], 'Data Lakes': ['Databricks'], 'Workflow Orchestration': ['Airflow'], 'Data Modelling and Transformation': ['dbt'], 'Business Intelligence (BI)': ['Looker'], 'ETL Tools': ['Fivetran']}}, {'name': 'Azimo', 'tools': {'Business Intelligence (BI)': ['Domo'], 'Workflow Orchestration': ['Airflow', 'Google Cloud Composer'], 'Customer Data Platform(CDP)': ['Segment'], 'Event Tracking': ['Segment'], 'Data Modelling and Transformation': ['dbt']}}, {'name': 'Babylon-health', 'tools': {'Workflow Orchestration': ['Airflow'], 'Data Modelling and Transformation': ['dbt'], 'Business Intelligence (BI)': ['Looker', 'Tableau'], 'Data Warehouses': ['Google BigQuery']}}, {'name': 'Baobab-plus', 'tools': {'Data Modelling and Transformation': ['dbt'], 'Data Warehouses': ['Google BigQuery'], 'Business Intelligence (BI)': ['Power BI']}}, {'name': 'Beamery', 'tools': {'Data Modelling and Transformation': ['dbt'], 'Data Warehouses': ['Google BigQuery'], 'Business Intelligence (BI)': ['Tableau'], 'Workflow Orchestration': ['Airflow']}}, {'name': 'Bed-bath-and-beyond', 'tools': {'Business Intelligence (BI)': ['Domo', 'Microstrategy', 'Tableau'], 'Data Warehouses': ['Google BigQuery']}}, {'name': 'Bench-accounting', 'tools': {'Reverse ETL Tools': ['Census'], 'Data Modelling and Transformation': ['dbt'], 'ETL Tools': ['Fivetran', 'Stitch'], 'Business Intelligence (BI)': ['Tableau'], 'Data Warehouses': ['Redshift']}}, {'name': 'Betterment', 'tools': {'Data Modelling and Transformation': ['dbt'], 'Customer Data Platform(CDP)': ['Segment'], 'Event Tracking': ['Segment'], 'Data Lakes': ['AWS S3'], 'Business Intelligence (BI)': ['Looker'], 'Workflow Orchestration': ['Airflow']}}, {'name': 'Bitmetric', 'tools': {'Business Intelligence (BI)': ['Qlikview', 'Power BI', 'Astrato'], 'Data Cataloging': ['Qlikview'], 'Data Lakes': ['Azure Cloud Storage'], 'ETL Tools': ['Azure data factory', 'Talend'], 'Data Warehouses': ['Azure Synapse Analytics', 'Google BigQuery', 'Snowflake'], 'Data Privacy and Governance': ['Talend']}}, {'name': 'Blablacar', 'tools': {'Business Intelligence (BI)': ['Tableau'], 'Data Warehouses': ['Google BigQuery'], 'Data Streaming': ['Beam', 'Google Cloud Dataflow', 'Apache Kafka']}}, {'name': 'Bld', 'tools': {'Metrics Store': ['Cube'], 'Data Streaming': ['Redpanda', 'Materialize'], 'Data Warehouses': ['Google BigQuery'], 'Business Intelligence (BI)': ['Metabase'], 'Data Lakes': ['Google Cloud Storage']}}, {'name': 'Blue-shell-consulting', 'tools': {'ETL Tools': ['Fivetran'], 'Data Modelling and Transformation': ['dbt'], 'Data Warehouses': ['Snowflake'], 'Business Intelligence (BI)': ['Mode'], 'Data Cataloging': ['Stemma AI'], 'Data Discovery': ['Stemma AI']}}, {'name': 'Bol', 'tools': {'Data Modelling and Transformation': ['dbt'], 'Workflow Orchestration': ['Airflow']}}, {'name': 'Bolt', 'tools': {'Business Intelligence (BI)': ['Looker', 'Tableau', 'Metabase'], 'Data Warehouses': ['Redshift', 'Google BigQuery'], 'ETL Tools': ['Fivetran'], 'Reverse ETL Tools': ['Hightouch']}}, {'name': 'Branch-energy', 'tools': {'ETL Tools': ['Fivetran', 'Stitch'], 'Data Modelling and Transformation': ['dbt'], 'Workflow Orchestration': ['Airflow'], 'Data Warehouses': ['Snowflake'], 'Data Lakes': ['AWS S3'], 'Data Workspace/ Collaboration': ['Hex'], 'Reverse ETL Tools': ['Census']}}, {'name': 'Brooklyn-data-co', 'tools': {'ETL Tools': ['Fivetran', 'Rudderstack', 'Meltano', 'Stitch', 'Supermetrics', 'Airbyte', 'Matillion'], 'Data Modelling and Transformation': ['dbt'], 'Reverse ETL Tools': ['Hightouch', 'Census', 'Rudderstack'], 'Business Intelligence (BI)': ['Looker', 'Mode', 'Sigma', 'Tableau', 'Lightdash'], 'Workflow Orchestration': ['Astronomer', 'Airflow', 'Dagster'], 'Data Warehouses': ['Databricks', 'Snowflake', 'Google BigQuery', 'Firebolt', 'Redshift'], 'Data Lakes': ['Databricks'], 'Product Analytics': ['Heap', 'Mixpanel'], 'Event Tracking': ['Rudderstack', 'Segment', 'Snowplow'], 'Customer Data Platform(CDP)': ['Rudderstack', 'Segment', 'mparticle', 'Simon'], 'Spreadsheet based BI': ['Sigma'], 'Data Privacy and Governance': ['Privacy Dynamics'], 'Change Data Capture': ['HVR'], 'Data Quality Monitoring': ['Bigeye', 'Anomalo', 'Databand', 'Monte Carlo Data', 'Spectacles', 'Metaplane', 'Datafold'], 'Data Discovery': ['Select Star', 'Secoda'], 'Data Cataloging': ['Select Star', 'Secoda'], 'Metrics Store': ['Transform Data', 'Lightdash'], 'Data Streaming': ['Materialize', 'Apache Kafka'], 'Data Apps': ['Streamlit']}}, {'name': 'Bukuwarung', 'tools': {'ETL Tools': ['Stitch'], 'Data Warehouses': ['Google BigQuery'], 'Workflow Orchestration': ['Airflow'], 'Data Streaming': ['Apache Kafka'], 'Business Intelligence (BI)': ['Tableau'], 'Data Cataloging': ['Data Hub'], 'Data Discovery': ['Data Hub']}}, {'name': 'By-aliens', 'tools': {'Workflow Orchestration': ['Airflow'], 'Data Warehouses': ['Google BigQuery']}}, {'name': 'Bytewax', 'tools': {'Spreadsheet based BI': ['Rows.com']}}, {'name': 'Call-criteria-quality-assurance-software', 'tools': {'Spreadsheet based BI': ['Rows.com']}}, {'name': 'Canva', 'tools': {'Reverse ETL Tools': ['Census'], 'Data Warehouses': ['Snowflake'], 'Data Modelling and Transformation': ['dbt'], 'Data Lakes': ['AWS S3'], 'Business Intelligence (BI)': ['Looker', 'Mode'], 'ETL Tools': ['Fivetran'], 'Data Discovery': ['Atlan'], 'Data Cataloging': ['Atlan']}}, {'name': 'Capdesk', 'tools': {'ETL Tools': ['Fivetran'], 'Business Intelligence (BI)': ['Looker'], 'Data Modelling and Transformation': ['dbt'], 'Data Warehouses': ['Snowflake'], 'Data Quality Monitoring': ['Spectacles']}}, {'name': 'Cargo', 'tools': {'Data Modelling and Transformation': ['dbt']}}, {'name': 'Catch-co', 'tools': {'Data Warehouses': ['Redshift'], 'Data Modelling and Transformation': ['dbt'], 'Business Intelligence (BI)': ['Looker'], 'ETL Tools': ['Fivetran', 'Stitch']}}, {'name': 'Catchcomau', 'tools': {'Data Warehouses': ['Redshift', 'Snowflake'], 'Workflow Orchestration': ['Airflow'], 'Data Discovery': ['Alation'], 'Data Cataloging': ['Alation'], 'Business Intelligence (BI)': ['Tableau'], 'Data Lakes': ['AWS S3']}}, {'name': 'Checkr', 'tools': {'Data Warehouses': ['Snowflake'], 'Data Streaming': ['Apache Kafka'], 'Workflow Orchestration': ['Airflow'], 'Data Modelling and Transformation': ['dbt']}}, {'name': 'Chime', 'tools': {'Customer Data Platform(CDP)': ['Segment'], 'Event Tracking': ['Segment'], 'Business Intelligence (BI)': ['Looker'], 'Data Workspace/ Collaboration': ['Hex'], 'ETL Tools': ['Fivetran'], 'Data Warehouses': ['Snowflake']}}, {'name': 'Chongtechnologies', 'tools': {'Data Warehouses': ['Databricks', 'Azure Synapse Analytics'], 'Data Lakes': ['Databricks', 'Azure Cloud Storage', 'AWS S3'], 'Data Streaming': ['Apache Kafka', 'KsqlDB', 'Apache Flink'], 'Data Modelling and Transformation': ['Apache Spark'], 'ETL Tools': ['Azure data factory'], 'Business Intelligence (BI)': ['Superset', 'Power BI']}}, {'name': 'Chownow', 'tools': {'Data Warehouses': ['Snowflake'], 'ETL Tools': ['Fivetran', 'Matillion'], 'Data Modelling and Transformation': ['dbt'], 'Data Lakes': ['AWS S3']}}, {'name': 'Ciclic', 'tools': {'Data Modelling and Transformation': ['dbt'], 'Business Intelligence (BI)': ['Metabase', 'Power BI'], 'Workflow Orchestration': ['Airflow'], 'Data Warehouses': ['Redshift'], 'ETL Tools': ['Airbyte']}}, {'name': 'Circleup-inc', 'tools': {'Workflow Orchestration': ['Airflow'], 'Data Modelling and Transformation': ['Apache Spark'], 'Data Lakes': ['AWS S3', 'Google Cloud Storage'], 'Data Warehouses': ['Google BigQuery', 'Hive'], 'Business Intelligence (BI)': ['Metabase', 'Looker', 'Tableau'], 'Data Streaming': ['Apache Kafka']}}, {'name': 'Clark', 'tools': {'Business Intelligence (BI)': ['Superset'], 'Product Analytics': ['Mixpanel'], 'Data Warehouses': ['Redshift'], 'Workflow Orchestration': ['Airflow'], 'Data Modelling and Transformation': ['dbt'], 'Data Streaming': ['AWS Kinesis'], 'ETL Tools': ['Fivetran'], 'Reverse ETL Tools': ['Hightouch']}}, {'name': 'Classy', 'tools': {'ETL Tools': ['Fivetran'], 'Data Warehouses': ['Redshift'], 'Data Lakes': ['AWS S3'], 'Business Intelligence (BI)': ['Looker'], 'Data Modelling and Transformation': ['dbt']}}, {'name': 'Clearbit', 'tools': {'Customer Data Platform(CDP)': ['Segment'], 'Event Tracking': ['Segment'], 'No code automation': ['Tray.io'], 'Data Warehouses': ['Redshift'], 'Data Modelling and Transformation': ['dbt'], 'ETL Tools': ['Stitch'], 'Business Intelligence (BI)': ['Mode'], 'Reverse ETL Tools': ['Census']}}, {'name': 'Clearcover', 'tools': {'ETL Tools': ['Fivetran', 'Alooma'], 'Business Intelligence (BI)': ['Looker'], 'Data Modelling and Transformation': ['dbt'], 'Data Warehouses': ['Redshift', 'Snowflake']}}, {'name': 'Clevermaps', 'tools': {'Data Workspace/ Collaboration': ['Keboola'], 'Managed Data Stack': ['Keboola'], 'Business Intelligence (BI)': ['GoodData', 'CleverMaps'], 'Metrics Store': ['GoodData'], 'Workflow Orchestration': ['Dagster'], 'Data Modelling and Transformation': ['dbt'], 'Data Lakes': ['AWS S3'], 'Data Apps': ['Streamlit']}}, {'name': 'Clickhouse', 'tools': {'Data Streaming': ['Apache Kafka']}}, {'name': 'Clickup', 'tools': {'Reverse ETL Tools': ['Census'], 'Data Lakes': ['AWS S3'], 'ETL Tools': ['Fivetran'], 'Data Modelling and Transformation': ['dbt'], 'Business Intelligence (BI)': ['Tableau']}}, {'name': 'Cloudfit', 'tools': {'ETL Tools': ['Fivetran'], 'Business Intelligence (BI)': ['Looker'], 'Data Modelling and Transformation': ['dbt'], 'Data Warehouses': ['Google BigQuery']}}, {'name': 'Coca-cola', 'tools': {'Augmented Analytics': ['Yellowfinbi'], 'Data Quality Monitoring': ['ClueDin'], 'Data Cataloging': ['Dataedo'], 'Business Intelligence (BI)': ['Salesforce Einstein Analytics'], 'Data Streaming': ['AWS Kinesis']}}, {'name': 'Coginiti', 'tools': {'Business Intelligence (BI)': ['Power BI'], 'Data Workspace/ Collaboration': ['Coginiti'], 'Reverse ETL Tools': ['Census'], 'ETL Tools': ['Hevo Data']}}, {'name': 'Collectors-universe', 'tools': {'Data Workspace/ Collaboration': ['Hex'], 'ETL Tools': ['Stitch'], 'Business Intelligence (BI)': ['Tableau'], 'Data Modelling and Transformation': ['dbt'], 'Data Warehouses': ['Google BigQuery']}}, {'name': 'Collibra', 'tools': {'Data Modelling and Transformation': ['Apache Spark', 'dbt'], 'Workflow Orchestration': ['Airflow'], 'Data Lakes': ['AWS S3'], 'Business Intelligence (BI)': ['Redash', 'Tableau'], 'ETL Tools': ['Fivetran'], 'Data Warehouses': ['Redshift']}}, {'name': 'Construct-connect', 'tools': {'Data Warehouses': ['Google BigQuery'], 'ETL Tools': ['Fivetran'], 'Data Modelling and Transformation': ['dbt'], 'Business Intelligence (BI)': ['Power BI']}}, {'name': 'Contentful', 'tools': {'Business Intelligence (BI)': ['Looker', 'Redash'], 'Data Modelling and Transformation': ['dbt'], 'Data Streaming': ['Apache Kafka'], 'Workflow Orchestration': ['Airflow'], 'Customer Data Platform(CDP)': ['Segment'], 'Event Tracking': ['Segment'], 'Data Warehouses': ['Redshift'], 'Data Lakes': ['AWS S3'], 'ETL Tools': ['Stitch']}}, {'name': 'Convoy', 'tools': {'Data Cataloging': ['Stemma AI'], 'Data Discovery': ['Stemma AI'], 'Business Intelligence (BI)': ['Metabase', 'Tableau'], 'Data Modelling and Transformation': ['dbt'], 'Data Warehouses': ['Snowflake'], 'ETL Tools': ['Fivetran'], 'Workflow Orchestration': ['Airflow'], 'Data Streaming': ['Apache Kafka']}}, {'name': 'Coral', 'tools': {'Data Modelling and Transformation': ['dbt', 'AWS Athena'], 'Data Warehouses': ['Redshift'], 'Metrics Store': ['Lightdash'], 'Business Intelligence (BI)': ['Lightdash'], 'ETL Tools': ['AWS Glue', 'Airbyte'], 'Data Lakes': ['AWS S3']}}, {'name': 'Cortex', 'tools': {'Data Warehouses': ['Databricks', 'Snowflake'], 'Data Lakes': ['Databricks'], 'Data Streaming': ['Apache Kafka', 'Apache Flink'], 'Workflow Orchestration': ['Airflow']}}, {'name': 'Coverflex', 'tools': {'ETL Tools': ['Fivetran', 'Stitch'], 'Data Modelling and Transformation': ['dbt'], 'Data Warehouses': ['Google BigQuery'], 'Customer Data Platform(CDP)': ['Segment'], 'Event Tracking': ['Segment'], 'Metrics Store': ['Lightdash'], 'Business Intelligence (BI)': ['Lightdash'], 'Data Lakes': ['Google Cloud Storage']}}, {'name': 'Craft', 'tools': {'Data Streaming': ['AWS Kinesis'], 'ETL Tools': ['AWS Glue'], 'Data Modelling and Transformation': ['AWS Athena'], 'Data Lakes': ['AWS S3'], 'Workflow Orchestration': ['Airflow'], 'Data Warehouses': ['Redshift'], 'Product Analytics': ['Pendo']}}, {'name': 'Createthink', 'tools': {'Data Warehouses': ['Databricks'], 'Data Lakes': ['Databricks']}}, {'name': 'Creditxpert', 'tools': {'Business Intelligence (BI)': ['Looker'], 'ETL Tools': ['Fivetran'], 'Data Warehouses': ['Snowflake'], 'Data Modelling and Transformation': ['dbt']}}, {'name': 'Cube-dev', 'tools': {'Metrics Store': ['Cube']}}, {'name': 'Culture-amp', 'tools': {'Data Privacy and Governance': ['Avo'], 'Product Analytics': ['Avo'], 'Data Modelling and Transformation': ['dbt'], 'Customer Data Platform(CDP)': ['Segment'], 'Event Tracking': ['Segment'], 'Business Intelligence (BI)': ['Looker', 'Salesforce Einstein Analytics'], 'ETL Tools': ['Fivetran'], 'Reverse ETL Tools': ['Census']}}, {'name': 'Custom-ink', 'tools': {'Business Intelligence (BI)': ['Tableau', 'Metabase'], 'Data Warehouses': ['Redshift'], 'Data Modelling and Transformation': ['dbt'], 'Workflow Orchestration': ['Airflow']}}, {'name': 'Customer', 'tools': {'ETL Tools': ['Stitch'], 'Customer Data Platform(CDP)': ['Segment'], 'Event Tracking': ['Segment'], 'Data Warehouses': ['Snowflake'], 'Data Modelling and Transformation': ['dbt'], 'Business Intelligence (BI)': ['Mode']}}, {'name': 'Dadosfera', 'tools': {'Data Modelling and Transformation': ['dbt', 'AWS Athena', 'Apache Spark'], 'Data Lakes': ['AWS S3'], 'ETL Tools': ['AWS Glue'], 'Data Streaming': ['AWS Kinesis']}}, {'name': 'Dashlane', 'tools': {'Data Modelling and Transformation': ['dbt', 'AWS Athena', 'Apache Spark'], 'Data Streaming': ['AWS Kinesis'], 'ETL Tools': ['Airbyte', 'AWS Glue'], 'Workflow Orchestration': ['Airflow'], 'Business Intelligence (BI)': ['Tableau'], 'Data Lakes': ['AWS S3'], 'Data Quality Monitoring': ['Elementary Data'], 'Reverse ETL Tools': ['Hightouch'], 'Data Warehouses': ['Redshift']}}, {'name': 'Databandcom', 'tools': {'Data Warehouses': ['Databricks'], 'Data Lakes': ['Databricks'], 'Data Modelling and Transformation': ['Apache Spark'], 'Data Quality Monitoring': ['Databand'], 'Workflow Orchestration': ['Airflow']}}, {'name': 'Datacoves', 'tools': {'Data Modelling and Transformation': ['dbt', 'Datameer'], 'Workflow Orchestration': ['Airflow'], 'Business Intelligence (BI)': ['Superset', 'Tableau', 'Power BI', 'Looker', 'Hashboard'], 'ETL Tools': ['Airbyte', 'Fivetran', 'StreamSets'], 'Data Warehouses': ['Snowflake', 'Databricks', 'Redshift', 'Google BigQuery'], 'Data Lakes': ['Databricks'], 'Data Apps': ['Streamlit'], 'Data Discovery': ['Alation', 'Collibra'], 'Data Cataloging': ['Alation', 'Collibra'], 'Data Privacy and Governance': ['Collibra'], 'Reverse ETL Tools': ['Hightouch'], 'Data Streaming': ['StreamSets']}}, {'name': 'Dataddo', 'tools': {'ETL Tools': ['Dataddo'], 'Data Warehouses': ['Google BigQuery'], 'Business Intelligence (BI)': ['Power BI', 'Tableau']}}, {'name': 'Datafold', 'tools': {'Business Intelligence (BI)': ['Looker'], 'Reverse ETL Tools': ['Hightouch'], 'Data Modelling and Transformation': ['dbt'], 'Data Quality Monitoring': ['Datafold'], 'Data Warehouses': ['Snowflake'], 'Data Workspace/ Collaboration': ['Hex']}}, {'name': 'Datainsider', 'tools': {'Data Streaming': ['Apache Kafka']}}, {'name': 'Datalab', 'tools': {'ETL Tools': ['Fivetran', 'Matillion'], 'Data Warehouses': ['Snowflake'], 'Business Intelligence (BI)': ['Power BI'], 'Augmented Analytics': ['ThoughtSpot'], 'Data Modelling and Transformation': ['dbt']}}, {'name': 'Datarobot', 'tools': {'Data Warehouses': ['Snowflake', 'Redshift'], 'ETL Tools': ['Stitch'], 'Workflow Orchestration': ['Airflow'], 'Data Streaming': ['AWS Kinesis']}}, {'name': 'Datazip', 'tools': {'Data Modelling and Transformation': ['dbt'], 'Customer Data Platform(CDP)': ['Jitsu'], 'Business Intelligence (BI)': ['Superset']}}, {'name': 'Datuumai', 'tools': {'ETL Tools': ['Airbyte'], 'Data Lakes': ['Google Cloud Storage'], 'Data Modelling and Transformation': ['dbt']}}, {'name': 'Decisiontree-analytics', 'tools': {'ETL Tools': ['Data Channel'], 'Data Warehouses': ['Redshift', 'Google BigQuery'], 'Business Intelligence (BI)': ['Tableau']}}, {'name': 'Decisiontree-analytics-services', 'tools': {'ETL Tools': ['Data Channel'], 'Data Warehouses': ['Redshift', 'Google BigQuery'], 'Business Intelligence (BI)': ['Tableau']}}, {'name': 'Decisiontree-analytics-and-services', 'tools': {'ETL Tools': ['Data Channel'], 'Data Warehouses': ['Redshift'], 'Business Intelligence (BI)': ['Tableau']}}, {'name': 'Decube', 'tools': {'Data Warehouses': ['Redshift'], 'Data Lakes': ['AWS S3']}}, {'name': 'Deepnote', 'tools': {'Data Warehouses': ['Google BigQuery', 'Snowflake'], 'ETL Tools': ['Stitch']}}, {'name': 'Definite', 'tools': {'ETL Tools': ['Fivetran', 'Airbyte'], 'Data Modelling and Transformation': ['dbt'], 'Data Warehouses': ['Snowflake'], 'Workflow Orchestration': ['Airflow']}}, {'name': 'Deliveroo', 'tools': {'Data Lakes': ['AWS S3'], 'Business Intelligence (BI)': ['Looker', 'Tableau'], 'Data Warehouses': ['Snowflake', 'Redshift'], 'Customer Data Platform(CDP)': ['Segment'], 'Event Tracking': ['Segment']}}, {'name': 'Delivery-hero', 'tools': {'Data Lakes': ['AWS S3'], 'Workflow Orchestration': ['Airflow'], 'Data Privacy and Governance': ['Avo'], 'Product Analytics': ['Avo']}}, {'name': 'Devoted-health', 'tools': {'Workflow Orchestration': ['Airflow'], 'Data Modelling and Transformation': ['dbt'], 'Data Warehouses': ['Snowflake']}}, {'name': 'Dialogue', 'tools': {'Business Intelligence (BI)': ['Metabase', 'Looker'], 'ETL Tools': ['Fivetran'], 'Data Warehouses': ['Snowflake'], 'Event Tracking': ['Snowplow'], 'Data Modelling and Transformation': ['dbt']}}, {'name': 'Dinmo', 'tools': {'Data Warehouses': ['Databricks', 'Google BigQuery', 'Snowflake'], 'Data Lakes': ['Databricks']}}, {'name': 'Dotz-inc', 'tools': {'Workflow Orchestration': ['Airflow', 'Google Cloud Composer'], 'Data Lakes': ['Google Cloud Storage'], 'Data Streaming': ['Google Cloud Dataflow'], 'Data Cataloging': ['Google Data Catalog', 'Qlikview'], 'Data Modelling and Transformation': ['Apache Spark', 'Dataform'], 'Data Warehouses': ['Google BigQuery'], 'Business Intelligence (BI)': ['Tableau', 'Qlikview', 'Looker'], 'Data Discovery': ['Google cloud data catalog & discovery']}}, {'name': 'Dqlabs-inc', 'tools': {'Data Warehouses': ['Snowflake']}}, {'name': 'Dribbble', 'tools': {'Business Intelligence (BI)': ['Metabase'], 'Data Modelling and Transformation': ['dbt'], 'Customer Data Platform(CDP)': ['Iteratively'], 'Data Warehouses': ['Snowflake'], 'Workflow Orchestration': ['Dagster'], 'Event Tracking': ['Snowplow'], 'ETL Tools': ['Fivetran']}}, {'name': 'Drizly', 'tools': {'Business Intelligence (BI)': ['Looker'], 'ETL Tools': ['Fivetran'], 'Data Warehouses': ['Databricks', 'Snowflake'], 'Data Lakes': ['Databricks'], 'Data Streaming': ['Confluent', 'Materialize'], 'Data Modelling and Transformation': ['dbt']}}, {'name': 'Dutchie', 'tools': {'Business Intelligence (BI)': ['Looker'], 'ETL Tools': ['Fivetran'], 'Data Warehouses': ['Snowflake'], 'Data Modelling and Transformation': ['dbt'], 'Workflow Orchestration': ['Dagster']}}, {'name': 'Dwhdev', 'tools': {'Data Warehouses': ['Snowflake']}}, {'name': 'Ebury', 'tools': {'Data Modelling and Transformation': ['dbt'], 'Data Warehouses': ['Google BigQuery'], 'Workflow Orchestration': ['Airflow'], 'Data Workspace/ Collaboration': ['Hex'], 'ETL Tools': ['Hevo Data'], 'Customer Data Platform(CDP)': ['Segment'], 'Event Tracking': ['Segment'], 'Business Intelligence (BI)': ['Looker']}}, {'name': 'Egnyte', 'tools': {'Data Modelling and Transformation': ['dbt'], 'Data Warehouses': ['Google BigQuery'], 'ETL Tools': ['Fivetran'], 'Augmented Analytics': ['Sisu Data']}}, {'name': 'Electric', 'tools': {'Business Intelligence (BI)': ['Looker'], 'Data Warehouses': ['Snowflake'], 'Product Analytics': ['Pendo'], 'Data Streaming': ['AWS Kinesis'], 'ETL Tools': ['Stitch'], 'Data Modelling and Transformation': ['dbt'], 'No code automation': ['Celigo']}}, {'name': 'Envoy', 'tools': {'ETL Tools': ['Stitch'], 'Customer Data Platform(CDP)': ['Segment'], 'Event Tracking': ['Segment'], 'Workflow Orchestration': ['Airflow'], 'Business Intelligence (BI)': ['Looker'], 'Data Modelling and Transformation': ['dbt'], 'Data Warehouses': ['Redshift']}}, {'name': 'Estuary', 'tools': {'Reverse ETL Tools': ['Hightouch']}}, {'name': 'Etna-research', 'tools': {'Data Lakes': ['AWS S3']}}, {'name': 'Eureka-inc', 'tools': {'Data Modelling and Transformation': ['dbt'], 'Data Cataloging': ['Google Data Catalog'], 'Business Intelligence (BI)': ['Tableau'], 'ETL Tools': ['Fivetran']}}, {'name': 'Ez-texting', 'tools': {'Data Warehouses': ['Google BigQuery'], 'Workflow Orchestration': ['Airflow'], 'ETL Tools': ['Fivetran'], 'Data Modelling and Transformation': ['dbt'], 'Business Intelligence (BI)': ['Tableau']}}, {'name': 'Facebook', 'tools': {'Customer Data Platform(CDP)': ['Segment'], 'Event Tracking': ['Segment'], 'Data Warehouses': ['Vertica', 'Snowflake'], 'Data Cataloging': ['Cloudera'], 'Business Intelligence (BI)': ['Tableau', 'Microstrategy'], 'ETL Tools': ['Matillion']}}, {'name': 'Fanatics-inc', 'tools': {}}, {'name': 'Fantastics', 'tools': {}}, {'name': 'Fetch-rewards', 'tools': {'Workflow Orchestration': ['Airflow'], 'Data Quality Monitoring': ['Great Expectations'], 'Business Intelligence (BI)': ['Superset', 'Tableau'], 'Data Streaming': ['Apache Kafka', 'Apache Flink', 'AWS Kinesis'], 'Data Lakes': ['Apache Hudi'], 'Data Warehouses': ['Snowflake'], 'Data Modelling and Transformation': ['Apache Spark', 'dbt']}}, {'name': 'Fig-tech', 'tools': {'ETL Tools': ['Fivetran'], 'Data Modelling and Transformation': ['dbt'], 'Data Warehouses': ['Snowflake'], 'Business Intelligence (BI)': ['Looker']}}, {'name': 'Figs', 'tools': {'ETL Tools': ['Fivetran'], 'Data Modelling and Transformation': ['dbt'], 'Business Intelligence (BI)': ['Looker'], 'Data Warehouses': ['Snowflake']}}, {'name': 'Flatfile', 'tools': {'Customer Data Platform(CDP)': ['Segment'], 'Event Tracking': ['Segment'], 'Data Warehouses': ['Google BigQuery'], 'Data Modelling and Transformation': ['dbt'], 'ETL Tools': ['Stitch'], 'Reverse ETL Tools': ['Hightouch']}}, {'name': 'Flawless', 'tools': {'Data Modelling and Transformation': ['dbt'], 'ETL Tools': ['Fivetran'], 'Business Intelligence (BI)': ['Metabase']}}, {'name': 'Flex', 'tools': {'Business Intelligence (BI)': ['Looker'], 'Data Warehouses': ['Google BigQuery'], 'Data Modelling and Transformation': ['dbt']}}, {'name': 'Flipkart', 'tools': {'Customer Data Platform(CDP)': ['Segment'], 'Event Tracking': ['Segment'], 'Data Streaming': ['Apache Kafka', 'Apache Flink', 'Apache Storm'], 'No code automation': ['Kissflow'], 'Business Intelligence (BI)': ['Power BI', 'Tableau']}}, {'name': 'Flixbus', 'tools': {'Business Intelligence (BI)': ['Qlikview', 'Tableau'], 'Data Cataloging': ['Qlikview'], 'ETL Tools': ['Matillion'], 'Data Lakes': ['Azure Cloud Storage', 'AWS S3']}}, {'name': 'Flock-freight', 'tools': {'Business Intelligence (BI)': ['Mode', 'Sigma'], 'Data Warehouses': ['Snowflake'], 'Workflow Orchestration': ['Argo'], 'Spreadsheet based BI': ['Sigma'], 'Data Modelling and Transformation': ['dbt']}}, {'name': 'Flowcode', 'tools': {'Business Intelligence (BI)': ['Looker'], 'Data Warehouses': ['Snowflake'], 'Workflow Orchestration': ['Airflow'], 'Data Modelling and Transformation': ['dbt'], 'ETL Tools': ['Fivetran']}}, {'name': 'Forkbomb', 'tools': {'Metrics Store': ['Cube'], 'ETL Tools': ['Airbyte', 'Rudderstack'], 'Data Modelling and Transformation': ['dbt'], 'Event Tracking': ['Rudderstack'], 'Reverse ETL Tools': ['Rudderstack'], 'Customer Data Platform(CDP)': ['Rudderstack'], 'Business Intelligence (BI)': ['Superset']}}, {'name': 'Fox', 'tools': {'Data Modelling and Transformation': ['AWS Athena', 'Apache Spark'], 'Data Quality Monitoring': ['Monte Carlo Data'], 'Business Intelligence (BI)': ['Tableau', 'Looker'], 'Data Warehouses': ['Redshift'], 'ETL Tools': ['Matillion']}}, {'name': 'Fragment-studio', 'tools': {'Data Warehouses': ['Google BigQuery'], 'Data Lakes': ['Google Cloud Storage'], 'ETL Tools': ['Funnel.io'], 'Business Intelligence (BI)': ['Power BI'], 'Data Modelling and Transformation': ['dbt']}}, {'name': 'Freshly-cosmetic', 'tools': {'ETL Tools': ['Hevo Data'], 'Workflow Orchestration': ['Airflow'], 'Data Warehouses': ['Google BigQuery'], 'Data Modelling and Transformation': ['dbt']}}, {'name': 'Fullscript', 'tools': {'ETL Tools': ['Fivetran'], 'Data Modelling and Transformation': ['dbt'], 'Data Warehouses': ['Snowflake']}}, {'name': 'Gaia-gps', 'tools': {'Business Intelligence (BI)': ['Tableau', 'Mode'], 'Data Warehouses': ['Snowflake']}}, {'name': 'Gamechanger', 'tools': {'Data Streaming': ['Apache Kafka'], 'Data Lakes': ['AWS S3'], 'Event Tracking': ['Snowplow'], 'Data Modelling and Transformation': ['dbt'], 'Workflow Orchestration': ['Airflow'], 'Business Intelligence (BI)': ['Looker'], 'Data Workspace/ Collaboration': ['Hex'], 'ETL Tools': ['Fivetran'], 'Data Warehouses': ['Snowflake']}}, {'name': 'Getindata', 'tools': {'Data Warehouses': ['Databricks', 'Snowflake', 'Google BigQuery', 'Redshift'], 'Data Lakes': ['Databricks', 'Google Cloud Storage', 'Starburst'], 'ETL Tools': ['Fivetran', 'Airbyte'], 'Business Intelligence (BI)': ['Looker', 'Tableau'], 'Data Modelling and Transformation': ['dbt', 'Apache Spark'], 'Data Streaming': ['Apache Flink', 'Apache Kafka', 'Google Cloud Dataflow', 'Ververica', 'Confluent', 'AWS Kinesis'], 'Workflow Orchestration': ['Astronomer', 'Google Cloud Composer', 'Airflow', 'Kubeflow', 'Argo'], 'Data Discovery': ['Google cloud data catalog & discovery', 'Marquez', 'Data Hub'], 'Data Quality Monitoring': ['Monte Carlo Data', 'Great Expectations'], 'Data Cataloging': ['Marquez', 'Data Hub', 'Datakin'], 'Change Data Capture': ['Debezium'], 'Data Mesh': ['Starburst']}}, {'name': 'Getsales', 'tools': {'Business Intelligence (BI)': ['Tableau', 'Salesforce Einstein Analytics'], 'Data Warehouses': ['Google BigQuery'], 'Workflow Orchestration': ['Airflow'], 'Data Modelling and Transformation': ['dbt'], 'ETL Tools': ['Fivetran']}}, {'name': 'Givedirectly', 'tools': {'Business Intelligence (BI)': ['Sisense'], 'Data Warehouses': ['Redshift'], 'ETL Tools': ['Stitch']}}, {'name': 'Goat', 'tools': {'Data Warehouses': ['Snowflake'], 'ETL Tools': ['Fivetran'], 'Business Intelligence (BI)': ['Mode'], 'Data Modelling and Transformation': ['dbt']}}, {'name': 'Gocanvas', 'tools': {'Data Modelling and Transformation': ['dbt'], 'Workflow Orchestration': ['Airflow'], 'Business Intelligence (BI)': ['Looker']}}, {'name': 'Good-apple-foods', 'tools': {'Business Intelligence (BI)': ['Looker'], 'Data Modelling and Transformation': ['Rivery.io'], 'ETL Tools': ['Rivery.io'], 'Workflow Orchestration': ['Rivery.io'], 'Data Warehouses': ['Snowflake']}}, {'name': 'Good-eggs', 'tools': {'Workflow Orchestration': ['Dagster'], 'Business Intelligence (BI)': ['Mode'], 'ETL Tools': ['Stitch'], 'Data Warehouses': ['Snowflake'], 'Data Modelling and Transformation': ['dbt']}}, {'name': 'Google', 'tools': {'Business Intelligence (BI)': ['Tableau', 'Sisense', 'Looker', 'Microstrategy'], 'Feature Store': ['iguazio'], 'Workflow Orchestration': ['Argo'], 'Data Warehouses': ['Databricks', 'Redshift'], 'Data Lakes': ['Databricks'], 'Data Streaming': ['Apache Storm'], 'Data Cataloging': ['Cloudera']}}, {'name': 'Google-dev-library', 'tools': {'Data Lakes': ['Google Cloud Storage']}}, {'name': 'Gopuff', 'tools': {'Business Intelligence (BI)': ['Looker', 'Sigma'], 'Customer Data Platform(CDP)': ['Segment'], 'Event Tracking': ['Segment'], 'Spreadsheet based BI': ['Sigma'], 'Data Quality Monitoring': ['Spectacles'], 'Data Modelling and Transformation': ['dbt'], 'Data Warehouses': ['Snowflake']}}, {'name': 'Gousto', 'tools': {'Data Lakes': ['AWS S3', 'Databricks'], 'Data Warehouses': ['Databricks']}}, {'name': 'Grainger', 'tools': {'Data Modelling and Transformation': ['dbt'], 'Workflow Orchestration': ['Airflow'], 'Data Warehouses': ['Snowflake']}}, {'name': 'Groupone', 'tools': {'ETL Tools': ['Fivetran', 'Meltano'], 'Reverse ETL Tools': ['Hightouch'], 'Data Modelling and Transformation': ['dbt'], 'Data Warehouses': ['Snowflake'], 'Business Intelligence (BI)': ['Tableau'], 'Data Quality Monitoring': ['Elementary Data']}}, {'name': 'Growth-talent', 'tools': {'Customer Data Platform(CDP)': ['Segment'], 'Event Tracking': ['Segment']}}, {'name': 'Glean', 'tools': {'ETL Tools': ['Fivetran'], 'Data Warehouses': ['Google BigQuery']}}, {'name': 'Headway', 'tools': {'Data Warehouses': ['Snowflake'], 'Business Intelligence (BI)': ['Looker'], 'ETL Tools': ['Fivetran'], 'Reverse ETL Tools': ['Hightouch'], 'Data Modelling and Transformation': ['dbt'], 'Data Privacy and Governance': ['Avo'], 'Product Analytics': ['Avo']}}, {'name': 'Health-joy', 'tools': {'Data Modelling and Transformation': ['dbt'], 'Data Warehouses': ['Snowflake'], 'ETL Tools': ['Fivetran'], 'Business Intelligence (BI)': ['Looker']}}, {'name': 'Heap', 'tools': {'Data Warehouses': ['Snowflake', 'Google BigQuery', 'Redshift'], 'Data Modelling and Transformation': ['Apache Spark']}}, {'name': 'Helpscout', 'tools': {'ETL Tools': ['Fivetran'], 'Data Warehouses': ['Google BigQuery'], 'Business Intelligence (BI)': ['Looker'], 'Reverse ETL Tools': ['Census'], 'Data Modelling and Transformation': ['dbt']}}, {'name': 'Hex', 'tools': {'Data Workspace/ Collaboration': ['Hex']}}, {'name': 'Hometogo', 'tools': {'Data Lakes': ['AWS S3', 'Delta.io'], 'ETL Tools': ['Airbyte'], 'Data Quality Monitoring': ['Anomalo'], 'Data Cataloging': ['Data Hub', 'Qlikview'], 'Data Discovery': ['Data Hub'], 'Event Tracking': ['Snowplow'], 'Business Intelligence (BI)': ['Redash', 'Superset', 'Qlikview', 'Tableau'], 'Data Warehouses': ['Redshift'], 'Augmented Analytics': ['Sisu Data'], 'Data Modelling and Transformation': ['dbt'], 'Workflow Orchestration': ['Airflow']}}, {'name': 'Hotjar', 'tools': {'Product Analytics': ['Mixpanel'], 'Customer Data Platform(CDP)': ['Segment'], 'Event Tracking': ['Segment'], 'Business Intelligence (BI)': ['Tableau'], 'Data Warehouses': ['Redshift'], 'Workflow Orchestration': ['Airflow'], 'Data Modelling and Transformation': ['dbt']}}, {'name': 'Hubla', 'tools': {'Data Modelling and Transformation': ['dbt'], 'Business Intelligence (BI)': ['Metabase'], 'Data Warehouses': ['Google BigQuery'], 'Workflow Orchestration': ['Airflow'], 'ETL Tools': ['Airbyte', 'Rudderstack'], 'Event Tracking': ['Rudderstack'], 'Reverse ETL Tools': ['Rudderstack'], 'Customer Data Platform(CDP)': ['Rudderstack'], 'Product Analytics': ['Mixpanel'], 'Data Workspace/ Collaboration': ['Hex']}}, {'name': 'Hubspot', 'tools': {'Business Intelligence (BI)': ['Looker'], 'Data Modelling and Transformation': ['dbt'], 'Workflow Orchestration': ['Airflow'], 'Data Warehouses': ['Snowflake']}}, {'name': 'Humanloop', 'tools': {'Data Lakes': ['AWS S3']}}, {'name': 'Ifood-decision-sciences', 'tools': {'ETL Tools': ['Fivetran'], 'Data Modelling and Transformation': ['dbt'], 'Data Warehouses': ['Snowflake']}}, {'name': 'Inc42', 'tools': {'Data Warehouses': ['Google BigQuery']}}, {'name': 'Incidentio', 'tools': {'ETL Tools': ['Stitch', 'Fivetran'], 'Data Modelling and Transformation': ['dbt'], 'Customer Data Platform(CDP)': ['Segment'], 'Event Tracking': ['Segment'], 'Data Warehouses': ['Google BigQuery'], 'Business Intelligence (BI)': ['Metabase']}}, {'name': 'Infoprice', 'tools': {'Data Modelling and Transformation': ['Apache Spark', 'AWS Athena'], 'Business Intelligence (BI)': ['Metabase'], 'Workflow Orchestration': ['Airflow'], 'Data Warehouses': ['Databricks', 'Hive'], 'Data Lakes': ['Databricks', 'AWS S3'], 'ETL Tools': ['AWS Glue'], 'Data Streaming': ['Apache Kafka']}}, {'name': 'Infuseai', 'tools': {'Data Quality Monitoring': ['PipeRider']}}, {'name': 'Inside-track', 'tools': {'Business Intelligence (BI)': ['Tableau'], 'Data Warehouses': ['Snowflake'], 'Data Modelling and Transformation': ['dbt'], 'ETL Tools': ['Fivetran']}}, {'name': 'Insight-partner', 'tools': {'Data Modelling and Transformation': ['dbt'], 'ETL Tools': ['Meltano', 'Fivetran'], 'Workflow Orchestration': ['Airflow'], 'Data Warehouses': ['Snowflake']}}, {'name': 'Insight-partners', 'tools': {'Workflow Orchestration': ['Airflow'], 'ETL Tools': ['Meltano', 'Fivetran'], 'Data Modelling and Transformation': ['dbt'], 'Data Warehouses': ['Snowflake']}}, {'name': 'Instacart', 'tools': {'Customer Data Platform(CDP)': ['Segment'], 'Event Tracking': ['Segment'], 'Business Intelligence (BI)': ['Looker', 'Tableau'], 'Data Warehouses': ['Snowflake', 'Redshift'], 'Data Workspace/ Collaboration': ['PopSQL'], 'Data Mesh': ['Nexla'], 'Reverse ETL Tools': ['Nexla'], 'Data Streaming': ['Apache Kafka']}}, {'name': 'Instagram', 'tools': {'Data Lakes': ['Azure Cloud Storage', 'AWS S3'], 'Customer Data Platform(CDP)': ['Segment'], 'Event Tracking': ['Segment'], 'Business Intelligence (BI)': ['Tableau']}}, {'name': 'Instamojo', 'tools': {'ETL Tools': ['Fivetran'], 'Data Modelling and Transformation': ['dbt'], 'Reverse ETL Tools': ['Census'], 'Product Analytics': ['Mixpanel'], 'Data Warehouses': ['Redshift']}}, {'name': 'Insurify', 'tools': {'Reverse ETL Tools': ['Hightouch'], 'Business Intelligence (BI)': ['Mode'], 'Data Warehouses': ['Redshift'], 'Workflow Orchestration': ['Airflow'], 'ETL Tools': ['Stitch']}}, {'name': 'Invision', 'tools': {'Customer Data Platform(CDP)': ['Segment'], 'Event Tracking': ['Segment'], 'Business Intelligence (BI)': ['Mode'], 'Data Warehouses': ['Redshift'], 'Data Lakes': ['AWS S3'], 'Reverse ETL Tools': ['Census']}}, {'name': 'Jebra', 'tools': {'Data Lakes': ['Google Cloud Storage', 'AWS S3']}}, {'name': 'Jetty', 'tools': {'Data Modelling and Transformation': ['dbt'], 'Data Warehouses': ['Snowflake'], 'ETL Tools': ['Fivetran'], 'Business Intelligence (BI)': ['Tableau']}}, {'name': 'Jman-group', 'tools': {'Data Warehouses': ['Azure Synapse Analytics', 'Databricks', 'Snowflake', 'Redshift', 'Google BigQuery'], 'Data Lakes': ['Databricks'], 'Data Modelling and Transformation': ['dbt'], 'ETL Tools': ['Fivetran', 'Stitch', 'Airbyte', 'Matillion', 'Azure data factory', 'AWS Glue'], 'Business Intelligence (BI)': ['Tableau', 'Power BI', 'Looker', 'Superset'], 'Workflow Orchestration': ['Airflow', 'Google Cloud Composer'], 'Data Cataloging': ['Alteryx'], 'Data Discovery': ['Alteryx'], 'Data Streaming': ['Apache Kafka']}}, {'name': 'Jobber', 'tools': {'Metrics Store': ['Cube'], 'ETL Tools': ['Fivetran'], 'Data Warehouses': ['Redshift']}}, {'name': 'Jodel', 'tools': {'Data Lakes': ['AWS S3'], 'Business Intelligence (BI)': ['Metabase'], 'ETL Tools': ['AWS Glue'], 'Workflow Orchestration': ['Apache Luigi'], 'Data Warehouses': ['Redshift'], 'Data Modelling and Transformation': ['AWS Athena'], 'Data Streaming': ['AWS Kinesis']}}, {'name': 'Juice-analytics', 'tools': {'Data Warehouses': ['Redshift']}}, {'name': 'Justos', 'tools': {'Data Modelling and Transformation': ['dbt', 'AWS Athena'], 'Business Intelligence (BI)': ['Looker'], 'Data Warehouses': ['Redshift'], 'Workflow Orchestration': ['Airflow', 'Astronomer'], 'Customer Data Platform(CDP)': ['Segment'], 'Event Tracking': ['Segment'], 'ETL Tools': ['Funnel.io'], 'Data Lakes': ['AWS S3'], 'Feature Store': ['Feast'], 'Data Apps': ['Streamlit'], 'Data Quality Monitoring': ['Great Expectations']}}, {'name': 'K-health', 'tools': {'Business Intelligence (BI)': ['Looker'], 'Workflow Orchestration': ['Airflow'], 'Customer Data Platform(CDP)': ['Segment'], 'Event Tracking': ['Segment'], 'Data Warehouses': ['Google BigQuery'], 'ETL Tools': ['Fivetran']}}, {'name': 'Keboola', 'tools': {'Data Workspace/ Collaboration': ['Keboola'], 'Managed Data Stack': ['Keboola']}}, {'name': 'Keyrus', 'tools': {'Business Intelligence (BI)': ['Tableau'], 'Data Modelling and Transformation': ['Rivery.io', 'dbt'], 'ETL Tools': ['Rivery.io', 'Talend'], 'Workflow Orchestration': ['Rivery.io'], 'Data Warehouses': ['Snowflake'], 'Data Cataloging': ['Alteryx'], 'Data Discovery': ['Alteryx'], 'Data Privacy and Governance': ['Talend']}}, {'name': 'Knotch', 'tools': {'Workflow Orchestration': ['Airflow'], 'Data Warehouses': ['Redshift'], 'Data Modelling and Transformation': ['Apache Spark']}}, {'name': 'Knowi', 'tools': {'Data Modelling and Transformation': ['AWS Athena'], 'Data Streaming': ['AWS Kinesis']}}, {'name': 'Krisp', 'tools': {'Data Modelling and Transformation': ['dbt'], 'Business Intelligence (BI)': ['Tableau'], 'Data Warehouses': ['Redshift']}}, {'name': 'Kyligence', 'tools': {'Data Warehouses': ['Hive'], 'Data Modelling and Transformation': ['Apache Spark'], 'Data Lakes': ['AWS S3', 'Azure Cloud Storage']}}, {'name': 'Loreal', 'tools': {'Data Warehouses': ['Databricks', 'Google BigQuery', 'Snowflake'], 'Data Lakes': ['Databricks', 'Google Cloud Storage', 'Azure Cloud Storage'], 'Data Streaming': ['Google Cloud Dataflow', 'Apache Kafka', 'Confluent'], 'Workflow Orchestration': ['Google Cloud Composer', 'Kubeflow', 'Airflow'], 'Data Cataloging': ['Collibra', 'Google Data Catalog', 'informatica'], 'Data Discovery': ['Collibra', 'Google cloud data catalog & discovery'], 'Data Privacy and Governance': ['Collibra'], 'Business Intelligence (BI)': ['Power BI', 'Looker', 'Domo'], 'Data Modelling and Transformation': ['dbt', 'Apache Spark', 'Dataform'], 'ETL Tools': ['Azure data factory', 'informatica'], 'Customer Data Platform(CDP)': ['Tealium'], 'Data Quality Monitoring': ['Great Expectations'], 'Metrics Store': ['Transform Data']}}, {'name': 'Lacework', 'tools': {'ETL Tools': ['Fivetran'], 'Data Modelling and Transformation': ['dbt'], 'Data Warehouses': ['Snowflake'], 'Data Workspace/ Collaboration': ['Hex'], 'Reverse ETL Tools': ['Hightouch'], 'Augmented Analytics': ['ThoughtSpot']}}, {'name': 'Landbot', 'tools': {'Data Modelling and Transformation': ['dbt', 'Apache Spark'], 'Data Warehouses': ['Google BigQuery'], 'Workflow Orchestration': ['Airflow', 'Google Cloud Composer'], 'Reverse ETL Tools': ['Census'], 'ETL Tools': ['Airbyte'], 'Data Lakes': ['Google Cloud Storage']}}, {'name': 'Lane', 'tools': {'Data Modelling and Transformation': ['dbt'], 'Data Warehouses': ['Snowflake'], 'ETL Tools': ['Fivetran'], 'Business Intelligence (BI)': ['Looker']}}, {'name': 'Latitude', 'tools': {'Data Warehouses': ['Snowflake'], 'ETL Tools': ['Airbyte']}}, {'name': 'Launchdarkly', 'tools': {'Workflow Orchestration': ['Airflow'], 'Data Lakes': ['AWS S3'], 'Data Warehouses': ['Snowflake'], 'Data Modelling and Transformation': ['dbt']}}, {'name': 'Ldcc-lotte-data-communication-company', 'tools': {'ETL Tools': ['Fivetran'], 'Data Modelling and Transformation': ['dbt'], 'Data Streaming': ['AWS Kinesis'], 'Data Warehouses': ['Databricks'], 'Data Lakes': ['Databricks']}}, {'name': 'Legoai-technologies', 'tools': {'Spreadsheet based BI': ['Rows.com'], 'Data Warehouses': ['Databricks'], 'Data Lakes': ['Databricks']}}, {'name': 'Linkedin', 'tools': {'Data Warehouses': ['Tera data', 'Oracle'], 'Data Streaming': ['Apache Kafka'], 'Data Lakes': ['Azure Cloud Storage', 'AWS S3'], 'Business Intelligence (BI)': ['Microstrategy'], 'Data Cataloging': ['Data Hub', 'informatica'], 'Data Discovery': ['Data Hub'], 'ETL Tools': ['informatica']}}, {'name': 'Litech', 'tools': {'Data Warehouses': ['Vertica', 'Snowflake', 'Google BigQuery', 'SAP business warehouse']}}, {'name': 'Livestorm', 'tools': {'ETL Tools': ['Stitch', 'Fivetran'], 'Workflow Orchestration': ['Airflow'], 'Data Modelling and Transformation': ['dbt'], 'Customer Data Platform(CDP)': ['Segment'], 'Event Tracking': ['Segment'], 'Data Warehouses': ['Snowflake'], 'Business Intelligence (BI)': ['Looker']}}, {'name': 'Lodgify', 'tools': {'Business Intelligence (BI)': ['Tableau', 'Metabase'], 'Event Tracking': ['Rudderstack'], 'Reverse ETL Tools': ['Rudderstack', 'Hightouch'], 'Customer Data Platform(CDP)': ['Rudderstack'], 'ETL Tools': ['Rudderstack', 'Fivetran'], 'Data Modelling and Transformation': ['dbt']}}, {'name': 'Loft', 'tools': {'Business Intelligence (BI)': ['Looker'], 'Data Modelling and Transformation': ['dbt', 'AWS Athena'], 'Data Quality Monitoring': ['Spectacles'], 'Data Lakes': ['AWS S3', 'Databricks'], 'ETL Tools': ['Stitch'], 'Data Warehouses': ['Databricks']}}, {'name': 'Logiqai', 'tools': {'Data Warehouses': ['Databricks'], 'Data Lakes': ['Databricks']}}, {'name': 'Lola', 'tools': {'Data Warehouses': ['Snowflake'], 'Business Intelligence (BI)': ['Looker'], 'ETL Tools': ['Fivetran']}}, {'name': 'Loop-returns', 'tools': {'ETL Tools': ['Fivetran', 'Meltano'], 'Data Modelling and Transformation': ['dbt'], 'Business Intelligence (BI)': ['Looker'], 'Data Discovery': ['Secoda'], 'Data Cataloging': ['Secoda'], 'Data Warehouses': ['Snowflake'], 'Data Quality Monitoring': ['Spectacles', 'Monte Carlo Data'], 'Customer Data Platform(CDP)': ['Segment'], 'Event Tracking': ['Segment'], 'Data Workspace/ Collaboration': ['Hex']}}, {'name': 'Lotum', 'tools': {'Business Intelligence (BI)': ['Looker'], 'Workflow Orchestration': ['Google Cloud Composer', 'Airflow'], 'Data Warehouses': ['Google BigQuery']}}, {'name': 'Lucid', 'tools': {'Data Warehouses': ['Databricks', 'Snowflake'], 'Data Lakes': ['Databricks'], 'Workflow Orchestration': ['Airflow'], 'Data Modelling and Transformation': ['dbt']}}, {'name': 'Lunar-ventures', 'tools': {'Data Modelling and Transformation': ['dbt'], 'Data Warehouses': ['Google BigQuery'], 'Workflow Orchestration': ['Dagster'], 'ETL Tools': ['Fivetran', 'Airbyte'], 'Data Workspace/ Collaboration': ['Hex'], 'Reverse ETL Tools': ['Census'], 'Metrics Store': ['Lightdash'], 'Business Intelligence (BI)': ['Lightdash']}}, {'name': 'Lyft', 'tools': {'Data Lakes': ['AWS S3'], 'Data Streaming': ['Apache Kafka', 'Confluent', 'AWS Kinesis'], 'Workflow Orchestration': ['Airflow'], 'Data Cataloging': ['Stemma AI', 'Amundsen'], 'Data Discovery': ['Stemma AI', 'Amundsen'], 'Business Intelligence (BI)': ['Mode']}}, {'name': 'Lyska', 'tools': {'Data Streaming': ['Apache Kafka'], 'Data Lakes': ['Google Cloud Storage'], 'Change Data Capture': ['Debezium'], 'Data Warehouses': ['Google BigQuery']}}, {'name': 'Madison-reed', 'tools': {'Data Warehouses': ['Snowflake'], 'Business Intelligence (BI)': ['Looker'], 'Data Modelling and Transformation': ['dbt'], 'ETL Tools': ['Fivetran']}}, {'name': 'Mage', 'tools': {'Workflow Orchestration': ['Airflow'], 'Data Modelling and Transformation': ['dbt', 'Apache Spark'], 'Data Warehouses': ['Google BigQuery', 'Redshift', 'Snowflake'], 'ETL Tools': ['Singer'], 'Data Lakes': ['AWS S3'], 'Reverse ETL Tools': ['Hightouch']}}, {'name': 'Maisonette', 'tools': {'Data Warehouses': ['Snowflake'], 'ETL Tools': ['Fivetran'], 'Business Intelligence (BI)': ['Looker'], 'Data Modelling and Transformation': ['dbt']}}, {'name': 'Mantra-health', 'tools': {'ETL Tools': ['Fivetran'], 'Business Intelligence (BI)': ['Looker'], 'Managed Data Stack': ['Mozart Data'], 'Data Warehouses': ['Snowflake']}}, {'name': 'Manypets', 'tools': {'Workflow Orchestration': ['Airflow'], 'Data Modelling and Transformation': ['dbt'], 'Business Intelligence (BI)': ['Power BI'], 'ETL Tools': ['Fivetran', 'Meltano'], 'Reverse ETL Tools': ['Hightouch'], 'Data Warehouses': ['Google BigQuery']}}, {'name': 'Maple', 'tools': {'Data Modelling and Transformation': ['dbt'], 'Data Warehouses': ['Snowflake', 'Redshift']}}, {'name': 'Masterplan', 'tools': {'Data Warehouses': ['Google BigQuery'], 'Data Modelling and Transformation': ['dbt'], 'ETL Tools': ['Fivetran']}}, {'name': 'Matillion', 'tools': {'ETL Tools': ['Matillion'], 'Data Warehouses': ['Redshift', 'Snowflake', 'Databricks'], 'Business Intelligence (BI)': ['Tableau', 'Sigma'], 'Data Lakes': ['Databricks'], 'Augmented Analytics': ['ThoughtSpot'], 'Spreadsheet based BI': ['Sigma']}}, {'name': 'Mattermost', 'tools': {'Data Lakes': ['AWS S3'], 'Workflow Orchestration': ['Airflow'], 'Data Warehouses': ['Redshift', 'Snowflake'], 'ETL Tools': ['Stitch', 'Rudderstack'], 'Business Intelligence (BI)': ['Looker'], 'Data Modelling and Transformation': ['dbt'], 'Event Tracking': ['Rudderstack'], 'Reverse ETL Tools': ['Rudderstack'], 'Customer Data Platform(CDP)': ['Rudderstack']}}, {'name': 'Mccormick-bi-llc', 'tools': {'ETL Tools': ['Fivetran'], 'Data Modelling and Transformation': ['dbt'], 'Business Intelligence (BI)': ['Sigma'], 'Spreadsheet based BI': ['Sigma'], 'Data Warehouses': ['Snowflake']}}, {'name': 'Medically-home', 'tools': {'Data Modelling and Transformation': ['dbt'], 'Data Warehouses': ['Snowflake'], 'ETL Tools': ['Meltano'], 'Workflow Orchestration': ['Airflow']}}, {'name': 'Mejuri', 'tools': {'Business Intelligence (BI)': ['Looker'], 'ETL Tools': ['Airbyte'], 'Data Warehouses': ['Google BigQuery'], 'Data Modelling and Transformation': ['dbt'], 'Workflow Orchestration': ['Dagster']}}, {'name': 'Memphisdev', 'tools': {'Workflow Orchestration': ['Astronomer'], 'Business Intelligence (BI)': ['Looker']}}, {'name': 'Metarouter', 'tools': {'Data Streaming': ['Apache Kafka']}}, {'name': 'Microsoft', 'tools': {'Data Warehouses': ['Databricks', 'Oracle'], 'Data Lakes': ['Databricks', 'Azure Cloud Storage'], 'Business Intelligence (BI)': ['Microstrategy', 'Looker'], 'Synthetic Data': ['edge case', 'Hazy'], 'Data Cataloging': ['Cloudera', 'Alteryx'], 'Feature Store': ['iguazio'], 'ETL Tools': ['Talend'], 'Data Privacy and Governance': ['Talend'], 'Data Discovery': ['Alteryx']}}, {'name': 'Mighty-canary', 'tools': {'Data Modelling and Transformation': ['dbt'], 'Business Intelligence (BI)': ['Tableau']}}, {'name': 'Mighty-digital', 'tools': {'Data Modelling and Transformation': ['dbt'], 'ETL Tools': ['Hevo Data', 'Fivetran', 'Singer', 'Stitch', 'AWS Glue', 'Meltano', 'Rudderstack'], 'Customer Data Platform(CDP)': ['Segment', 'mparticle', 'Rudderstack'], 'Event Tracking': ['Segment', 'Rudderstack'], 'Data Lakes': ['Google Cloud Storage', 'AWS S3'], 'Data Warehouses': ['Redshift', 'Firebolt', 'Google BigQuery'], 'Business Intelligence (BI)': ['Redash', 'Looker'], 'Data Streaming': ['AWS Kinesis'], 'Reverse ETL Tools': ['Rudderstack', 'Hightouch']}}, {'name': 'Mindfi', 'tools': {'ETL Tools': ['Airbyte'], 'Business Intelligence (BI)': ['Superset'], 'Data Modelling and Transformation': ['dbt'], 'Data Streaming': ['AWS Kinesis'], 'Metrics Store': ['Cube'], 'Event Tracking': ['Snowplow']}}, {'name': 'Moderna', 'tools': {'Business Intelligence (BI)': ['Looker'], 'Data Lakes': ['AWS S3']}}, {'name': 'Montreal-analytics', 'tools': {'Data Warehouses': ['Google BigQuery', 'Snowflake'], 'ETL Tools': ['Fivetran'], 'Business Intelligence (BI)': ['Looker'], 'Data Modelling and Transformation': ['dbt'], 'Reverse ETL Tools': ['Hightouch']}}, {'name': 'Monzo', 'tools': {'Workflow Orchestration': ['Airflow'], 'Data Warehouses': ['Google BigQuery'], 'Data Modelling and Transformation': ['dbt'], 'Business Intelligence (BI)': ['Looker']}}, {'name': 'Nashtech-global', 'tools': {'Data Warehouses': ['Databricks'], 'Data Lakes': ['Databricks'], 'Data Modelling and Transformation': ['dbt'], 'Data Streaming': ['AWS Kinesis'], 'Business Intelligence (BI)': ['Looker']}}, {'name': 'Neon', 'tools': {'ETL Tools': ['Fivetran']}}, {'name': 'Netflix', 'tools': {'Data Streaming': ['Apache Kafka', 'AWS Kinesis'], 'Data Warehouses': ['Tera data', 'Oracle'], 'Business Intelligence (BI)': ['Microstrategy', 'Tableau'], 'Data Lakes': ['AWS S3']}}, {'name': 'Netlify', 'tools': {'Reverse ETL Tools': ['Census'], 'ETL Tools': ['Fivetran'], 'Metrics Store': ['Transform Data'], 'Data Modelling and Transformation': ['dbt'], 'Data Warehouses': ['Snowflake'], 'Business Intelligence (BI)': ['Mode'], 'Workflow Orchestration': ['Airflow']}}, {'name': 'Neuroflow', 'tools': {'Data Warehouses': ['Snowflake'], 'Data Modelling and Transformation': ['dbt'], 'Business Intelligence (BI)': ['Metabase'], 'ETL Tools': ['Fivetran']}}, {'name': 'Noteable', 'tools': {'Data Workspace/ Collaboration': ['Noteable']}}, {'name': 'Ntico', 'tools': {'Workflow Orchestration': ['Kestra']}}, {'name': 'Onefootball', 'tools': {'Data Streaming': ['AWS Kinesis'], 'Data Lakes': ['AWS S3'], 'ETL Tools': ['Stitch', 'AWS Glue'], 'Business Intelligence (BI)': ['Metabase'], 'Data Modelling and Transformation': ['dbt'], 'Workflow Orchestration': ['Airflow'], 'Event Tracking': ['Snowplow']}}, {'name': 'Onefootball-labs', 'tools': {'Data Warehouses': ['Google BigQuery'], 'Data Modelling and Transformation': ['dbt'], 'Business Intelligence (BI)': ['Superset'], 'ETL Tools': ['Airbyte']}}, {'name': 'Optimus-mine-ltd', 'tools': {'Data Warehouses': ['Google BigQuery']}}, {'name': 'Osmos', 'tools': {'Data Warehouses': ['Google BigQuery']}}, {'name': 'Ostro', 'tools': {'Data Warehouses': ['Google BigQuery'], 'Workflow Orchestration': ['Airflow'], 'Data Modelling and Transformation': ['dbt'], 'Business Intelligence (BI)': ['Metabase'], 'Product Analytics': ['PostHog'], 'Data Quality Monitoring': ['Elementary Data']}}, {'name': 'Outdoor-voices', 'tools': {'Business Intelligence (BI)': ['Looker'], 'Data Modelling and Transformation': ['dbt'], 'Workflow Orchestration': ['Airflow'], 'ETL Tools': ['Stitch']}}, {'name': 'Outreach', 'tools': {'Data Warehouses': ['Snowflake'], 'Data Modelling and Transformation': ['dbt'], 'Business Intelligence (BI)': ['Tableau']}}, {'name': 'Pachyderm', 'tools': {'ETL Tools': ['Fivetran', 'Stitch', 'Rudderstack'], 'Business Intelligence (BI)': ['Sigma'], 'Spreadsheet based BI': ['Sigma'], 'Event Tracking': ['Rudderstack'], 'Reverse ETL Tools': ['Rudderstack'], 'Customer Data Platform(CDP)': ['Rudderstack'], 'Data Warehouses': ['Google BigQuery']}}, {'name': 'Panasonic', 'tools': {'ETL Tools': ['Stitch'], 'Data Modelling and Transformation': ['dbt'], 'Data Discovery': ['Secoda'], 'Data Cataloging': ['Secoda'], 'Business Intelligence (BI)': ['Tableau'], 'Data Warehouses': ['Snowflake']}}, {'name': 'Paypal', 'tools': {'Customer Data Platform(CDP)': ['Segment'], 'Event Tracking': ['Segment'], 'Business Intelligence (BI)': ['Microstrategy', 'Looker', 'Qlikview', 'Tableau', 'y42'], 'Data Discovery': ['Alation', 'Alteryx'], 'Data Cataloging': ['Alation', 'Qlikview', 'Google Data Catalog', 'Alteryx'], 'Data Lakes': ['Google Cloud Storage', 'Min.io'], 'Workflow Orchestration': ['Airflow', 'Kubeflow', 'Google Cloud Composer'], 'Data Warehouses': ['Tera data'], 'Managed Data Stack': ['y42'], 'Data Streaming': ['Google Cloud Dataflow']}}, {'name': 'Photobox', 'tools': {'Data Quality Monitoring': ['Great Expectations'], 'ETL Tools': ['Fivetran'], 'Data Warehouses': ['Snowflake'], 'Data Lakes': ['AWS S3'], 'Workflow Orchestration': ['Airflow'], 'Business Intelligence (BI)': ['Looker'], 'Data Modelling and Transformation': ['dbt']}}, {'name': 'Pingcap', 'tools': {'Data Modelling and Transformation': ['dbt', 'Apache Spark'], 'Business Intelligence (BI)': ['Metabase', 'Looker', 'Tableau'], 'Data Warehouses': ['Databricks'], 'Data Lakes': ['Databricks'], 'ETL Tools': ['Airbyte'], 'Data Streaming': ['Apache Kafka', 'Apache Flink']}}, {'name': 'Pinterest', 'tools': {'Data Lakes': ['AWS S3', 'Qubole'], 'Data Streaming': ['Apache Storm', 'Apache Kafka'], 'Data Warehouses': ['Redshift']}}, {'name': 'Pitch', 'tools': {'Data Modelling and Transformation': ['dbt'], 'Business Intelligence (BI)': ['Metabase'], 'Reverse ETL Tools': ['Census', 'Hightouch'], 'Event Tracking': ['Snowplow'], 'ETL Tools': ['Fivetran'], 'Data Warehouses': ['Snowflake']}}, {'name': 'Pluralsight', 'tools': {'Data Streaming': ['Apache Kafka', 'Apache Flink'], 'Workflow Orchestration': ['Airflow'], 'ETL Tools': ['Fivetran'], 'Data Modelling and Transformation': ['dbt', 'Apache Spark'], 'Data Warehouses': ['Snowflake', 'Databricks'], 'Data Lakes': ['Databricks']}}, {'name': 'Podkite', 'tools': {'Data Streaming': ['AWS Kinesis'], 'Data Lakes': ['AWS S3', 'Google Cloud Storage'], 'Metrics Store': ['Cube']}}, {'name': 'Pollen', 'tools': {'Workflow Orchestration': ['Airflow'], 'Business Intelligence (BI)': ['Looker', 'Tableau'], 'Data Modelling and Transformation': ['dbt'], 'ETL Tools': ['Fivetran', 'Stitch'], 'Data Warehouses': ['Snowflake']}}, {'name': 'Popsink', 'tools': {'ETL Tools': ['Popsink'], 'Data Streaming': ['Popsink', 'Apache Flink', 'Redpanda'], 'Data Modelling and Transformation': ['dbt'], 'Data Warehouses': ['Snowflake'], 'Data Lakes': ['AWS S3'], 'Change Data Capture': ['Debezium']}}, {'name': 'Postman', 'tools': {'Business Intelligence (BI)': ['Looker', 'Power BI'], 'Data Warehouses': ['Redshift'], 'Data Modelling and Transformation': ['dbt'], 'Data Discovery': ['Atlan'], 'Data Cataloging': ['Atlan'], 'ETL Tools': ['Stitch']}}, {'name': 'Postscript', 'tools': {'ETL Tools': ['Stitch', 'Fivetran'], 'Data Warehouses': ['Snowflake'], 'Data Modelling and Transformation': ['dbt'], 'Business Intelligence (BI)': ['Looker'], 'Data Lakes': ['AWS S3']}}, {'name': 'Proglove', 'tools': {'Business Intelligence (BI)': ['Tableau'], 'ETL Tools': ['Fivetran'], 'Data Warehouses': ['Snowflake'], 'Data Modelling and Transformation': ['dbt']}}, {'name': 'Proposify', 'tools': {'Business Intelligence (BI)': ['Mode'], 'Data Modelling and Transformation': ['Dataform'], 'Data Warehouses': ['Redshift'], 'Product Analytics': ['Heap'], 'Customer Data Platform(CDP)': ['Segment', 'Rudderstack'], 'Event Tracking': ['Segment', 'Rudderstack'], 'Reverse ETL Tools': ['Rudderstack'], 'ETL Tools': ['Rudderstack', 'Stitch']}}, {'name': 'Quanto', 'tools': {'Business Intelligence (BI)': ['Looker'], 'Data Modelling and Transformation': ['dbt', 'Apache Spark'], 'Workflow Orchestration': ['Airflow'], 'Data Warehouses': ['Google BigQuery'], 'Data Lakes': ['Google Cloud Storage']}}, {'name': 'Quicktable', 'tools': {'ETL Tools': ['Fivetran'], 'Data Modelling and Transformation': ['dbt']}}, {'name': 'Quintoandar', 'tools': {'Data Warehouses': ['Hive', 'Databricks'], 'Workflow Orchestration': ['Airflow'], 'Data Lakes': ['AWS S3', 'Databricks'], 'Data Cataloging': ['Apache Atlas'], 'Business Intelligence (BI)': ['Looker'], 'Data Streaming': ['Apache Kafka']}}, {'name': 'Qurisai', 'tools': {'Data Lakes': ['Google Cloud Storage'], 'Data Warehouses': ['Google BigQuery']}}, {'name': 'Rack-room-shoes', 'tools': {'Data Warehouses': ['Snowflake', 'Oracle'], 'Business Intelligence (BI)': ['Salesforce Einstein Analytics', 'Microstrategy'], 'ETL Tools': ['Matillion'], 'Data Cataloging': ['Alteryx'], 'Data Discovery': ['Alteryx']}}, {'name': 'Realself', 'tools': {'Data Warehouses': ['Google BigQuery'], 'Business Intelligence (BI)': ['Looker'], 'ETL Tools': ['Stitch'], 'Data Modelling and Transformation': ['dbt']}}, {'name': 'Reconfigured', 'tools': {'Data Modelling and Transformation': ['dbt']}}, {'name': 'Reforge', 'tools': {'Workflow Orchestration': ['Airflow'], 'Data Modelling and Transformation': ['dbt'], 'Business Intelligence (BI)': ['Metabase'], 'Customer Data Platform(CDP)': ['Segment'], 'Event Tracking': ['Segment']}}, {'name': 'Renaissance', 'tools': {'Data Warehouses': ['Snowflake'], 'Workflow Orchestration': ['Airflow'], 'Data Modelling and Transformation': ['dbt']}}, {'name': 'Rent-the-runway', 'tools': {'Data Warehouses': ['Snowflake'], 'Workflow Orchestration': ['Prefect'], 'Data Quality Monitoring': ['Great Expectations'], 'Data Modelling and Transformation': ['dbt']}}, {'name': 'Rhino', 'tools': {'Data Warehouses': ['Snowflake', 'Databricks'], 'ETL Tools': ['Fivetran', 'Airbyte'], 'Data Lakes': ['Databricks'], 'Business Intelligence (BI)': ['Looker'], 'Data Modelling and Transformation': ['dbt']}}, {'name': 'Rhombic', 'tools': {'Data Warehouses': ['Snowflake'], 'ETL Tools': ['Fivetran'], 'Data Modelling and Transformation': ['dbt'], 'Augmented Analytics': ['ThoughtSpot'], 'Data Cataloging': ['Alteryx'], 'Data Discovery': ['Alteryx'], 'Data Workspace/ Collaboration': ['Keboola'], 'Managed Data Stack': ['Keboola']}}, {'name': 'Ritual', 'tools': {'Data Warehouses': ['Snowflake', 'Databricks'], 'ETL Tools': ['Fivetran', 'Indicative'], 'Data Modelling and Transformation': ['dbt'], 'Customer Data Platform(CDP)': ['Segment'], 'Event Tracking': ['Segment'], 'Product Analytics': ['Indicative'], 'Data Lakes': ['Databricks'], 'Business Intelligence (BI)': ['Looker']}}, {'name': 'Rivery', 'tools': {'Data Modelling and Transformation': ['Rivery.io'], 'ETL Tools': ['Rivery.io'], 'Workflow Orchestration': ['Rivery.io'], 'Data Warehouses': ['Snowflake'], 'Business Intelligence (BI)': ['Tableau']}}, {'name': 'Rockset', 'tools': {'Reverse ETL Tools': ['Hightouch']}}, {'name': 'Ruby-labs', 'tools': {'Feature Store': ['Continual'], 'Data Privacy and Governance': ['Avo'], 'Product Analytics': ['Avo'], 'Data Warehouses': ['Google BigQuery'], 'Data Workspace/ Collaboration': ['Hex'], 'Workflow Orchestration': ['Airflow', 'Google Cloud Composer'], 'Data Modelling and Transformation': ['dbt'], 'Metrics Store': ['Lightdash'], 'Business Intelligence (BI)': ['Lightdash']}}, {'name': 'Rush-street-interactive', 'tools': {'Business Intelligence (BI)': ['Looker'], 'Data Modelling and Transformation': ['dbt'], 'Workflow Orchestration': ['Airflow'], 'Data Warehouses': ['Snowflake']}}, {'name': 'Saks-fifth-avenue', 'tools': {'Data Modelling and Transformation': ['dbt'], 'Business Intelligence (BI)': ['Looker'], 'Data Warehouses': ['Snowflake']}}, {'name': 'Samsung', 'tools': {'Business Intelligence (BI)': ['Qlikview'], 'Data Cataloging': ['Qlikview'], 'Augmented Analytics': ['Sisu Data'], 'ETL Tools': ['Funnel.io', 'Supermetrics'], 'Feature Store': ['Molecula', 'iguazio']}}, {'name': 'Save-the-byte', 'tools': {'Managed Data Stack': ['DoubleCloud']}}, {'name': 'Saydata', 'tools': {'Data Modelling and Transformation': ['dbt']}}, {'name': 'Secoda', 'tools': {'Business Intelligence (BI)': ['Looker', 'Mode'], 'Data Modelling and Transformation': ['dbt'], 'Data Warehouses': ['Snowflake']}}, {'name': 'Seektable', 'tools': {'Data Modelling and Transformation': ['dbt']}}, {'name': 'Selectdb', 'tools': {'Data Lakes': ['AWS S3', 'Apache Hudi'], 'Data Streaming': ['Apache Flink'], 'Data Modelling and Transformation': ['Apache Spark']}}, {'name': 'Selfr', 'tools': {'Managed Data Stack': ['Selfr'], 'Data Modelling and Transformation': ['dbt'], 'ETL Tools': ['Fivetran'], 'Reverse ETL Tools': ['Hightouch']}}, {'name': 'Sellerx', 'tools': {'Data Modelling and Transformation': ['dbt'], 'Business Intelligence (BI)': ['Tableau'], 'Data Warehouses': ['Snowflake'], 'Workflow Orchestration': ['Airflow']}}, {'name': 'Sensor-data', 'tools': {'Business Intelligence (BI)': ['Redash'], 'Workflow Orchestration': ['Airflow'], 'Data Modelling and Transformation': ['dbt']}}, {'name': 'Sevdesk', 'tools': {'Data Modelling and Transformation': ['dbt'], 'Business Intelligence (BI)': ['Looker', 'Metabase'], 'ETL Tools': ['Stitch', 'Singer'], 'Data Warehouses': ['Redshift'], 'Reverse ETL Tools': ['Hightouch'], 'Customer Data Platform(CDP)': ['Segment'], 'Event Tracking': ['Segment'], 'Product Analytics': ['Mixpanel']}}, {'name': 'Sherloq', 'tools': {'Data Modelling and Transformation': ['dbt'], 'Business Intelligence (BI)': ['Mode']}}, {'name': 'Shopify', 'tools': {'Business Intelligence (BI)': ['Looker', 'y42', 'Qlikview'], 'Customer Data Platform(CDP)': ['Segment'], 'Event Tracking': ['Segment'], 'Data Warehouses': ['Redshift', 'Vertica'], 'Data Quality Monitoring': ['Anomalo'], 'Managed Data Stack': ['y42'], 'Data Cataloging': ['Alteryx', 'Qlikview'], 'Data Discovery': ['Alteryx'], 'Data Modelling and Transformation': ['dbt']}}, {'name': 'Shuddl', 'tools': {'Business Intelligence (BI)': ['Looker'], 'Data Warehouses': ['Databricks'], 'Data Lakes': ['Databricks'], 'Spreadsheet based BI': ['Rows.com'], 'Augmented Analytics': ['Sisu Data'], 'PLG CRM': ['Variance'], 'Operational Analytics ': ['Variance', 'Netspring'], 'Data Cataloging': ['data.world '], 'Synthetic Data': ['Datomize'], 'ETL Tools': ['Fivetran']}}, {'name': 'Simply-business', 'tools': {'Data Modelling and Transformation': ['dbt'], 'Data Warehouses': ['Snowflake'], 'Business Intelligence (BI)': ['Looker'], 'Data Streaming': ['Apache Kafka']}}, {'name': 'Singularity-data', 'tools': {'Data Lakes': ['AWS S3']}}, {'name': 'Skims', 'tools': {'Reverse ETL Tools': ['Census'], 'ETL Tools': ['Fivetran'], 'Data Warehouses': ['Snowflake'], 'Business Intelligence (BI)': ['Looker'], 'Data Modelling and Transformation': ['dbt']}}, {'name': 'Skypoint-cloud', 'tools': {'Data Warehouses': ['Databricks'], 'Data Lakes': ['Databricks', 'Azure Cloud Storage'], 'Data Modelling and Transformation': ['Apache Spark'], 'Business Intelligence (BI)': ['Power BI'], 'ETL Tools': ['Azure data factory']}}, {'name': 'Slack', 'tools': {'Data Lakes': ['AWS S3'], 'Business Intelligence (BI)': ['Looker'], 'Customer Data Platform(CDP)': ['Segment'], 'Event Tracking': ['Segment'], 'Workflow Orchestration': ['Airflow'], 'Data Warehouses': ['Snowflake'], 'Data Streaming': ['Apache Kafka']}}, {'name': 'Smile-direct-club', 'tools': {'Data Modelling and Transformation': ['dbt'], 'Data Warehouses': ['Snowflake'], 'ETL Tools': ['Fivetran'], 'Workflow Orchestration': ['Airflow'], 'Business Intelligence (BI)': ['Looker']}}, {'name': 'Smileeio', 'tools': {'Metrics Store': ['Cube']}}, {'name': 'South-china-morning-post', 'tools': {'Workflow Orchestration': ['Airflow'], 'Data Warehouses': ['Google BigQuery'], 'Data Modelling and Transformation': ['dbt'], 'Business Intelligence (BI)': ['Tableau'], 'Metrics Store': ['Cube']}}, {'name': 'Spin', 'tools': {'Workflow Orchestration': ['Airflow'], 'ETL Tools': ['Fivetran'], 'Data Modelling and Transformation': ['dbt']}}, {'name': 'Spotify', 'tools': {'Workflow Orchestration': ['Kubeflow', 'Google Cloud Composer'], 'Data Streaming': ['Apache Storm', 'Apache Kafka', 'Google Cloud Dataflow'], 'Feature Store': ['Molecula'], 'Business Intelligence (BI)': ['Tableau', 'Salesforce Einstein Analytics'], 'Data Lakes': ['AWS S3'], 'Customer Data Platform(CDP)': ['mparticle', 'Segment'], 'Data Cataloging': ['Google Data Catalog'], 'No code automation': ['Integromat'], 'Data Warehouses': ['Redshift'], 'Event Tracking': ['Segment'], 'Augmented Analytics': ['Tellius']}}, {'name': 'Springworks-therapeutics', 'tools': {'Data Quality Monitoring': ['ClueDin'], 'Data Modelling and Transformation': ['dbt'], 'ETL Tools': ['Fivetran'], 'Data Warehouses': ['Snowflake'], 'Business Intelligence (BI)': ['Power BI']}}, {'name': 'Stack-tecnologias', 'tools': {'Data Modelling and Transformation': ['dbt', 'AWS Athena'], 'Data Warehouses': ['Databricks'], 'Data Lakes': ['Databricks', 'AWS S3'], 'Data Streaming': ['AWS Kinesis'], 'ETL Tools': ['AWS Glue', 'Airbyte']}}, {'name': 'Stackable', 'tools': {'Data Streaming': ['Apache Kafka'], 'Workflow Orchestration': ['Airflow', 'Apache Nifi'], 'Business Intelligence (BI)': ['Superset'], 'Data Modelling and Transformation': ['Apache Spark'], 'Data Warehouses': ['Hive']}}, {'name': 'Stonly', 'tools': {'Customer Data Platform(CDP)': ['Segment'], 'Event Tracking': ['Segment'], 'Business Intelligence (BI)': ['Tableau'], 'Data Modelling and Transformation': ['dbt'], 'Data Workspace/ Collaboration': ['Hex'], 'ETL Tools': ['Fivetran'], 'Product Analytics': ['PostHog'], 'Data Warehouses': ['Redshift'], 'Reverse ETL Tools': ['Hightouch']}}, {'name': 'Streamnative', 'tools': {'Data Streaming': ['Apache Flink'], 'Data Modelling and Transformation': ['Apache Spark']}}, {'name': 'Stride', 'tools': {'Business Intelligence (BI)': ['Tableau', 'Superset', 'Sisense', 'Looker'], 'Data Modelling and Transformation': ['dbt'], 'Workflow Orchestration': ['Airflow']}}, {'name': 'Striim', 'tools': {'Data Warehouses': ['Redshift', 'Snowflake', 'Google BigQuery'], 'Data Modelling and Transformation': ['dbt'], 'Business Intelligence (BI)': ['Looker']}}, {'name': 'Stripe', 'tools': {'Customer Data Platform(CDP)': ['Segment'], 'Event Tracking': ['Segment'], 'Business Intelligence (BI)': ['Looker', 'Tableau'], 'Data Warehouses': ['Redshift'], 'Data Streaming': ['Apache Flink']}}, {'name': 'Sub-zero-group-inc', 'tools': {'Data Warehouses': ['Snowflake', 'Databricks'], 'ETL Tools': ['Fivetran', 'Azure data factory'], 'Data Modelling and Transformation': ['dbt'], 'Business Intelligence (BI)': ['Power BI'], 'Data Quality Monitoring': ['Monte Carlo Data'], 'Data Discovery': ['Metaphor'], 'Data Cataloging': ['Metaphor'], 'Data Lakes': ['Azure Cloud Storage', 'Databricks']}}, {'name': 'Supergrain', 'tools': {'Customer Data Platform(CDP)': ['Supergrain']}}, {'name': 'Swiggy', 'tools': {'Business Intelligence (BI)': ['Power BI', 'Tableau', 'Qlikview'], 'Data Streaming': ['Apache Kafka'], 'Data Cataloging': ['Qlikview', 'Alation'], 'Data Warehouses': ['Redshift', 'Snowflake', 'Vertica'], 'Customer Data Platform(CDP)': ['Segment'], 'Event Tracking': ['Segment'], 'Data Lakes': ['AWS S3'], 'Data Discovery': ['Alation']}}, {'name': 'Swile', 'tools': {'Data Warehouses': ['Snowflake'], 'Data Modelling and Transformation': ['dbt'], 'Business Intelligence (BI)': ['Looker', 'Metabase', 'Superset'], 'Reverse ETL Tools': ['Hightouch'], 'Data Quality Monitoring': ['Monte Carlo Data'], 'ETL Tools': ['Stitch', 'Fivetran'], 'Data Discovery': ['Castor'], 'Data Privacy and Governance': ['Castor'], 'Data Cataloging': ['Castor'], 'Workflow Orchestration': ['Airflow'], 'Data Streaming': ['Apache Kafka'], 'Customer Data Platform(CDP)': ['Segment'], 'Event Tracking': ['Segment']}}, {'name': 'Tabula', 'tools': {'Data Warehouses': ['Snowflake'], 'ETL Tools': ['Fivetran']}}, {'name': 'Terality', 'tools': {'Data Lakes': ['AWS S3'], 'Workflow Orchestration': ['Airflow'], 'Data Modelling and Transformation': ['Apache Spark']}}, {'name': 'Thinking-machines-data-science', 'tools': {'Data Modelling and Transformation': ['dbt'], 'Data Warehouses': ['Snowflake', 'Google BigQuery', 'Databricks'], 'Workflow Orchestration': ['Dagster', 'Airflow'], 'Business Intelligence (BI)': ['Looker', 'Tableau'], 'ETL Tools': ['StreamSets', 'Fivetran'], 'Data Streaming': ['StreamSets', 'Apache Kafka'], 'Data Apps': ['Streamlit'], 'Data Lakes': ['Databricks']}}, {'name': 'Thoughtspot', 'tools': {'Augmented Analytics': ['ThoughtSpot'], 'Data Warehouses': ['Snowflake'], 'Data Modelling and Transformation': ['dbt']}}, {'name': 'Thoughtspot-inc', 'tools': {'Augmented Analytics': ['ThoughtSpot'], 'Data Warehouses': ['Snowflake']}}, {'name': 'Threeflow', 'tools': {'Data Warehouses': ['Google BigQuery'], 'ETL Tools': ['Stitch'], 'Business Intelligence (BI)': ['Looker'], 'Data Modelling and Transformation': ['dbt']}}, {'name': 'Thrift-books', 'tools': {'Data Warehouses': ['Snowflake'], 'ETL Tools': ['Fivetran'], 'Business Intelligence (BI)': ['Power BI', 'Mode'], 'Data Modelling and Transformation': ['dbt']}}, {'name': 'Thrive', 'tools': {'ETL Tools': ['Fivetran', 'Meltano', 'Stitch'], 'Business Intelligence (BI)': ['Looker'], 'Data Modelling and Transformation': ['dbt'], 'Workflow Orchestration': ['Argo'], 'Data Warehouses': ['Google BigQuery'], 'Customer Data Platform(CDP)': ['Segment'], 'Event Tracking': ['Segment'], 'Data Lakes': ['AWS S3']}}, {'name': 'Timeplus', 'tools': {'Data Streaming': ['Apache Kafka', 'StreamNative', 'Redpanda', 'Confluent'], 'Data Warehouses': ['Snowflake'], 'ETL Tools': ['Airbyte', 'Meltano'], 'Data Modelling and Transformation': ['dbt'], 'Business Intelligence (BI)': ['Mode'], 'Data Workspace/ Collaboration': ['Hyperquery']}}, {'name': 'Togo-group', 'tools': {'Data Warehouses': ['Snowflake'], 'Business Intelligence (BI)': ['Looker', 'Tableau'], 'Data Modelling and Transformation': ['dbt'], 'Data Privacy and Governance': ['Avo'], 'Product Analytics': ['Avo']}}, {'name': 'Too-good-to-go', 'tools': {'Data Modelling and Transformation': ['dbt'], 'Workflow Orchestration': ['Airflow'], 'ETL Tools': ['Airbyte'], 'Data Warehouses': ['Redshift'], 'Business Intelligence (BI)': ['Looker']}}, {'name': 'Trackingplan', 'tools': {'Operational Analytics ': ['Trackingplan'], 'Data Lakes': ['AWS S3'], 'Product Analytics': ['June'], 'Business Intelligence (BI)': ['Graphext'], 'Augmented Analytics': ['Graphext'], 'Data Streaming': ['AWS Kinesis'], 'Customer Data Platform(CDP)': ['Segment'], 'Event Tracking': ['Segment']}}, {'name': 'Trip-actions', 'tools': {'Data Modelling and Transformation': ['dbt'], 'Business Intelligence (BI)': ['Holistics.io', 'Tableau'], 'Data Warehouses': ['Snowflake']}}, {'name': 'Trovatrip', 'tools': {'Business Intelligence (BI)': ['Sigma'], 'Spreadsheet based BI': ['Sigma'], 'Data Warehouses': ['Snowflake'], 'ETL Tools': ['Fivetran'], 'Data Modelling and Transformation': ['dbt'], 'Customer Data Platform(CDP)': ['Segment'], 'Event Tracking': ['Segment'], 'Product Analytics': ['PostHog']}}, {'name': 'Truebill', 'tools': {'Business Intelligence (BI)': ['Looker'], 'Data Modelling and Transformation': ['dbt'], 'Data Warehouses': ['Google BigQuery']}}, {'name': 'Tula-skincare', 'tools': {'Data Warehouses': ['Snowflake'], 'ETL Tools': ['Fivetran'], 'Data Modelling and Transformation': ['dbt'], 'Business Intelligence (BI)': ['Looker']}}, {'name': 'Turntide', 'tools': {'Data Warehouses': ['Snowflake'], 'Data Modelling and Transformation': ['dbt'], 'Business Intelligence (BI)': ['Tableau']}}, {'name': 'Twilio', 'tools': {'Data Streaming': ['Apache Kafka'], 'Workflow Orchestration': ['Airflow', 'Apache Luigi'], 'Data Lakes': ['AWS S3'], 'Data Warehouses': ['Redshift'], 'Data Modelling and Transformation': ['Apache Spark']}}, {'name': 'Twinco-capital', 'tools': {'Data Modelling and Transformation': ['dbt'], 'Business Intelligence (BI)': ['Looker', 'Sigma'], 'ETL Tools': ['Hevo Data'], 'Data Warehouses': ['Google BigQuery'], 'Data Lakes': ['Google Cloud Storage', 'AWS S3'], 'Spreadsheet based BI': ['Sigma']}}, {'name': 'Typeform', 'tools': {'Data Warehouses': ['Google BigQuery', 'Redshift', 'Snowflake'], 'Business Intelligence (BI)': ['Looker'], 'Data Modelling and Transformation': ['dbt']}}, {'name': 'Uber', 'tools': {'Data Warehouses': ['Databricks'], 'Data Lakes': ['Databricks'], 'Data Cataloging': ['Cloudera'], 'Business Intelligence (BI)': ['Tableau', 'Looker'], 'Data Streaming': ['Apache Kafka', 'Apache Storm'], 'Product Analytics': ['Heap', 'Mixpanel'], 'Customer Data Platform(CDP)': ['Segment'], 'Event Tracking': ['Segment'], 'Feature Store': ['Molecula'], 'No code automation': ['Integromat']}}, {'name': 'Udemy', 'tools': {'Data Warehouses': ['Redshift', 'Databricks'], 'Workflow Orchestration': ['Airflow'], 'Business Intelligence (BI)': ['Looker'], 'Data Lakes': ['Databricks']}}, {'name': 'Unionai', 'tools': {'Workflow Orchestration': ['Flyte']}}, {'name': 'University-college-london', 'tools': {'ETL Tools': ['Fivetran'], 'Data Modelling and Transformation': ['dbt']}}, {'name': 'Unsplash', 'tools': {'Data Warehouses': ['Redshift', 'Google BigQuery'], 'Data Lakes': ['AWS S3', 'Google Cloud Storage'], 'Data Modelling and Transformation': ['dbt'], 'Data Streaming': ['AWS Kinesis'], 'Business Intelligence (BI)': ['Looker'], 'Workflow Orchestration': ['Airflow'], 'Event Tracking': ['Snowplow']}}, {'name': 'Untitled-firm', 'tools': {'Data Warehouses': ['Snowflake'], 'Business Intelligence (BI)': ['Sisense'], 'ETL Tools': ['Fivetran'], 'Data Modelling and Transformation': ['dbt']}}, {'name': 'Updater', 'tools': {'Business Intelligence (BI)': ['Looker'], 'ETL Tools': ['Fivetran'], 'Data Modelling and Transformation': ['dbt'], 'Data Warehouses': ['Snowflake'], 'Workflow Orchestration': ['Airflow']}}, {'name': 'Uproad', 'tools': {'ETL Tools': ['AWS Glue', 'Fivetran'], 'Data Warehouses': ['Redshift'], 'Data Modelling and Transformation': ['dbt'], 'Customer Data Platform(CDP)': ['mparticle'], 'Data Streaming': ['AWS Kinesis'], 'Data Lakes': ['AWS S3'], 'Business Intelligence (BI)': ['Redash']}}, {'name': 'Userled', 'tools': {'Data Lakes': ['AWS S3']}}, {'name': 'Vacasa', 'tools': {'Business Intelligence (BI)': ['Salesforce Einstein Analytics', 'Looker', 'Metabase'], 'Customer Data Platform(CDP)': ['Segment'], 'Event Tracking': ['Segment'], 'Workflow Orchestration': ['Airflow'], 'Data Modelling and Transformation': ['dbt']}}, {'name': 'Veed', 'tools': {'ETL Tools': ['Fivetran'], 'Data Warehouses': ['Google BigQuery'], 'Data Modelling and Transformation': ['dbt'], 'Business Intelligence (BI)': ['Looker'], 'Data Workspace/ Collaboration': ['Hex']}}, {'name': 'Velir', 'tools': {'Data Warehouses': ['Snowflake'], 'ETL Tools': ['Fivetran'], 'Business Intelligence (BI)': ['Power BI'], 'Data Modelling and Transformation': ['dbt']}}, {'name': 'Vendr', 'tools': {}}, {'name': 'Veronica-beard', 'tools': {'Data Modelling and Transformation': ['dbt'], 'Data Warehouses': ['Google BigQuery'], 'ETL Tools': ['Fivetran'], 'Customer Data Platform(CDP)': ['Segment'], 'Event Tracking': ['Segment']}}, {'name': 'Vestwell', 'tools': {'Data Modelling and Transformation': ['dbt'], 'Reverse ETL Tools': ['Hightouch'], 'ETL Tools': ['Fivetran'], 'Data Warehouses': ['Snowflake'], 'Business Intelligence (BI)': ['Metabase']}}, {'name': 'Vimeomate', 'tools': {'Data Warehouses': ['Databricks'], 'Data Lakes': ['Databricks'], 'No code automation': ['Integrately'], 'ETL Tools': ['Funnel.io']}}, {'name': 'Vizzly', 'tools': {'Data Lakes': ['AWS S3'], 'Product Analytics': ['PostHog']}}, {'name': 'Vmt-pvt-ltd', 'tools': {'Data Modelling and Transformation': ['dbt'], 'Data Streaming': ['AWS Kinesis'], 'ETL Tools': ['Fivetran'], 'Data Warehouses': ['Databricks'], 'Data Lakes': ['Databricks'], 'Business Intelligence (BI)': ['Looker']}}, {'name': 'Vodafone', 'tools': {'Business Intelligence (BI)': ['Salesforce Einstein Analytics', 'Adverity.com'], 'Data Warehouses': ['Vertica'], 'Augmented Analytics': ['Adverity.com', 'Yellowfinbi'], 'Data Lakes': ['Google Cloud Storage']}}, {'name': 'Vts', 'tools': {'Business Intelligence (BI)': ['Looker', 'Tableau'], 'ETL Tools': ['Fivetran'], 'Data Modelling and Transformation': ['dbt']}}, {'name': 'Wallbox', 'tools': {'ETL Tools': ['Fivetran', 'Airbyte'], 'Reverse ETL Tools': ['Hightouch'], 'Data Modelling and Transformation': ['dbt'], 'Data Warehouses': ['Snowflake', 'Databricks'], 'Business Intelligence (BI)': ['Tableau'], 'Workflow Orchestration': ['Airflow'], 'Data Lakes': ['Databricks']}}, {'name': 'Walmart', 'tools': {'Workflow Orchestration': ['Airflow'], 'Data Lakes': ['AWS S3', 'Google Cloud Storage'], 'Augmented Analytics': ['ThoughtSpot'], 'Data Cataloging': ['Erwin By Quest']}}, {'name': 'Wellthy', 'tools': {'Data Lakes': ['AWS S3'], 'Data Warehouses': ['Snowflake'], 'ETL Tools': ['Stitch', 'Fivetran'], 'Data Modelling and Transformation': ['dbt'], 'Augmented Analytics': ['ThoughtSpot'], 'Business Intelligence (BI)': ['Mode'], 'Event Tracking': ['Snowplow'], 'Product Analytics': ['Mixpanel'], 'Reverse ETL Tools': ['Hightouch']}}, {'name': 'Winc', 'tools': {'Data Warehouses': ['Snowflake'], 'Data Modelling and Transformation': ['dbt'], 'Business Intelligence (BI)': ['Tableau'], 'ETL Tools': ['Fivetran']}}, {'name': 'Wisdomgarden', 'tools': {'Workflow Orchestration': ['Airflow']}}, {'name': 'Workiz', 'tools': {'Data Warehouses': ['Google BigQuery'], 'Business Intelligence (BI)': ['Sisense', 'Looker'], 'No code automation': ['Integromat']}}, {'name': 'Workrise', 'tools': {'Data Warehouses': ['Snowflake'], 'Data Modelling and Transformation': ['dbt'], 'Workflow Orchestration': ['Prefect'], 'ETL Tools': ['Fivetran']}}, {'name': 'X-team', 'tools': {'ETL Tools': ['Fivetran'], 'Data Modelling and Transformation': ['dbt'], 'Data Warehouses': ['Snowflake', 'Google BigQuery', 'Redshift'], 'Workflow Orchestration': ['Airflow']}}, {'name': 'Xometry', 'tools': {'ETL Tools': ['Fivetran'], 'Data Warehouses': ['Snowflake'], 'Business Intelligence (BI)': ['Looker'], 'Data Modelling and Transformation': ['dbt']}}, {'name': 'Yotpo', 'tools': {'Data Quality Monitoring': ['Monte Carlo Data'], 'Data Streaming': ['Apache Kafka'], 'Business Intelligence (BI)': ['Tableau', 'Redash', 'Looker'], 'Data Lakes': ['Apache Hudi', 'Upsolver', 'Delta.io', 'AWS S3'], 'ETL Tools': ['Metorikku', 'Stitch'], 'Data Modelling and Transformation': ['Upsolver', 'dbt', 'Apache Spark'], 'Data Warehouses': ['Upsolver', 'Redshift', 'Snowflake'], 'Workflow Orchestration': ['Airflow'], 'Change Data Capture': ['Debezium'], 'Data Privacy and Governance': ['Okera'], 'Data Mesh': ['Nexla'], 'Reverse ETL Tools': ['Nexla']}}, {'name': 'You-need-a-budget', 'tools': {'ETL Tools': ['Fivetran'], 'Data Warehouses': ['Snowflake'], 'Data Modelling and Transformation': ['dbt'], 'Business Intelligence (BI)': ['Metabase']}}, {'name': 'Zapier', 'tools': {'Workflow Orchestration': ['Airflow'], 'Data Modelling and Transformation': ['dbt'], 'Business Intelligence (BI)': ['Tableau'], 'Data Warehouses': ['Snowflake']}}, {'name': 'Zippi', 'tools': {'Data Modelling and Transformation': ['dbt'], 'Reverse ETL Tools': ['Hightouch'], 'Business Intelligence (BI)': ['Metabase'], 'Data Warehouses': ['Redshift'], 'ETL Tools': ['Hevo Data'], 'Data Lakes': ['AWS S3'], 'Operational Analytics ': ['Logic Loop']}}, {'name': 'Zocdoc', 'tools': {'Data Modelling and Transformation': ['dbt'], 'Data Warehouses': ['Snowflake'], 'Business Intelligence (BI)': ['Looker', 'Tableau']}}, {'name': 'Zomato', 'tools': {'Data Cataloging': ['Cloudera'], 'Customer Data Platform(CDP)': ['Segment'], 'Event Tracking': ['Segment'], 'Data Warehouses': ['Redshift'], 'Business Intelligence (BI)': ['Tableau']}}, {'name': 'Zoom', 'tools': {'Data Warehouses': ['Redshift'], 'Business Intelligence (BI)': ['Tableau', 'Domo', 'Salesforce Einstein Analytics', 'Amazon Quick Sight'], 'Customer Data Platform(CDP)': ['Segment'], 'Event Tracking': ['Segment']}}]\n"
          ]
        }
      ]
    },
    {
      "cell_type": "code",
      "source": [
        "for i in data:\n",
        "  print(i['name'])\n",
        "  for j in i['tools']:\n",
        "    print(j)\n",
        "    for k in i['tools'][j]:\n",
        "      print(' -' + k)\n",
        "  print()"
      ],
      "metadata": {
        "id": "JDOGOwtj32Lt"
      },
      "execution_count": null,
      "outputs": []
    },
    {
      "cell_type": "code",
      "source": [
        "# name of enterprises\n",
        "enterprises = []\n",
        "\n",
        "for i in data:\n",
        "  # print(i['name'])\n",
        "  if i['name'] not in enterprises:\n",
        "      enterprises.append(i['name'])\n",
        "\n",
        "print(enterprises)"
      ],
      "metadata": {
        "id": "3i8IT_OAAooH",
        "colab": {
          "base_uri": "https://localhost:8080/"
        },
        "outputId": "cb721190-3763-4f24-d42b-0880e7a74845"
      },
      "execution_count": 9,
      "outputs": [
        {
          "output_type": "stream",
          "name": "stdout",
          "text": [
            "['Facts', '1mg', '3step-sports', '5x', 'Adevinta', 'Affirm', 'Aggua', 'Airbnb', 'Airbyte', 'Airtasker', 'Aldea-ventures', 'Aldefi', 'Algomarketing', 'Amazon', 'Amino', 'Amuse', 'Andersen-inc', 'Angellist', 'Apache-doris', 'App-creative', 'Apple', 'Aritzia', 'Arka-energy', 'Assent-inc', 'Astrato-analytics', 'Atadataco', 'Atlan', 'Automatad', 'Awmr', 'Axs', 'Azimo', 'Babylon-health', 'Baobab-plus', 'Beamery', 'Bed-bath-and-beyond', 'Bench-accounting', 'Betterment', 'Bitmetric', 'Blablacar', 'Bld', 'Blue-shell-consulting', 'Bol', 'Bolt', 'Branch-energy', 'Brooklyn-data-co', 'Bukuwarung', 'By-aliens', 'Bytewax', 'Call-criteria-quality-assurance-software', 'Canva', 'Capdesk', 'Cargo', 'Catch-co', 'Catchcomau', 'Checkr', 'Chime', 'Chongtechnologies', 'Chownow', 'Ciclic', 'Circleup-inc', 'Clark', 'Classy', 'Clearbit', 'Clearcover', 'Clevermaps', 'Clickhouse', 'Clickup', 'Cloudfit', 'Coca-cola', 'Coginiti', 'Collectors-universe', 'Collibra', 'Construct-connect', 'Contentful', 'Convoy', 'Coral', 'Cortex', 'Coverflex', 'Craft', 'Createthink', 'Creditxpert', 'Cube-dev', 'Culture-amp', 'Custom-ink', 'Customer', 'Dadosfera', 'Dashlane', 'Databandcom', 'Datacoves', 'Dataddo', 'Datafold', 'Datainsider', 'Datalab', 'Datarobot', 'Datazip', 'Datuumai', 'Decisiontree-analytics', 'Decisiontree-analytics-services', 'Decisiontree-analytics-and-services', 'Decube', 'Deepnote', 'Definite', 'Deliveroo', 'Delivery-hero', 'Devoted-health', 'Dialogue', 'Dinmo', 'Dotz-inc', 'Dqlabs-inc', 'Dribbble', 'Drizly', 'Dutchie', 'Dwhdev', 'Ebury', 'Egnyte', 'Electric', 'Envoy', 'Estuary', 'Etna-research', 'Eureka-inc', 'Ez-texting', 'Facebook', 'Fanatics-inc', 'Fantastics', 'Fetch-rewards', 'Fig-tech', 'Figs', 'Flatfile', 'Flawless', 'Flex', 'Flipkart', 'Flixbus', 'Flock-freight', 'Flowcode', 'Forkbomb', 'Fox', 'Fragment-studio', 'Freshly-cosmetic', 'Fullscript', 'Gaia-gps', 'Gamechanger', 'Getindata', 'Getsales', 'Givedirectly', 'Goat', 'Gocanvas', 'Good-apple-foods', 'Good-eggs', 'Google', 'Google-dev-library', 'Gopuff', 'Gousto', 'Grainger', 'Groupone', 'Growth-talent', 'Glean', 'Headway', 'Health-joy', 'Heap', 'Helpscout', 'Hex', 'Hometogo', 'Hotjar', 'Hubla', 'Hubspot', 'Humanloop', 'Ifood-decision-sciences', 'Inc42', 'Incidentio', 'Infoprice', 'Infuseai', 'Inside-track', 'Insight-partner', 'Insight-partners', 'Instacart', 'Instagram', 'Instamojo', 'Insurify', 'Invision', 'Jebra', 'Jetty', 'Jman-group', 'Jobber', 'Jodel', 'Juice-analytics', 'Justos', 'K-health', 'Keboola', 'Keyrus', 'Knotch', 'Knowi', 'Krisp', 'Kyligence', 'Loreal', 'Lacework', 'Landbot', 'Lane', 'Latitude', 'Launchdarkly', 'Ldcc-lotte-data-communication-company', 'Legoai-technologies', 'Linkedin', 'Litech', 'Livestorm', 'Lodgify', 'Loft', 'Logiqai', 'Lola', 'Loop-returns', 'Lotum', 'Lucid', 'Lunar-ventures', 'Lyft', 'Lyska', 'Madison-reed', 'Mage', 'Maisonette', 'Mantra-health', 'Manypets', 'Maple', 'Masterplan', 'Matillion', 'Mattermost', 'Mccormick-bi-llc', 'Medically-home', 'Mejuri', 'Memphisdev', 'Metarouter', 'Microsoft', 'Mighty-canary', 'Mighty-digital', 'Mindfi', 'Moderna', 'Montreal-analytics', 'Monzo', 'Nashtech-global', 'Neon', 'Netflix', 'Netlify', 'Neuroflow', 'Noteable', 'Ntico', 'Onefootball', 'Onefootball-labs', 'Optimus-mine-ltd', 'Osmos', 'Ostro', 'Outdoor-voices', 'Outreach', 'Pachyderm', 'Panasonic', 'Paypal', 'Photobox', 'Pingcap', 'Pinterest', 'Pitch', 'Pluralsight', 'Podkite', 'Pollen', 'Popsink', 'Postman', 'Postscript', 'Proglove', 'Proposify', 'Quanto', 'Quicktable', 'Quintoandar', 'Qurisai', 'Rack-room-shoes', 'Realself', 'Reconfigured', 'Reforge', 'Renaissance', 'Rent-the-runway', 'Rhino', 'Rhombic', 'Ritual', 'Rivery', 'Rockset', 'Ruby-labs', 'Rush-street-interactive', 'Saks-fifth-avenue', 'Samsung', 'Save-the-byte', 'Saydata', 'Secoda', 'Seektable', 'Selectdb', 'Selfr', 'Sellerx', 'Sensor-data', 'Sevdesk', 'Sherloq', 'Shopify', 'Shuddl', 'Simply-business', 'Singularity-data', 'Skims', 'Skypoint-cloud', 'Slack', 'Smile-direct-club', 'Smileeio', 'South-china-morning-post', 'Spin', 'Spotify', 'Springworks-therapeutics', 'Stack-tecnologias', 'Stackable', 'Stonly', 'Streamnative', 'Stride', 'Striim', 'Stripe', 'Sub-zero-group-inc', 'Supergrain', 'Swiggy', 'Swile', 'Tabula', 'Terality', 'Thinking-machines-data-science', 'Thoughtspot', 'Thoughtspot-inc', 'Threeflow', 'Thrift-books', 'Thrive', 'Timeplus', 'Togo-group', 'Too-good-to-go', 'Trackingplan', 'Trip-actions', 'Trovatrip', 'Truebill', 'Tula-skincare', 'Turntide', 'Twilio', 'Twinco-capital', 'Typeform', 'Uber', 'Udemy', 'Unionai', 'University-college-london', 'Unsplash', 'Untitled-firm', 'Updater', 'Uproad', 'Userled', 'Vacasa', 'Veed', 'Velir', 'Vendr', 'Veronica-beard', 'Vestwell', 'Vimeomate', 'Vizzly', 'Vmt-pvt-ltd', 'Vodafone', 'Vts', 'Wallbox', 'Walmart', 'Wellthy', 'Winc', 'Wisdomgarden', 'Workiz', 'Workrise', 'X-team', 'Xometry', 'Yotpo', 'You-need-a-budget', 'Zapier', 'Zippi', 'Zocdoc', 'Zomato', 'Zoom']\n"
          ]
        }
      ]
    },
    {
      "cell_type": "code",
      "source": [
        "# name area by enteprise\n",
        "groups = []\n",
        "\n",
        "for i in data:\n",
        "  for j in i['tools']:\n",
        "    if j not in groups:\n",
        "      groups.append(j)\n",
        "\n",
        "print(groups)"
      ],
      "metadata": {
        "colab": {
          "base_uri": "https://localhost:8080/"
        },
        "id": "7WZpvWOqAtq-",
        "outputId": "f1b005e1-2049-45c1-f2f6-4fb877b9b69b"
      },
      "execution_count": 11,
      "outputs": [
        {
          "output_type": "stream",
          "name": "stdout",
          "text": [
            "['Customer Data Platform(CDP)', 'Event Tracking', 'Spreadsheet based BI', 'Product Analytics', 'Data Lakes', 'Data Streaming', 'Reverse ETL Tools', 'ETL Tools', 'Data Warehouses', 'Business Intelligence (BI)', 'Data Modelling and Transformation', 'Workflow Orchestration', 'Data Quality Monitoring', 'No code automation', 'Operational Analytics ', 'Data Privacy and Governance', 'Synthetic Data', 'Feature Store', 'Business Reliability/Observability', 'PLG CRM', 'Data Cataloging', 'Data Discovery', 'Augmented Analytics', 'Metrics Store', 'Data Workspace/ Collaboration', 'Change Data Capture', 'Data Apps', 'Managed Data Stack', 'Data Mesh']\n"
          ]
        }
      ]
    },
    {
      "cell_type": "code",
      "source": [
        "# find all tools\n",
        "\n",
        "tools = []\n",
        "\n",
        "for i in data:\n",
        "  for j in i['tools']:\n",
        "    for k in i['tools'][j]:\n",
        "      if k not in tools:\n",
        "        tools.append(k)\n",
        "\n",
        "print(tools)"
      ],
      "metadata": {
        "colab": {
          "base_uri": "https://localhost:8080/"
        },
        "id": "HkigmKvwBoav",
        "outputId": "5ac05693-f58e-48e8-d838-ce95a854cc86"
      },
      "execution_count": 13,
      "outputs": [
        {
          "output_type": "stream",
          "name": "stdout",
          "text": [
            "['Segment', 'Rows.com', 'June', 'AWS S3', 'Apache Kafka', 'Rudderstack', 'Google BigQuery', 'Redshift', 'Tableau', 'Snowflake', 'Airbyte', 'dbt', 'Fivetran', 'Looker', 'AWS Glue', 'Delta.io', 'Apache Hudi', 'Apache Spark', 'AWS Athena', 'Airflow', 'Argo', 'AWS Kinesis', 'Great Expectations', 'Soda', 'Databricks', 'Integromat', 'Superset', 'mparticle', 'StarRocks', 'Metabase', 'Dagster', 'Astronomer', 'Netspring', 'Variance', 'Hightouch', 'Privacera', 'Datomize', 'Tecton', 'Quantive Signals', 'Correlated', 'data.world ', 'Secoda', 'Monte Carlo Data', 'Sisu Data', 'Tableau Data Catalog', 'Salesforce Einstein Analytics', 'Vertica', 'Cluvio', 'Stitch', 'Sigma', 'Canvas', 'Apache Flink', 'Min.io', 'Dataform', 'Anomalo', 'Beam', 'Azure Synapse Analytics', 'Dremio', 'Matillion', 'Astrato', 'Shipyard', 'Redash', 'Domo', 'Google Cloud Composer', 'Power BI', 'Microstrategy', 'Census', 'Qlikview', 'Azure Cloud Storage', 'Azure data factory', 'Talend', 'Google Cloud Dataflow', 'Cube', 'Redpanda', 'Materialize', 'Google Cloud Storage', 'Mode', 'Stemma AI', 'Hex', 'Meltano', 'Supermetrics', 'Lightdash', 'Firebolt', 'Heap', 'Mixpanel', 'Snowplow', 'Simon', 'Privacy Dynamics', 'HVR', 'Bigeye', 'Databand', 'Spectacles', 'Metaplane', 'Datafold', 'Select Star', 'Transform Data', 'Streamlit', 'Data Hub', 'Atlan', 'Alation', 'KsqlDB', 'Hive', 'Tray.io', 'Alooma', 'Keboola', 'GoodData', 'CleverMaps', 'Yellowfinbi', 'ClueDin', 'Dataedo', 'Coginiti', 'Hevo Data', 'Pendo', 'Avo', 'Elementary Data', 'Datameer', 'Hashboard', 'StreamSets', 'Collibra', 'Dataddo', 'ThoughtSpot', 'Jitsu', 'Data Channel', 'Google Data Catalog', 'Google cloud data catalog & discovery', 'Iteratively', 'Confluent', 'Celigo', 'Cloudera', 'Apache Storm', 'Kissflow', 'Funnel.io', 'Starburst', 'Ververica', 'Kubeflow', 'Marquez', 'Datakin', 'Debezium', 'Sisense', 'Rivery.io', 'iguazio', 'PipeRider', 'PopSQL', 'Nexla', 'Alteryx', 'Apache Luigi', 'Feast', 'informatica', 'Tealium', 'Tera data', 'Oracle', 'SAP business warehouse', 'Amundsen', 'Singer', 'Mozart Data', 'edge case', 'Hazy', 'Noteable', 'Kestra', 'PostHog', 'y42', 'Qubole', 'Popsink', 'Apache Atlas', 'Prefect', 'Indicative', 'Continual', 'Molecula', 'DoubleCloud', 'Selfr', 'Tellius', 'Apache Nifi', 'Metaphor', 'Supergrain', 'Castor', 'StreamNative', 'Hyperquery', 'Trackingplan', 'Graphext', 'Holistics.io', 'Flyte', 'Integrately', 'Adverity.com', 'Erwin By Quest', 'Upsolver', 'Metorikku', 'Okera', 'Logic Loop', 'Amazon Quick Sight']\n"
          ]
        }
      ]
    },
    {
      "cell_type": "code",
      "source": [
        "# enterprise - tools\n",
        "\n",
        "enterprise_tools = []\n",
        "\n",
        "for i in data:\n",
        "  # print(i['name']) # enterprise\n",
        "  for j in i['tools']:\n",
        "    # print(j)\n",
        "    for k in i['tools'][j]:\n",
        "      # print(k) # tool\n",
        "      enterprise_tools.append([i['name'], k])\n",
        "  # print()\n",
        "\n",
        "print(enterprise_tools)"
      ],
      "metadata": {
        "id": "SSQkfcxbCDKt",
        "colab": {
          "base_uri": "https://localhost:8080/"
        },
        "outputId": "501287bc-bd17-4cd3-c517-2f2d256c934b"
      },
      "execution_count": 49,
      "outputs": [
        {
          "output_type": "stream",
          "name": "stdout",
          "text": [
            "[['Facts', 'Segment'], ['Facts', 'Segment'], ['Facts', 'Rows.com'], ['Facts', 'June'], ['Facts', 'AWS S3'], ['1mg', 'Apache Kafka'], ['1mg', 'Rudderstack'], ['1mg', 'Rudderstack'], ['1mg', 'Rudderstack'], ['1mg', 'Rudderstack'], ['1mg', 'Google BigQuery'], ['1mg', 'Redshift'], ['1mg', 'AWS S3'], ['3step-sports', 'Tableau'], ['3step-sports', 'Snowflake'], ['3step-sports', 'Airbyte'], ['3step-sports', 'dbt'], ['5x', 'Fivetran'], ['5x', 'Looker'], ['5x', 'dbt'], ['5x', 'Snowflake'], ['Adevinta', 'Redshift'], ['Adevinta', 'AWS Glue'], ['Adevinta', 'AWS S3'], ['Adevinta', 'Delta.io'], ['Adevinta', 'Apache Hudi'], ['Adevinta', 'Tableau'], ['Adevinta', 'dbt'], ['Adevinta', 'Apache Spark'], ['Adevinta', 'AWS Athena'], ['Adevinta', 'Airflow'], ['Adevinta', 'Argo'], ['Adevinta', 'Apache Kafka'], ['Adevinta', 'AWS Kinesis'], ['Adevinta', 'Great Expectations'], ['Adevinta', 'Soda'], ['Affirm', 'Apache Kafka'], ['Affirm', 'Airflow'], ['Affirm', 'Databricks'], ['Affirm', 'Snowflake'], ['Affirm', 'Databricks'], ['Affirm', 'dbt'], ['Aggua', 'dbt'], ['Aggua', 'Looker'], ['Aggua', 'Fivetran'], ['Aggua', 'Databricks'], ['Aggua', 'Databricks'], ['Airbnb', 'Integromat'], ['Airbnb', 'Tableau'], ['Airbnb', 'Superset'], ['Airbnb', 'mparticle'], ['Airbnb', 'AWS S3'], ['Airbnb', 'Airflow'], ['Airbnb', 'StarRocks'], ['Airbyte', 'Segment'], ['Airbyte', 'Segment'], ['Airbyte', 'Google BigQuery'], ['Airbyte', 'dbt'], ['Airbyte', 'Airbyte'], ['Airbyte', 'Metabase'], ['Airbyte', 'Dagster'], ['Airtasker', 'Snowflake'], ['Airtasker', 'dbt'], ['Airtasker', 'Fivetran'], ['Airtasker', 'Segment'], ['Airtasker', 'Segment'], ['Airtasker', 'Tableau'], ['Aldea-ventures', 'Databricks'], ['Aldea-ventures', 'Snowflake'], ['Aldea-ventures', 'Databricks'], ['Aldea-ventures', 'Rows.com'], ['Aldea-ventures', 'Astronomer'], ['Aldea-ventures', 'Netspring'], ['Aldea-ventures', 'Variance'], ['Aldea-ventures', 'Hightouch'], ['Aldea-ventures', 'AWS Kinesis'], ['Aldea-ventures', 'Privacera'], ['Aldea-ventures', 'Datomize'], ['Aldea-ventures', 'Tecton'], ['Aldea-ventures', 'Quantive Signals'], ['Aldea-ventures', 'Correlated'], ['Aldea-ventures', 'Variance'], ['Aldea-ventures', 'data.world '], ['Aldea-ventures', 'Secoda'], ['Aldea-ventures', 'Secoda'], ['Aldea-ventures', 'Monte Carlo Data'], ['Aldea-ventures', 'dbt'], ['Aldea-ventures', 'Looker'], ['Aldea-ventures', 'Fivetran'], ['Aldea-ventures', 'Sisu Data'], ['Aldefi', 'Airbyte'], ['Aldefi', 'dbt'], ['Aldefi', 'Looker'], ['Aldefi', 'Tableau Data Catalog'], ['Algomarketing', 'Salesforce Einstein Analytics'], ['Algomarketing', 'Google BigQuery'], ['Amazon', 'AWS Kinesis'], ['Amazon', 'AWS S3'], ['Amazon', 'Redshift'], ['Amazon', 'Vertica'], ['Amazon', 'Cluvio'], ['Amazon', 'Tableau'], ['Amino', 'Stitch'], ['Amino', 'Looker'], ['Amino', 'Dagster'], ['Amino', 'dbt'], ['Amino', 'Snowflake'], ['Amino', 'Databricks'], ['Amino', 'Databricks'], ['Amuse', 'Fivetran'], ['Amuse', 'dbt'], ['Amuse', 'Sigma'], ['Amuse', 'Sigma'], ['Amuse', 'Snowflake'], ['Andersen-inc', 'Canvas'], ['Angellist', 'dbt'], ['Angellist', 'Hightouch'], ['Angellist', 'Metabase'], ['Angellist', 'Redshift'], ['Angellist', 'AWS Glue'], ['Angellist', 'Dagster'], ['Angellist', 'Secoda'], ['Angellist', 'Secoda'], ['Angellist', 'AWS S3'], ['Apache-doris', 'Apache Flink'], ['Apache-doris', 'Apache Spark'], ['Apache-doris', 'Apache Hudi'], ['App-creative', 'Databricks'], ['App-creative', 'Databricks'], ['App-creative', 'AWS Kinesis'], ['Apple', 'Min.io'], ['Aritzia', 'Google BigQuery'], ['Aritzia', 'Dataform'], ['Aritzia', 'Tableau'], ['Aritzia', 'Anomalo'], ['Aritzia', 'Beam'], ['Aritzia', 'Dagster'], ['Aritzia', 'Hightouch'], ['Arka-energy', 'Rows.com'], ['Assent-inc', 'dbt'], ['Assent-inc', 'Hightouch'], ['Assent-inc', 'Fivetran'], ['Assent-inc', 'Snowflake'], ['Assent-inc', 'Tableau'], ['Astrato-analytics', 'Snowflake'], ['Astrato-analytics', 'Google BigQuery'], ['Astrato-analytics', 'Databricks'], ['Astrato-analytics', 'Azure Synapse Analytics'], ['Astrato-analytics', 'Dremio'], ['Astrato-analytics', 'Redshift'], ['Astrato-analytics', 'Databricks'], ['Astrato-analytics', 'Dremio'], ['Astrato-analytics', 'Matillion'], ['Astrato-analytics', 'Astrato'], ['Atadataco', 'dbt'], ['Atadataco', 'Looker'], ['Atadataco', 'Sigma'], ['Atadataco', 'Fivetran'], ['Atadataco', 'Rudderstack'], ['Atadataco', 'Hightouch'], ['Atadataco', 'Rudderstack'], ['Atadataco', 'Shipyard'], ['Atadataco', 'Snowflake'], ['Atadataco', 'Google BigQuery'], ['Atadataco', 'Segment'], ['Atadataco', 'Rudderstack'], ['Atadataco', 'Segment'], ['Atadataco', 'Rudderstack'], ['Atadataco', 'Canvas'], ['Atadataco', 'Sigma'], ['Atlan', 'dbt'], ['Atlan', 'Looker'], ['Atlan', 'Snowflake'], ['Automatad', 'Apache Kafka'], ['Automatad', 'Redash'], ['Automatad', 'AWS S3'], ['Awmr', 'Airflow'], ['Axs', 'Databricks'], ['Axs', 'Redshift'], ['Axs', 'Snowflake'], ['Axs', 'Databricks'], ['Axs', 'Airflow'], ['Axs', 'dbt'], ['Axs', 'Looker'], ['Axs', 'Fivetran'], ['Azimo', 'Domo'], ['Azimo', 'Airflow'], ['Azimo', 'Google Cloud Composer'], ['Azimo', 'Segment'], ['Azimo', 'Segment'], ['Azimo', 'dbt'], ['Babylon-health', 'Airflow'], ['Babylon-health', 'dbt'], ['Babylon-health', 'Looker'], ['Babylon-health', 'Tableau'], ['Babylon-health', 'Google BigQuery'], ['Baobab-plus', 'dbt'], ['Baobab-plus', 'Google BigQuery'], ['Baobab-plus', 'Power BI'], ['Beamery', 'dbt'], ['Beamery', 'Google BigQuery'], ['Beamery', 'Tableau'], ['Beamery', 'Airflow'], ['Bed-bath-and-beyond', 'Domo'], ['Bed-bath-and-beyond', 'Microstrategy'], ['Bed-bath-and-beyond', 'Tableau'], ['Bed-bath-and-beyond', 'Google BigQuery'], ['Bench-accounting', 'Census'], ['Bench-accounting', 'dbt'], ['Bench-accounting', 'Fivetran'], ['Bench-accounting', 'Stitch'], ['Bench-accounting', 'Tableau'], ['Bench-accounting', 'Redshift'], ['Betterment', 'dbt'], ['Betterment', 'Segment'], ['Betterment', 'Segment'], ['Betterment', 'AWS S3'], ['Betterment', 'Looker'], ['Betterment', 'Airflow'], ['Bitmetric', 'Qlikview'], ['Bitmetric', 'Power BI'], ['Bitmetric', 'Astrato'], ['Bitmetric', 'Qlikview'], ['Bitmetric', 'Azure Cloud Storage'], ['Bitmetric', 'Azure data factory'], ['Bitmetric', 'Talend'], ['Bitmetric', 'Azure Synapse Analytics'], ['Bitmetric', 'Google BigQuery'], ['Bitmetric', 'Snowflake'], ['Bitmetric', 'Talend'], ['Blablacar', 'Tableau'], ['Blablacar', 'Google BigQuery'], ['Blablacar', 'Beam'], ['Blablacar', 'Google Cloud Dataflow'], ['Blablacar', 'Apache Kafka'], ['Bld', 'Cube'], ['Bld', 'Redpanda'], ['Bld', 'Materialize'], ['Bld', 'Google BigQuery'], ['Bld', 'Metabase'], ['Bld', 'Google Cloud Storage'], ['Blue-shell-consulting', 'Fivetran'], ['Blue-shell-consulting', 'dbt'], ['Blue-shell-consulting', 'Snowflake'], ['Blue-shell-consulting', 'Mode'], ['Blue-shell-consulting', 'Stemma AI'], ['Blue-shell-consulting', 'Stemma AI'], ['Bol', 'dbt'], ['Bol', 'Airflow'], ['Bolt', 'Looker'], ['Bolt', 'Tableau'], ['Bolt', 'Metabase'], ['Bolt', 'Redshift'], ['Bolt', 'Google BigQuery'], ['Bolt', 'Fivetran'], ['Bolt', 'Hightouch'], ['Branch-energy', 'Fivetran'], ['Branch-energy', 'Stitch'], ['Branch-energy', 'dbt'], ['Branch-energy', 'Airflow'], ['Branch-energy', 'Snowflake'], ['Branch-energy', 'AWS S3'], ['Branch-energy', 'Hex'], ['Branch-energy', 'Census'], ['Brooklyn-data-co', 'Fivetran'], ['Brooklyn-data-co', 'Rudderstack'], ['Brooklyn-data-co', 'Meltano'], ['Brooklyn-data-co', 'Stitch'], ['Brooklyn-data-co', 'Supermetrics'], ['Brooklyn-data-co', 'Airbyte'], ['Brooklyn-data-co', 'Matillion'], ['Brooklyn-data-co', 'dbt'], ['Brooklyn-data-co', 'Hightouch'], ['Brooklyn-data-co', 'Census'], ['Brooklyn-data-co', 'Rudderstack'], ['Brooklyn-data-co', 'Looker'], ['Brooklyn-data-co', 'Mode'], ['Brooklyn-data-co', 'Sigma'], ['Brooklyn-data-co', 'Tableau'], ['Brooklyn-data-co', 'Lightdash'], ['Brooklyn-data-co', 'Astronomer'], ['Brooklyn-data-co', 'Airflow'], ['Brooklyn-data-co', 'Dagster'], ['Brooklyn-data-co', 'Databricks'], ['Brooklyn-data-co', 'Snowflake'], ['Brooklyn-data-co', 'Google BigQuery'], ['Brooklyn-data-co', 'Firebolt'], ['Brooklyn-data-co', 'Redshift'], ['Brooklyn-data-co', 'Databricks'], ['Brooklyn-data-co', 'Heap'], ['Brooklyn-data-co', 'Mixpanel'], ['Brooklyn-data-co', 'Rudderstack'], ['Brooklyn-data-co', 'Segment'], ['Brooklyn-data-co', 'Snowplow'], ['Brooklyn-data-co', 'Rudderstack'], ['Brooklyn-data-co', 'Segment'], ['Brooklyn-data-co', 'mparticle'], ['Brooklyn-data-co', 'Simon'], ['Brooklyn-data-co', 'Sigma'], ['Brooklyn-data-co', 'Privacy Dynamics'], ['Brooklyn-data-co', 'HVR'], ['Brooklyn-data-co', 'Bigeye'], ['Brooklyn-data-co', 'Anomalo'], ['Brooklyn-data-co', 'Databand'], ['Brooklyn-data-co', 'Monte Carlo Data'], ['Brooklyn-data-co', 'Spectacles'], ['Brooklyn-data-co', 'Metaplane'], ['Brooklyn-data-co', 'Datafold'], ['Brooklyn-data-co', 'Select Star'], ['Brooklyn-data-co', 'Secoda'], ['Brooklyn-data-co', 'Select Star'], ['Brooklyn-data-co', 'Secoda'], ['Brooklyn-data-co', 'Transform Data'], ['Brooklyn-data-co', 'Lightdash'], ['Brooklyn-data-co', 'Materialize'], ['Brooklyn-data-co', 'Apache Kafka'], ['Brooklyn-data-co', 'Streamlit'], ['Bukuwarung', 'Stitch'], ['Bukuwarung', 'Google BigQuery'], ['Bukuwarung', 'Airflow'], ['Bukuwarung', 'Apache Kafka'], ['Bukuwarung', 'Tableau'], ['Bukuwarung', 'Data Hub'], ['Bukuwarung', 'Data Hub'], ['By-aliens', 'Airflow'], ['By-aliens', 'Google BigQuery'], ['Bytewax', 'Rows.com'], ['Call-criteria-quality-assurance-software', 'Rows.com'], ['Canva', 'Census'], ['Canva', 'Snowflake'], ['Canva', 'dbt'], ['Canva', 'AWS S3'], ['Canva', 'Looker'], ['Canva', 'Mode'], ['Canva', 'Fivetran'], ['Canva', 'Atlan'], ['Canva', 'Atlan'], ['Capdesk', 'Fivetran'], ['Capdesk', 'Looker'], ['Capdesk', 'dbt'], ['Capdesk', 'Snowflake'], ['Capdesk', 'Spectacles'], ['Cargo', 'dbt'], ['Catch-co', 'Redshift'], ['Catch-co', 'dbt'], ['Catch-co', 'Looker'], ['Catch-co', 'Fivetran'], ['Catch-co', 'Stitch'], ['Catchcomau', 'Redshift'], ['Catchcomau', 'Snowflake'], ['Catchcomau', 'Airflow'], ['Catchcomau', 'Alation'], ['Catchcomau', 'Alation'], ['Catchcomau', 'Tableau'], ['Catchcomau', 'AWS S3'], ['Checkr', 'Snowflake'], ['Checkr', 'Apache Kafka'], ['Checkr', 'Airflow'], ['Checkr', 'dbt'], ['Chime', 'Segment'], ['Chime', 'Segment'], ['Chime', 'Looker'], ['Chime', 'Hex'], ['Chime', 'Fivetran'], ['Chime', 'Snowflake'], ['Chongtechnologies', 'Databricks'], ['Chongtechnologies', 'Azure Synapse Analytics'], ['Chongtechnologies', 'Databricks'], ['Chongtechnologies', 'Azure Cloud Storage'], ['Chongtechnologies', 'AWS S3'], ['Chongtechnologies', 'Apache Kafka'], ['Chongtechnologies', 'KsqlDB'], ['Chongtechnologies', 'Apache Flink'], ['Chongtechnologies', 'Apache Spark'], ['Chongtechnologies', 'Azure data factory'], ['Chongtechnologies', 'Superset'], ['Chongtechnologies', 'Power BI'], ['Chownow', 'Snowflake'], ['Chownow', 'Fivetran'], ['Chownow', 'Matillion'], ['Chownow', 'dbt'], ['Chownow', 'AWS S3'], ['Ciclic', 'dbt'], ['Ciclic', 'Metabase'], ['Ciclic', 'Power BI'], ['Ciclic', 'Airflow'], ['Ciclic', 'Redshift'], ['Ciclic', 'Airbyte'], ['Circleup-inc', 'Airflow'], ['Circleup-inc', 'Apache Spark'], ['Circleup-inc', 'AWS S3'], ['Circleup-inc', 'Google Cloud Storage'], ['Circleup-inc', 'Google BigQuery'], ['Circleup-inc', 'Hive'], ['Circleup-inc', 'Metabase'], ['Circleup-inc', 'Looker'], ['Circleup-inc', 'Tableau'], ['Circleup-inc', 'Apache Kafka'], ['Clark', 'Superset'], ['Clark', 'Mixpanel'], ['Clark', 'Redshift'], ['Clark', 'Airflow'], ['Clark', 'dbt'], ['Clark', 'AWS Kinesis'], ['Clark', 'Fivetran'], ['Clark', 'Hightouch'], ['Classy', 'Fivetran'], ['Classy', 'Redshift'], ['Classy', 'AWS S3'], ['Classy', 'Looker'], ['Classy', 'dbt'], ['Clearbit', 'Segment'], ['Clearbit', 'Segment'], ['Clearbit', 'Tray.io'], ['Clearbit', 'Redshift'], ['Clearbit', 'dbt'], ['Clearbit', 'Stitch'], ['Clearbit', 'Mode'], ['Clearbit', 'Census'], ['Clearcover', 'Fivetran'], ['Clearcover', 'Alooma'], ['Clearcover', 'Looker'], ['Clearcover', 'dbt'], ['Clearcover', 'Redshift'], ['Clearcover', 'Snowflake'], ['Clevermaps', 'Keboola'], ['Clevermaps', 'Keboola'], ['Clevermaps', 'GoodData'], ['Clevermaps', 'CleverMaps'], ['Clevermaps', 'GoodData'], ['Clevermaps', 'Dagster'], ['Clevermaps', 'dbt'], ['Clevermaps', 'AWS S3'], ['Clevermaps', 'Streamlit'], ['Clickhouse', 'Apache Kafka'], ['Clickup', 'Census'], ['Clickup', 'AWS S3'], ['Clickup', 'Fivetran'], ['Clickup', 'dbt'], ['Clickup', 'Tableau'], ['Cloudfit', 'Fivetran'], ['Cloudfit', 'Looker'], ['Cloudfit', 'dbt'], ['Cloudfit', 'Google BigQuery'], ['Coca-cola', 'Yellowfinbi'], ['Coca-cola', 'ClueDin'], ['Coca-cola', 'Dataedo'], ['Coca-cola', 'Salesforce Einstein Analytics'], ['Coca-cola', 'AWS Kinesis'], ['Coginiti', 'Power BI'], ['Coginiti', 'Coginiti'], ['Coginiti', 'Census'], ['Coginiti', 'Hevo Data'], ['Collectors-universe', 'Hex'], ['Collectors-universe', 'Stitch'], ['Collectors-universe', 'Tableau'], ['Collectors-universe', 'dbt'], ['Collectors-universe', 'Google BigQuery'], ['Collibra', 'Apache Spark'], ['Collibra', 'dbt'], ['Collibra', 'Airflow'], ['Collibra', 'AWS S3'], ['Collibra', 'Redash'], ['Collibra', 'Tableau'], ['Collibra', 'Fivetran'], ['Collibra', 'Redshift'], ['Construct-connect', 'Google BigQuery'], ['Construct-connect', 'Fivetran'], ['Construct-connect', 'dbt'], ['Construct-connect', 'Power BI'], ['Contentful', 'Looker'], ['Contentful', 'Redash'], ['Contentful', 'dbt'], ['Contentful', 'Apache Kafka'], ['Contentful', 'Airflow'], ['Contentful', 'Segment'], ['Contentful', 'Segment'], ['Contentful', 'Redshift'], ['Contentful', 'AWS S3'], ['Contentful', 'Stitch'], ['Convoy', 'Stemma AI'], ['Convoy', 'Stemma AI'], ['Convoy', 'Metabase'], ['Convoy', 'Tableau'], ['Convoy', 'dbt'], ['Convoy', 'Snowflake'], ['Convoy', 'Fivetran'], ['Convoy', 'Airflow'], ['Convoy', 'Apache Kafka'], ['Coral', 'dbt'], ['Coral', 'AWS Athena'], ['Coral', 'Redshift'], ['Coral', 'Lightdash'], ['Coral', 'Lightdash'], ['Coral', 'AWS Glue'], ['Coral', 'Airbyte'], ['Coral', 'AWS S3'], ['Cortex', 'Databricks'], ['Cortex', 'Snowflake'], ['Cortex', 'Databricks'], ['Cortex', 'Apache Kafka'], ['Cortex', 'Apache Flink'], ['Cortex', 'Airflow'], ['Coverflex', 'Fivetran'], ['Coverflex', 'Stitch'], ['Coverflex', 'dbt'], ['Coverflex', 'Google BigQuery'], ['Coverflex', 'Segment'], ['Coverflex', 'Segment'], ['Coverflex', 'Lightdash'], ['Coverflex', 'Lightdash'], ['Coverflex', 'Google Cloud Storage'], ['Craft', 'AWS Kinesis'], ['Craft', 'AWS Glue'], ['Craft', 'AWS Athena'], ['Craft', 'AWS S3'], ['Craft', 'Airflow'], ['Craft', 'Redshift'], ['Craft', 'Pendo'], ['Createthink', 'Databricks'], ['Createthink', 'Databricks'], ['Creditxpert', 'Looker'], ['Creditxpert', 'Fivetran'], ['Creditxpert', 'Snowflake'], ['Creditxpert', 'dbt'], ['Cube-dev', 'Cube'], ['Culture-amp', 'Avo'], ['Culture-amp', 'Avo'], ['Culture-amp', 'dbt'], ['Culture-amp', 'Segment'], ['Culture-amp', 'Segment'], ['Culture-amp', 'Looker'], ['Culture-amp', 'Salesforce Einstein Analytics'], ['Culture-amp', 'Fivetran'], ['Culture-amp', 'Census'], ['Custom-ink', 'Tableau'], ['Custom-ink', 'Metabase'], ['Custom-ink', 'Redshift'], ['Custom-ink', 'dbt'], ['Custom-ink', 'Airflow'], ['Customer', 'Stitch'], ['Customer', 'Segment'], ['Customer', 'Segment'], ['Customer', 'Snowflake'], ['Customer', 'dbt'], ['Customer', 'Mode'], ['Dadosfera', 'dbt'], ['Dadosfera', 'AWS Athena'], ['Dadosfera', 'Apache Spark'], ['Dadosfera', 'AWS S3'], ['Dadosfera', 'AWS Glue'], ['Dadosfera', 'AWS Kinesis'], ['Dashlane', 'dbt'], ['Dashlane', 'AWS Athena'], ['Dashlane', 'Apache Spark'], ['Dashlane', 'AWS Kinesis'], ['Dashlane', 'Airbyte'], ['Dashlane', 'AWS Glue'], ['Dashlane', 'Airflow'], ['Dashlane', 'Tableau'], ['Dashlane', 'AWS S3'], ['Dashlane', 'Elementary Data'], ['Dashlane', 'Hightouch'], ['Dashlane', 'Redshift'], ['Databandcom', 'Databricks'], ['Databandcom', 'Databricks'], ['Databandcom', 'Apache Spark'], ['Databandcom', 'Databand'], ['Databandcom', 'Airflow'], ['Datacoves', 'dbt'], ['Datacoves', 'Datameer'], ['Datacoves', 'Airflow'], ['Datacoves', 'Superset'], ['Datacoves', 'Tableau'], ['Datacoves', 'Power BI'], ['Datacoves', 'Looker'], ['Datacoves', 'Hashboard'], ['Datacoves', 'Airbyte'], ['Datacoves', 'Fivetran'], ['Datacoves', 'StreamSets'], ['Datacoves', 'Snowflake'], ['Datacoves', 'Databricks'], ['Datacoves', 'Redshift'], ['Datacoves', 'Google BigQuery'], ['Datacoves', 'Databricks'], ['Datacoves', 'Streamlit'], ['Datacoves', 'Alation'], ['Datacoves', 'Collibra'], ['Datacoves', 'Alation'], ['Datacoves', 'Collibra'], ['Datacoves', 'Collibra'], ['Datacoves', 'Hightouch'], ['Datacoves', 'StreamSets'], ['Dataddo', 'Dataddo'], ['Dataddo', 'Google BigQuery'], ['Dataddo', 'Power BI'], ['Dataddo', 'Tableau'], ['Datafold', 'Looker'], ['Datafold', 'Hightouch'], ['Datafold', 'dbt'], ['Datafold', 'Datafold'], ['Datafold', 'Snowflake'], ['Datafold', 'Hex'], ['Datainsider', 'Apache Kafka'], ['Datalab', 'Fivetran'], ['Datalab', 'Matillion'], ['Datalab', 'Snowflake'], ['Datalab', 'Power BI'], ['Datalab', 'ThoughtSpot'], ['Datalab', 'dbt'], ['Datarobot', 'Snowflake'], ['Datarobot', 'Redshift'], ['Datarobot', 'Stitch'], ['Datarobot', 'Airflow'], ['Datarobot', 'AWS Kinesis'], ['Datazip', 'dbt'], ['Datazip', 'Jitsu'], ['Datazip', 'Superset'], ['Datuumai', 'Airbyte'], ['Datuumai', 'Google Cloud Storage'], ['Datuumai', 'dbt'], ['Decisiontree-analytics', 'Data Channel'], ['Decisiontree-analytics', 'Redshift'], ['Decisiontree-analytics', 'Google BigQuery'], ['Decisiontree-analytics', 'Tableau'], ['Decisiontree-analytics-services', 'Data Channel'], ['Decisiontree-analytics-services', 'Redshift'], ['Decisiontree-analytics-services', 'Google BigQuery'], ['Decisiontree-analytics-services', 'Tableau'], ['Decisiontree-analytics-and-services', 'Data Channel'], ['Decisiontree-analytics-and-services', 'Redshift'], ['Decisiontree-analytics-and-services', 'Tableau'], ['Decube', 'Redshift'], ['Decube', 'AWS S3'], ['Deepnote', 'Google BigQuery'], ['Deepnote', 'Snowflake'], ['Deepnote', 'Stitch'], ['Definite', 'Fivetran'], ['Definite', 'Airbyte'], ['Definite', 'dbt'], ['Definite', 'Snowflake'], ['Definite', 'Airflow'], ['Deliveroo', 'AWS S3'], ['Deliveroo', 'Looker'], ['Deliveroo', 'Tableau'], ['Deliveroo', 'Snowflake'], ['Deliveroo', 'Redshift'], ['Deliveroo', 'Segment'], ['Deliveroo', 'Segment'], ['Delivery-hero', 'AWS S3'], ['Delivery-hero', 'Airflow'], ['Delivery-hero', 'Avo'], ['Delivery-hero', 'Avo'], ['Devoted-health', 'Airflow'], ['Devoted-health', 'dbt'], ['Devoted-health', 'Snowflake'], ['Dialogue', 'Metabase'], ['Dialogue', 'Looker'], ['Dialogue', 'Fivetran'], ['Dialogue', 'Snowflake'], ['Dialogue', 'Snowplow'], ['Dialogue', 'dbt'], ['Dinmo', 'Databricks'], ['Dinmo', 'Google BigQuery'], ['Dinmo', 'Snowflake'], ['Dinmo', 'Databricks'], ['Dotz-inc', 'Airflow'], ['Dotz-inc', 'Google Cloud Composer'], ['Dotz-inc', 'Google Cloud Storage'], ['Dotz-inc', 'Google Cloud Dataflow'], ['Dotz-inc', 'Google Data Catalog'], ['Dotz-inc', 'Qlikview'], ['Dotz-inc', 'Apache Spark'], ['Dotz-inc', 'Dataform'], ['Dotz-inc', 'Google BigQuery'], ['Dotz-inc', 'Tableau'], ['Dotz-inc', 'Qlikview'], ['Dotz-inc', 'Looker'], ['Dotz-inc', 'Google cloud data catalog & discovery'], ['Dqlabs-inc', 'Snowflake'], ['Dribbble', 'Metabase'], ['Dribbble', 'dbt'], ['Dribbble', 'Iteratively'], ['Dribbble', 'Snowflake'], ['Dribbble', 'Dagster'], ['Dribbble', 'Snowplow'], ['Dribbble', 'Fivetran'], ['Drizly', 'Looker'], ['Drizly', 'Fivetran'], ['Drizly', 'Databricks'], ['Drizly', 'Snowflake'], ['Drizly', 'Databricks'], ['Drizly', 'Confluent'], ['Drizly', 'Materialize'], ['Drizly', 'dbt'], ['Dutchie', 'Looker'], ['Dutchie', 'Fivetran'], ['Dutchie', 'Snowflake'], ['Dutchie', 'dbt'], ['Dutchie', 'Dagster'], ['Dwhdev', 'Snowflake'], ['Ebury', 'dbt'], ['Ebury', 'Google BigQuery'], ['Ebury', 'Airflow'], ['Ebury', 'Hex'], ['Ebury', 'Hevo Data'], ['Ebury', 'Segment'], ['Ebury', 'Segment'], ['Ebury', 'Looker'], ['Egnyte', 'dbt'], ['Egnyte', 'Google BigQuery'], ['Egnyte', 'Fivetran'], ['Egnyte', 'Sisu Data'], ['Electric', 'Looker'], ['Electric', 'Snowflake'], ['Electric', 'Pendo'], ['Electric', 'AWS Kinesis'], ['Electric', 'Stitch'], ['Electric', 'dbt'], ['Electric', 'Celigo'], ['Envoy', 'Stitch'], ['Envoy', 'Segment'], ['Envoy', 'Segment'], ['Envoy', 'Airflow'], ['Envoy', 'Looker'], ['Envoy', 'dbt'], ['Envoy', 'Redshift'], ['Estuary', 'Hightouch'], ['Etna-research', 'AWS S3'], ['Eureka-inc', 'dbt'], ['Eureka-inc', 'Google Data Catalog'], ['Eureka-inc', 'Tableau'], ['Eureka-inc', 'Fivetran'], ['Ez-texting', 'Google BigQuery'], ['Ez-texting', 'Airflow'], ['Ez-texting', 'Fivetran'], ['Ez-texting', 'dbt'], ['Ez-texting', 'Tableau'], ['Facebook', 'Segment'], ['Facebook', 'Segment'], ['Facebook', 'Vertica'], ['Facebook', 'Snowflake'], ['Facebook', 'Cloudera'], ['Facebook', 'Tableau'], ['Facebook', 'Microstrategy'], ['Facebook', 'Matillion'], ['Fetch-rewards', 'Airflow'], ['Fetch-rewards', 'Great Expectations'], ['Fetch-rewards', 'Superset'], ['Fetch-rewards', 'Tableau'], ['Fetch-rewards', 'Apache Kafka'], ['Fetch-rewards', 'Apache Flink'], ['Fetch-rewards', 'AWS Kinesis'], ['Fetch-rewards', 'Apache Hudi'], ['Fetch-rewards', 'Snowflake'], ['Fetch-rewards', 'Apache Spark'], ['Fetch-rewards', 'dbt'], ['Fig-tech', 'Fivetran'], ['Fig-tech', 'dbt'], ['Fig-tech', 'Snowflake'], ['Fig-tech', 'Looker'], ['Figs', 'Fivetran'], ['Figs', 'dbt'], ['Figs', 'Looker'], ['Figs', 'Snowflake'], ['Flatfile', 'Segment'], ['Flatfile', 'Segment'], ['Flatfile', 'Google BigQuery'], ['Flatfile', 'dbt'], ['Flatfile', 'Stitch'], ['Flatfile', 'Hightouch'], ['Flawless', 'dbt'], ['Flawless', 'Fivetran'], ['Flawless', 'Metabase'], ['Flex', 'Looker'], ['Flex', 'Google BigQuery'], ['Flex', 'dbt'], ['Flipkart', 'Segment'], ['Flipkart', 'Segment'], ['Flipkart', 'Apache Kafka'], ['Flipkart', 'Apache Flink'], ['Flipkart', 'Apache Storm'], ['Flipkart', 'Kissflow'], ['Flipkart', 'Power BI'], ['Flipkart', 'Tableau'], ['Flixbus', 'Qlikview'], ['Flixbus', 'Tableau'], ['Flixbus', 'Qlikview'], ['Flixbus', 'Matillion'], ['Flixbus', 'Azure Cloud Storage'], ['Flixbus', 'AWS S3'], ['Flock-freight', 'Mode'], ['Flock-freight', 'Sigma'], ['Flock-freight', 'Snowflake'], ['Flock-freight', 'Argo'], ['Flock-freight', 'Sigma'], ['Flock-freight', 'dbt'], ['Flowcode', 'Looker'], ['Flowcode', 'Snowflake'], ['Flowcode', 'Airflow'], ['Flowcode', 'dbt'], ['Flowcode', 'Fivetran'], ['Forkbomb', 'Cube'], ['Forkbomb', 'Airbyte'], ['Forkbomb', 'Rudderstack'], ['Forkbomb', 'dbt'], ['Forkbomb', 'Rudderstack'], ['Forkbomb', 'Rudderstack'], ['Forkbomb', 'Rudderstack'], ['Forkbomb', 'Superset'], ['Fox', 'AWS Athena'], ['Fox', 'Apache Spark'], ['Fox', 'Monte Carlo Data'], ['Fox', 'Tableau'], ['Fox', 'Looker'], ['Fox', 'Redshift'], ['Fox', 'Matillion'], ['Fragment-studio', 'Google BigQuery'], ['Fragment-studio', 'Google Cloud Storage'], ['Fragment-studio', 'Funnel.io'], ['Fragment-studio', 'Power BI'], ['Fragment-studio', 'dbt'], ['Freshly-cosmetic', 'Hevo Data'], ['Freshly-cosmetic', 'Airflow'], ['Freshly-cosmetic', 'Google BigQuery'], ['Freshly-cosmetic', 'dbt'], ['Fullscript', 'Fivetran'], ['Fullscript', 'dbt'], ['Fullscript', 'Snowflake'], ['Gaia-gps', 'Tableau'], ['Gaia-gps', 'Mode'], ['Gaia-gps', 'Snowflake'], ['Gamechanger', 'Apache Kafka'], ['Gamechanger', 'AWS S3'], ['Gamechanger', 'Snowplow'], ['Gamechanger', 'dbt'], ['Gamechanger', 'Airflow'], ['Gamechanger', 'Looker'], ['Gamechanger', 'Hex'], ['Gamechanger', 'Fivetran'], ['Gamechanger', 'Snowflake'], ['Getindata', 'Databricks'], ['Getindata', 'Snowflake'], ['Getindata', 'Google BigQuery'], ['Getindata', 'Redshift'], ['Getindata', 'Databricks'], ['Getindata', 'Google Cloud Storage'], ['Getindata', 'Starburst'], ['Getindata', 'Fivetran'], ['Getindata', 'Airbyte'], ['Getindata', 'Looker'], ['Getindata', 'Tableau'], ['Getindata', 'dbt'], ['Getindata', 'Apache Spark'], ['Getindata', 'Apache Flink'], ['Getindata', 'Apache Kafka'], ['Getindata', 'Google Cloud Dataflow'], ['Getindata', 'Ververica'], ['Getindata', 'Confluent'], ['Getindata', 'AWS Kinesis'], ['Getindata', 'Astronomer'], ['Getindata', 'Google Cloud Composer'], ['Getindata', 'Airflow'], ['Getindata', 'Kubeflow'], ['Getindata', 'Argo'], ['Getindata', 'Google cloud data catalog & discovery'], ['Getindata', 'Marquez'], ['Getindata', 'Data Hub'], ['Getindata', 'Monte Carlo Data'], ['Getindata', 'Great Expectations'], ['Getindata', 'Marquez'], ['Getindata', 'Data Hub'], ['Getindata', 'Datakin'], ['Getindata', 'Debezium'], ['Getindata', 'Starburst'], ['Getsales', 'Tableau'], ['Getsales', 'Salesforce Einstein Analytics'], ['Getsales', 'Google BigQuery'], ['Getsales', 'Airflow'], ['Getsales', 'dbt'], ['Getsales', 'Fivetran'], ['Givedirectly', 'Sisense'], ['Givedirectly', 'Redshift'], ['Givedirectly', 'Stitch'], ['Goat', 'Snowflake'], ['Goat', 'Fivetran'], ['Goat', 'Mode'], ['Goat', 'dbt'], ['Gocanvas', 'dbt'], ['Gocanvas', 'Airflow'], ['Gocanvas', 'Looker'], ['Good-apple-foods', 'Looker'], ['Good-apple-foods', 'Rivery.io'], ['Good-apple-foods', 'Rivery.io'], ['Good-apple-foods', 'Rivery.io'], ['Good-apple-foods', 'Snowflake'], ['Good-eggs', 'Dagster'], ['Good-eggs', 'Mode'], ['Good-eggs', 'Stitch'], ['Good-eggs', 'Snowflake'], ['Good-eggs', 'dbt'], ['Google', 'Tableau'], ['Google', 'Sisense'], ['Google', 'Looker'], ['Google', 'Microstrategy'], ['Google', 'iguazio'], ['Google', 'Argo'], ['Google', 'Databricks'], ['Google', 'Redshift'], ['Google', 'Databricks'], ['Google', 'Apache Storm'], ['Google', 'Cloudera'], ['Google-dev-library', 'Google Cloud Storage'], ['Gopuff', 'Looker'], ['Gopuff', 'Sigma'], ['Gopuff', 'Segment'], ['Gopuff', 'Segment'], ['Gopuff', 'Sigma'], ['Gopuff', 'Spectacles'], ['Gopuff', 'dbt'], ['Gopuff', 'Snowflake'], ['Gousto', 'AWS S3'], ['Gousto', 'Databricks'], ['Gousto', 'Databricks'], ['Grainger', 'dbt'], ['Grainger', 'Airflow'], ['Grainger', 'Snowflake'], ['Groupone', 'Fivetran'], ['Groupone', 'Meltano'], ['Groupone', 'Hightouch'], ['Groupone', 'dbt'], ['Groupone', 'Snowflake'], ['Groupone', 'Tableau'], ['Groupone', 'Elementary Data'], ['Growth-talent', 'Segment'], ['Growth-talent', 'Segment'], ['Glean', 'Fivetran'], ['Glean', 'Google BigQuery'], ['Headway', 'Snowflake'], ['Headway', 'Looker'], ['Headway', 'Fivetran'], ['Headway', 'Hightouch'], ['Headway', 'dbt'], ['Headway', 'Avo'], ['Headway', 'Avo'], ['Health-joy', 'dbt'], ['Health-joy', 'Snowflake'], ['Health-joy', 'Fivetran'], ['Health-joy', 'Looker'], ['Heap', 'Snowflake'], ['Heap', 'Google BigQuery'], ['Heap', 'Redshift'], ['Heap', 'Apache Spark'], ['Helpscout', 'Fivetran'], ['Helpscout', 'Google BigQuery'], ['Helpscout', 'Looker'], ['Helpscout', 'Census'], ['Helpscout', 'dbt'], ['Hex', 'Hex'], ['Hometogo', 'AWS S3'], ['Hometogo', 'Delta.io'], ['Hometogo', 'Airbyte'], ['Hometogo', 'Anomalo'], ['Hometogo', 'Data Hub'], ['Hometogo', 'Qlikview'], ['Hometogo', 'Data Hub'], ['Hometogo', 'Snowplow'], ['Hometogo', 'Redash'], ['Hometogo', 'Superset'], ['Hometogo', 'Qlikview'], ['Hometogo', 'Tableau'], ['Hometogo', 'Redshift'], ['Hometogo', 'Sisu Data'], ['Hometogo', 'dbt'], ['Hometogo', 'Airflow'], ['Hotjar', 'Mixpanel'], ['Hotjar', 'Segment'], ['Hotjar', 'Segment'], ['Hotjar', 'Tableau'], ['Hotjar', 'Redshift'], ['Hotjar', 'Airflow'], ['Hotjar', 'dbt'], ['Hubla', 'dbt'], ['Hubla', 'Metabase'], ['Hubla', 'Google BigQuery'], ['Hubla', 'Airflow'], ['Hubla', 'Airbyte'], ['Hubla', 'Rudderstack'], ['Hubla', 'Rudderstack'], ['Hubla', 'Rudderstack'], ['Hubla', 'Rudderstack'], ['Hubla', 'Mixpanel'], ['Hubla', 'Hex'], ['Hubspot', 'Looker'], ['Hubspot', 'dbt'], ['Hubspot', 'Airflow'], ['Hubspot', 'Snowflake'], ['Humanloop', 'AWS S3'], ['Ifood-decision-sciences', 'Fivetran'], ['Ifood-decision-sciences', 'dbt'], ['Ifood-decision-sciences', 'Snowflake'], ['Inc42', 'Google BigQuery'], ['Incidentio', 'Stitch'], ['Incidentio', 'Fivetran'], ['Incidentio', 'dbt'], ['Incidentio', 'Segment'], ['Incidentio', 'Segment'], ['Incidentio', 'Google BigQuery'], ['Incidentio', 'Metabase'], ['Infoprice', 'Apache Spark'], ['Infoprice', 'AWS Athena'], ['Infoprice', 'Metabase'], ['Infoprice', 'Airflow'], ['Infoprice', 'Databricks'], ['Infoprice', 'Hive'], ['Infoprice', 'Databricks'], ['Infoprice', 'AWS S3'], ['Infoprice', 'AWS Glue'], ['Infoprice', 'Apache Kafka'], ['Infuseai', 'PipeRider'], ['Inside-track', 'Tableau'], ['Inside-track', 'Snowflake'], ['Inside-track', 'dbt'], ['Inside-track', 'Fivetran'], ['Insight-partner', 'dbt'], ['Insight-partner', 'Meltano'], ['Insight-partner', 'Fivetran'], ['Insight-partner', 'Airflow'], ['Insight-partner', 'Snowflake'], ['Insight-partners', 'Airflow'], ['Insight-partners', 'Meltano'], ['Insight-partners', 'Fivetran'], ['Insight-partners', 'dbt'], ['Insight-partners', 'Snowflake'], ['Instacart', 'Segment'], ['Instacart', 'Segment'], ['Instacart', 'Looker'], ['Instacart', 'Tableau'], ['Instacart', 'Snowflake'], ['Instacart', 'Redshift'], ['Instacart', 'PopSQL'], ['Instacart', 'Nexla'], ['Instacart', 'Nexla'], ['Instacart', 'Apache Kafka'], ['Instagram', 'Azure Cloud Storage'], ['Instagram', 'AWS S3'], ['Instagram', 'Segment'], ['Instagram', 'Segment'], ['Instagram', 'Tableau'], ['Instamojo', 'Fivetran'], ['Instamojo', 'dbt'], ['Instamojo', 'Census'], ['Instamojo', 'Mixpanel'], ['Instamojo', 'Redshift'], ['Insurify', 'Hightouch'], ['Insurify', 'Mode'], ['Insurify', 'Redshift'], ['Insurify', 'Airflow'], ['Insurify', 'Stitch'], ['Invision', 'Segment'], ['Invision', 'Segment'], ['Invision', 'Mode'], ['Invision', 'Redshift'], ['Invision', 'AWS S3'], ['Invision', 'Census'], ['Jebra', 'Google Cloud Storage'], ['Jebra', 'AWS S3'], ['Jetty', 'dbt'], ['Jetty', 'Snowflake'], ['Jetty', 'Fivetran'], ['Jetty', 'Tableau'], ['Jman-group', 'Azure Synapse Analytics'], ['Jman-group', 'Databricks'], ['Jman-group', 'Snowflake'], ['Jman-group', 'Redshift'], ['Jman-group', 'Google BigQuery'], ['Jman-group', 'Databricks'], ['Jman-group', 'dbt'], ['Jman-group', 'Fivetran'], ['Jman-group', 'Stitch'], ['Jman-group', 'Airbyte'], ['Jman-group', 'Matillion'], ['Jman-group', 'Azure data factory'], ['Jman-group', 'AWS Glue'], ['Jman-group', 'Tableau'], ['Jman-group', 'Power BI'], ['Jman-group', 'Looker'], ['Jman-group', 'Superset'], ['Jman-group', 'Airflow'], ['Jman-group', 'Google Cloud Composer'], ['Jman-group', 'Alteryx'], ['Jman-group', 'Alteryx'], ['Jman-group', 'Apache Kafka'], ['Jobber', 'Cube'], ['Jobber', 'Fivetran'], ['Jobber', 'Redshift'], ['Jodel', 'AWS S3'], ['Jodel', 'Metabase'], ['Jodel', 'AWS Glue'], ['Jodel', 'Apache Luigi'], ['Jodel', 'Redshift'], ['Jodel', 'AWS Athena'], ['Jodel', 'AWS Kinesis'], ['Juice-analytics', 'Redshift'], ['Justos', 'dbt'], ['Justos', 'AWS Athena'], ['Justos', 'Looker'], ['Justos', 'Redshift'], ['Justos', 'Airflow'], ['Justos', 'Astronomer'], ['Justos', 'Segment'], ['Justos', 'Segment'], ['Justos', 'Funnel.io'], ['Justos', 'AWS S3'], ['Justos', 'Feast'], ['Justos', 'Streamlit'], ['Justos', 'Great Expectations'], ['K-health', 'Looker'], ['K-health', 'Airflow'], ['K-health', 'Segment'], ['K-health', 'Segment'], ['K-health', 'Google BigQuery'], ['K-health', 'Fivetran'], ['Keboola', 'Keboola'], ['Keboola', 'Keboola'], ['Keyrus', 'Tableau'], ['Keyrus', 'Rivery.io'], ['Keyrus', 'dbt'], ['Keyrus', 'Rivery.io'], ['Keyrus', 'Talend'], ['Keyrus', 'Rivery.io'], ['Keyrus', 'Snowflake'], ['Keyrus', 'Alteryx'], ['Keyrus', 'Alteryx'], ['Keyrus', 'Talend'], ['Knotch', 'Airflow'], ['Knotch', 'Redshift'], ['Knotch', 'Apache Spark'], ['Knowi', 'AWS Athena'], ['Knowi', 'AWS Kinesis'], ['Krisp', 'dbt'], ['Krisp', 'Tableau'], ['Krisp', 'Redshift'], ['Kyligence', 'Hive'], ['Kyligence', 'Apache Spark'], ['Kyligence', 'AWS S3'], ['Kyligence', 'Azure Cloud Storage'], ['Loreal', 'Databricks'], ['Loreal', 'Google BigQuery'], ['Loreal', 'Snowflake'], ['Loreal', 'Databricks'], ['Loreal', 'Google Cloud Storage'], ['Loreal', 'Azure Cloud Storage'], ['Loreal', 'Google Cloud Dataflow'], ['Loreal', 'Apache Kafka'], ['Loreal', 'Confluent'], ['Loreal', 'Google Cloud Composer'], ['Loreal', 'Kubeflow'], ['Loreal', 'Airflow'], ['Loreal', 'Collibra'], ['Loreal', 'Google Data Catalog'], ['Loreal', 'informatica'], ['Loreal', 'Collibra'], ['Loreal', 'Google cloud data catalog & discovery'], ['Loreal', 'Collibra'], ['Loreal', 'Power BI'], ['Loreal', 'Looker'], ['Loreal', 'Domo'], ['Loreal', 'dbt'], ['Loreal', 'Apache Spark'], ['Loreal', 'Dataform'], ['Loreal', 'Azure data factory'], ['Loreal', 'informatica'], ['Loreal', 'Tealium'], ['Loreal', 'Great Expectations'], ['Loreal', 'Transform Data'], ['Lacework', 'Fivetran'], ['Lacework', 'dbt'], ['Lacework', 'Snowflake'], ['Lacework', 'Hex'], ['Lacework', 'Hightouch'], ['Lacework', 'ThoughtSpot'], ['Landbot', 'dbt'], ['Landbot', 'Apache Spark'], ['Landbot', 'Google BigQuery'], ['Landbot', 'Airflow'], ['Landbot', 'Google Cloud Composer'], ['Landbot', 'Census'], ['Landbot', 'Airbyte'], ['Landbot', 'Google Cloud Storage'], ['Lane', 'dbt'], ['Lane', 'Snowflake'], ['Lane', 'Fivetran'], ['Lane', 'Looker'], ['Latitude', 'Snowflake'], ['Latitude', 'Airbyte'], ['Launchdarkly', 'Airflow'], ['Launchdarkly', 'AWS S3'], ['Launchdarkly', 'Snowflake'], ['Launchdarkly', 'dbt'], ['Ldcc-lotte-data-communication-company', 'Fivetran'], ['Ldcc-lotte-data-communication-company', 'dbt'], ['Ldcc-lotte-data-communication-company', 'AWS Kinesis'], ['Ldcc-lotte-data-communication-company', 'Databricks'], ['Ldcc-lotte-data-communication-company', 'Databricks'], ['Legoai-technologies', 'Rows.com'], ['Legoai-technologies', 'Databricks'], ['Legoai-technologies', 'Databricks'], ['Linkedin', 'Tera data'], ['Linkedin', 'Oracle'], ['Linkedin', 'Apache Kafka'], ['Linkedin', 'Azure Cloud Storage'], ['Linkedin', 'AWS S3'], ['Linkedin', 'Microstrategy'], ['Linkedin', 'Data Hub'], ['Linkedin', 'informatica'], ['Linkedin', 'Data Hub'], ['Linkedin', 'informatica'], ['Litech', 'Vertica'], ['Litech', 'Snowflake'], ['Litech', 'Google BigQuery'], ['Litech', 'SAP business warehouse'], ['Livestorm', 'Stitch'], ['Livestorm', 'Fivetran'], ['Livestorm', 'Airflow'], ['Livestorm', 'dbt'], ['Livestorm', 'Segment'], ['Livestorm', 'Segment'], ['Livestorm', 'Snowflake'], ['Livestorm', 'Looker'], ['Lodgify', 'Tableau'], ['Lodgify', 'Metabase'], ['Lodgify', 'Rudderstack'], ['Lodgify', 'Rudderstack'], ['Lodgify', 'Hightouch'], ['Lodgify', 'Rudderstack'], ['Lodgify', 'Rudderstack'], ['Lodgify', 'Fivetran'], ['Lodgify', 'dbt'], ['Loft', 'Looker'], ['Loft', 'dbt'], ['Loft', 'AWS Athena'], ['Loft', 'Spectacles'], ['Loft', 'AWS S3'], ['Loft', 'Databricks'], ['Loft', 'Stitch'], ['Loft', 'Databricks'], ['Logiqai', 'Databricks'], ['Logiqai', 'Databricks'], ['Lola', 'Snowflake'], ['Lola', 'Looker'], ['Lola', 'Fivetran'], ['Loop-returns', 'Fivetran'], ['Loop-returns', 'Meltano'], ['Loop-returns', 'dbt'], ['Loop-returns', 'Looker'], ['Loop-returns', 'Secoda'], ['Loop-returns', 'Secoda'], ['Loop-returns', 'Snowflake'], ['Loop-returns', 'Spectacles'], ['Loop-returns', 'Monte Carlo Data'], ['Loop-returns', 'Segment'], ['Loop-returns', 'Segment'], ['Loop-returns', 'Hex'], ['Lotum', 'Looker'], ['Lotum', 'Google Cloud Composer'], ['Lotum', 'Airflow'], ['Lotum', 'Google BigQuery'], ['Lucid', 'Databricks'], ['Lucid', 'Snowflake'], ['Lucid', 'Databricks'], ['Lucid', 'Airflow'], ['Lucid', 'dbt'], ['Lunar-ventures', 'dbt'], ['Lunar-ventures', 'Google BigQuery'], ['Lunar-ventures', 'Dagster'], ['Lunar-ventures', 'Fivetran'], ['Lunar-ventures', 'Airbyte'], ['Lunar-ventures', 'Hex'], ['Lunar-ventures', 'Census'], ['Lunar-ventures', 'Lightdash'], ['Lunar-ventures', 'Lightdash'], ['Lyft', 'AWS S3'], ['Lyft', 'Apache Kafka'], ['Lyft', 'Confluent'], ['Lyft', 'AWS Kinesis'], ['Lyft', 'Airflow'], ['Lyft', 'Stemma AI'], ['Lyft', 'Amundsen'], ['Lyft', 'Stemma AI'], ['Lyft', 'Amundsen'], ['Lyft', 'Mode'], ['Lyska', 'Apache Kafka'], ['Lyska', 'Google Cloud Storage'], ['Lyska', 'Debezium'], ['Lyska', 'Google BigQuery'], ['Madison-reed', 'Snowflake'], ['Madison-reed', 'Looker'], ['Madison-reed', 'dbt'], ['Madison-reed', 'Fivetran'], ['Mage', 'Airflow'], ['Mage', 'dbt'], ['Mage', 'Apache Spark'], ['Mage', 'Google BigQuery'], ['Mage', 'Redshift'], ['Mage', 'Snowflake'], ['Mage', 'Singer'], ['Mage', 'AWS S3'], ['Mage', 'Hightouch'], ['Maisonette', 'Snowflake'], ['Maisonette', 'Fivetran'], ['Maisonette', 'Looker'], ['Maisonette', 'dbt'], ['Mantra-health', 'Fivetran'], ['Mantra-health', 'Looker'], ['Mantra-health', 'Mozart Data'], ['Mantra-health', 'Snowflake'], ['Manypets', 'Airflow'], ['Manypets', 'dbt'], ['Manypets', 'Power BI'], ['Manypets', 'Fivetran'], ['Manypets', 'Meltano'], ['Manypets', 'Hightouch'], ['Manypets', 'Google BigQuery'], ['Maple', 'dbt'], ['Maple', 'Snowflake'], ['Maple', 'Redshift'], ['Masterplan', 'Google BigQuery'], ['Masterplan', 'dbt'], ['Masterplan', 'Fivetran'], ['Matillion', 'Matillion'], ['Matillion', 'Redshift'], ['Matillion', 'Snowflake'], ['Matillion', 'Databricks'], ['Matillion', 'Tableau'], ['Matillion', 'Sigma'], ['Matillion', 'Databricks'], ['Matillion', 'ThoughtSpot'], ['Matillion', 'Sigma'], ['Mattermost', 'AWS S3'], ['Mattermost', 'Airflow'], ['Mattermost', 'Redshift'], ['Mattermost', 'Snowflake'], ['Mattermost', 'Stitch'], ['Mattermost', 'Rudderstack'], ['Mattermost', 'Looker'], ['Mattermost', 'dbt'], ['Mattermost', 'Rudderstack'], ['Mattermost', 'Rudderstack'], ['Mattermost', 'Rudderstack'], ['Mccormick-bi-llc', 'Fivetran'], ['Mccormick-bi-llc', 'dbt'], ['Mccormick-bi-llc', 'Sigma'], ['Mccormick-bi-llc', 'Sigma'], ['Mccormick-bi-llc', 'Snowflake'], ['Medically-home', 'dbt'], ['Medically-home', 'Snowflake'], ['Medically-home', 'Meltano'], ['Medically-home', 'Airflow'], ['Mejuri', 'Looker'], ['Mejuri', 'Airbyte'], ['Mejuri', 'Google BigQuery'], ['Mejuri', 'dbt'], ['Mejuri', 'Dagster'], ['Memphisdev', 'Astronomer'], ['Memphisdev', 'Looker'], ['Metarouter', 'Apache Kafka'], ['Microsoft', 'Databricks'], ['Microsoft', 'Oracle'], ['Microsoft', 'Databricks'], ['Microsoft', 'Azure Cloud Storage'], ['Microsoft', 'Microstrategy'], ['Microsoft', 'Looker'], ['Microsoft', 'edge case'], ['Microsoft', 'Hazy'], ['Microsoft', 'Cloudera'], ['Microsoft', 'Alteryx'], ['Microsoft', 'iguazio'], ['Microsoft', 'Talend'], ['Microsoft', 'Talend'], ['Microsoft', 'Alteryx'], ['Mighty-canary', 'dbt'], ['Mighty-canary', 'Tableau'], ['Mighty-digital', 'dbt'], ['Mighty-digital', 'Hevo Data'], ['Mighty-digital', 'Fivetran'], ['Mighty-digital', 'Singer'], ['Mighty-digital', 'Stitch'], ['Mighty-digital', 'AWS Glue'], ['Mighty-digital', 'Meltano'], ['Mighty-digital', 'Rudderstack'], ['Mighty-digital', 'Segment'], ['Mighty-digital', 'mparticle'], ['Mighty-digital', 'Rudderstack'], ['Mighty-digital', 'Segment'], ['Mighty-digital', 'Rudderstack'], ['Mighty-digital', 'Google Cloud Storage'], ['Mighty-digital', 'AWS S3'], ['Mighty-digital', 'Redshift'], ['Mighty-digital', 'Firebolt'], ['Mighty-digital', 'Google BigQuery'], ['Mighty-digital', 'Redash'], ['Mighty-digital', 'Looker'], ['Mighty-digital', 'AWS Kinesis'], ['Mighty-digital', 'Rudderstack'], ['Mighty-digital', 'Hightouch'], ['Mindfi', 'Airbyte'], ['Mindfi', 'Superset'], ['Mindfi', 'dbt'], ['Mindfi', 'AWS Kinesis'], ['Mindfi', 'Cube'], ['Mindfi', 'Snowplow'], ['Moderna', 'Looker'], ['Moderna', 'AWS S3'], ['Montreal-analytics', 'Google BigQuery'], ['Montreal-analytics', 'Snowflake'], ['Montreal-analytics', 'Fivetran'], ['Montreal-analytics', 'Looker'], ['Montreal-analytics', 'dbt'], ['Montreal-analytics', 'Hightouch'], ['Monzo', 'Airflow'], ['Monzo', 'Google BigQuery'], ['Monzo', 'dbt'], ['Monzo', 'Looker'], ['Nashtech-global', 'Databricks'], ['Nashtech-global', 'Databricks'], ['Nashtech-global', 'dbt'], ['Nashtech-global', 'AWS Kinesis'], ['Nashtech-global', 'Looker'], ['Neon', 'Fivetran'], ['Netflix', 'Apache Kafka'], ['Netflix', 'AWS Kinesis'], ['Netflix', 'Tera data'], ['Netflix', 'Oracle'], ['Netflix', 'Microstrategy'], ['Netflix', 'Tableau'], ['Netflix', 'AWS S3'], ['Netlify', 'Census'], ['Netlify', 'Fivetran'], ['Netlify', 'Transform Data'], ['Netlify', 'dbt'], ['Netlify', 'Snowflake'], ['Netlify', 'Mode'], ['Netlify', 'Airflow'], ['Neuroflow', 'Snowflake'], ['Neuroflow', 'dbt'], ['Neuroflow', 'Metabase'], ['Neuroflow', 'Fivetran'], ['Noteable', 'Noteable'], ['Ntico', 'Kestra'], ['Onefootball', 'AWS Kinesis'], ['Onefootball', 'AWS S3'], ['Onefootball', 'Stitch'], ['Onefootball', 'AWS Glue'], ['Onefootball', 'Metabase'], ['Onefootball', 'dbt'], ['Onefootball', 'Airflow'], ['Onefootball', 'Snowplow'], ['Onefootball-labs', 'Google BigQuery'], ['Onefootball-labs', 'dbt'], ['Onefootball-labs', 'Superset'], ['Onefootball-labs', 'Airbyte'], ['Optimus-mine-ltd', 'Google BigQuery'], ['Osmos', 'Google BigQuery'], ['Ostro', 'Google BigQuery'], ['Ostro', 'Airflow'], ['Ostro', 'dbt'], ['Ostro', 'Metabase'], ['Ostro', 'PostHog'], ['Ostro', 'Elementary Data'], ['Outdoor-voices', 'Looker'], ['Outdoor-voices', 'dbt'], ['Outdoor-voices', 'Airflow'], ['Outdoor-voices', 'Stitch'], ['Outreach', 'Snowflake'], ['Outreach', 'dbt'], ['Outreach', 'Tableau'], ['Pachyderm', 'Fivetran'], ['Pachyderm', 'Stitch'], ['Pachyderm', 'Rudderstack'], ['Pachyderm', 'Sigma'], ['Pachyderm', 'Sigma'], ['Pachyderm', 'Rudderstack'], ['Pachyderm', 'Rudderstack'], ['Pachyderm', 'Rudderstack'], ['Pachyderm', 'Google BigQuery'], ['Panasonic', 'Stitch'], ['Panasonic', 'dbt'], ['Panasonic', 'Secoda'], ['Panasonic', 'Secoda'], ['Panasonic', 'Tableau'], ['Panasonic', 'Snowflake'], ['Paypal', 'Segment'], ['Paypal', 'Segment'], ['Paypal', 'Microstrategy'], ['Paypal', 'Looker'], ['Paypal', 'Qlikview'], ['Paypal', 'Tableau'], ['Paypal', 'y42'], ['Paypal', 'Alation'], ['Paypal', 'Alteryx'], ['Paypal', 'Alation'], ['Paypal', 'Qlikview'], ['Paypal', 'Google Data Catalog'], ['Paypal', 'Alteryx'], ['Paypal', 'Google Cloud Storage'], ['Paypal', 'Min.io'], ['Paypal', 'Airflow'], ['Paypal', 'Kubeflow'], ['Paypal', 'Google Cloud Composer'], ['Paypal', 'Tera data'], ['Paypal', 'y42'], ['Paypal', 'Google Cloud Dataflow'], ['Photobox', 'Great Expectations'], ['Photobox', 'Fivetran'], ['Photobox', 'Snowflake'], ['Photobox', 'AWS S3'], ['Photobox', 'Airflow'], ['Photobox', 'Looker'], ['Photobox', 'dbt'], ['Pingcap', 'dbt'], ['Pingcap', 'Apache Spark'], ['Pingcap', 'Metabase'], ['Pingcap', 'Looker'], ['Pingcap', 'Tableau'], ['Pingcap', 'Databricks'], ['Pingcap', 'Databricks'], ['Pingcap', 'Airbyte'], ['Pingcap', 'Apache Kafka'], ['Pingcap', 'Apache Flink'], ['Pinterest', 'AWS S3'], ['Pinterest', 'Qubole'], ['Pinterest', 'Apache Storm'], ['Pinterest', 'Apache Kafka'], ['Pinterest', 'Redshift'], ['Pitch', 'dbt'], ['Pitch', 'Metabase'], ['Pitch', 'Census'], ['Pitch', 'Hightouch'], ['Pitch', 'Snowplow'], ['Pitch', 'Fivetran'], ['Pitch', 'Snowflake'], ['Pluralsight', 'Apache Kafka'], ['Pluralsight', 'Apache Flink'], ['Pluralsight', 'Airflow'], ['Pluralsight', 'Fivetran'], ['Pluralsight', 'dbt'], ['Pluralsight', 'Apache Spark'], ['Pluralsight', 'Snowflake'], ['Pluralsight', 'Databricks'], ['Pluralsight', 'Databricks'], ['Podkite', 'AWS Kinesis'], ['Podkite', 'AWS S3'], ['Podkite', 'Google Cloud Storage'], ['Podkite', 'Cube'], ['Pollen', 'Airflow'], ['Pollen', 'Looker'], ['Pollen', 'Tableau'], ['Pollen', 'dbt'], ['Pollen', 'Fivetran'], ['Pollen', 'Stitch'], ['Pollen', 'Snowflake'], ['Popsink', 'Popsink'], ['Popsink', 'Popsink'], ['Popsink', 'Apache Flink'], ['Popsink', 'Redpanda'], ['Popsink', 'dbt'], ['Popsink', 'Snowflake'], ['Popsink', 'AWS S3'], ['Popsink', 'Debezium'], ['Postman', 'Looker'], ['Postman', 'Power BI'], ['Postman', 'Redshift'], ['Postman', 'dbt'], ['Postman', 'Atlan'], ['Postman', 'Atlan'], ['Postman', 'Stitch'], ['Postscript', 'Stitch'], ['Postscript', 'Fivetran'], ['Postscript', 'Snowflake'], ['Postscript', 'dbt'], ['Postscript', 'Looker'], ['Postscript', 'AWS S3'], ['Proglove', 'Tableau'], ['Proglove', 'Fivetran'], ['Proglove', 'Snowflake'], ['Proglove', 'dbt'], ['Proposify', 'Mode'], ['Proposify', 'Dataform'], ['Proposify', 'Redshift'], ['Proposify', 'Heap'], ['Proposify', 'Segment'], ['Proposify', 'Rudderstack'], ['Proposify', 'Segment'], ['Proposify', 'Rudderstack'], ['Proposify', 'Rudderstack'], ['Proposify', 'Rudderstack'], ['Proposify', 'Stitch'], ['Quanto', 'Looker'], ['Quanto', 'dbt'], ['Quanto', 'Apache Spark'], ['Quanto', 'Airflow'], ['Quanto', 'Google BigQuery'], ['Quanto', 'Google Cloud Storage'], ['Quicktable', 'Fivetran'], ['Quicktable', 'dbt'], ['Quintoandar', 'Hive'], ['Quintoandar', 'Databricks'], ['Quintoandar', 'Airflow'], ['Quintoandar', 'AWS S3'], ['Quintoandar', 'Databricks'], ['Quintoandar', 'Apache Atlas'], ['Quintoandar', 'Looker'], ['Quintoandar', 'Apache Kafka'], ['Qurisai', 'Google Cloud Storage'], ['Qurisai', 'Google BigQuery'], ['Rack-room-shoes', 'Snowflake'], ['Rack-room-shoes', 'Oracle'], ['Rack-room-shoes', 'Salesforce Einstein Analytics'], ['Rack-room-shoes', 'Microstrategy'], ['Rack-room-shoes', 'Matillion'], ['Rack-room-shoes', 'Alteryx'], ['Rack-room-shoes', 'Alteryx'], ['Realself', 'Google BigQuery'], ['Realself', 'Looker'], ['Realself', 'Stitch'], ['Realself', 'dbt'], ['Reconfigured', 'dbt'], ['Reforge', 'Airflow'], ['Reforge', 'dbt'], ['Reforge', 'Metabase'], ['Reforge', 'Segment'], ['Reforge', 'Segment'], ['Renaissance', 'Snowflake'], ['Renaissance', 'Airflow'], ['Renaissance', 'dbt'], ['Rent-the-runway', 'Snowflake'], ['Rent-the-runway', 'Prefect'], ['Rent-the-runway', 'Great Expectations'], ['Rent-the-runway', 'dbt'], ['Rhino', 'Snowflake'], ['Rhino', 'Databricks'], ['Rhino', 'Fivetran'], ['Rhino', 'Airbyte'], ['Rhino', 'Databricks'], ['Rhino', 'Looker'], ['Rhino', 'dbt'], ['Rhombic', 'Snowflake'], ['Rhombic', 'Fivetran'], ['Rhombic', 'dbt'], ['Rhombic', 'ThoughtSpot'], ['Rhombic', 'Alteryx'], ['Rhombic', 'Alteryx'], ['Rhombic', 'Keboola'], ['Rhombic', 'Keboola'], ['Ritual', 'Snowflake'], ['Ritual', 'Databricks'], ['Ritual', 'Fivetran'], ['Ritual', 'Indicative'], ['Ritual', 'dbt'], ['Ritual', 'Segment'], ['Ritual', 'Segment'], ['Ritual', 'Indicative'], ['Ritual', 'Databricks'], ['Ritual', 'Looker'], ['Rivery', 'Rivery.io'], ['Rivery', 'Rivery.io'], ['Rivery', 'Rivery.io'], ['Rivery', 'Snowflake'], ['Rivery', 'Tableau'], ['Rockset', 'Hightouch'], ['Ruby-labs', 'Continual'], ['Ruby-labs', 'Avo'], ['Ruby-labs', 'Avo'], ['Ruby-labs', 'Google BigQuery'], ['Ruby-labs', 'Hex'], ['Ruby-labs', 'Airflow'], ['Ruby-labs', 'Google Cloud Composer'], ['Ruby-labs', 'dbt'], ['Ruby-labs', 'Lightdash'], ['Ruby-labs', 'Lightdash'], ['Rush-street-interactive', 'Looker'], ['Rush-street-interactive', 'dbt'], ['Rush-street-interactive', 'Airflow'], ['Rush-street-interactive', 'Snowflake'], ['Saks-fifth-avenue', 'dbt'], ['Saks-fifth-avenue', 'Looker'], ['Saks-fifth-avenue', 'Snowflake'], ['Samsung', 'Qlikview'], ['Samsung', 'Qlikview'], ['Samsung', 'Sisu Data'], ['Samsung', 'Funnel.io'], ['Samsung', 'Supermetrics'], ['Samsung', 'Molecula'], ['Samsung', 'iguazio'], ['Save-the-byte', 'DoubleCloud'], ['Saydata', 'dbt'], ['Secoda', 'Looker'], ['Secoda', 'Mode'], ['Secoda', 'dbt'], ['Secoda', 'Snowflake'], ['Seektable', 'dbt'], ['Selectdb', 'AWS S3'], ['Selectdb', 'Apache Hudi'], ['Selectdb', 'Apache Flink'], ['Selectdb', 'Apache Spark'], ['Selfr', 'Selfr'], ['Selfr', 'dbt'], ['Selfr', 'Fivetran'], ['Selfr', 'Hightouch'], ['Sellerx', 'dbt'], ['Sellerx', 'Tableau'], ['Sellerx', 'Snowflake'], ['Sellerx', 'Airflow'], ['Sensor-data', 'Redash'], ['Sensor-data', 'Airflow'], ['Sensor-data', 'dbt'], ['Sevdesk', 'dbt'], ['Sevdesk', 'Looker'], ['Sevdesk', 'Metabase'], ['Sevdesk', 'Stitch'], ['Sevdesk', 'Singer'], ['Sevdesk', 'Redshift'], ['Sevdesk', 'Hightouch'], ['Sevdesk', 'Segment'], ['Sevdesk', 'Segment'], ['Sevdesk', 'Mixpanel'], ['Sherloq', 'dbt'], ['Sherloq', 'Mode'], ['Shopify', 'Looker'], ['Shopify', 'y42'], ['Shopify', 'Qlikview'], ['Shopify', 'Segment'], ['Shopify', 'Segment'], ['Shopify', 'Redshift'], ['Shopify', 'Vertica'], ['Shopify', 'Anomalo'], ['Shopify', 'y42'], ['Shopify', 'Alteryx'], ['Shopify', 'Qlikview'], ['Shopify', 'Alteryx'], ['Shopify', 'dbt'], ['Shuddl', 'Looker'], ['Shuddl', 'Databricks'], ['Shuddl', 'Databricks'], ['Shuddl', 'Rows.com'], ['Shuddl', 'Sisu Data'], ['Shuddl', 'Variance'], ['Shuddl', 'Variance'], ['Shuddl', 'Netspring'], ['Shuddl', 'data.world '], ['Shuddl', 'Datomize'], ['Shuddl', 'Fivetran'], ['Simply-business', 'dbt'], ['Simply-business', 'Snowflake'], ['Simply-business', 'Looker'], ['Simply-business', 'Apache Kafka'], ['Singularity-data', 'AWS S3'], ['Skims', 'Census'], ['Skims', 'Fivetran'], ['Skims', 'Snowflake'], ['Skims', 'Looker'], ['Skims', 'dbt'], ['Skypoint-cloud', 'Databricks'], ['Skypoint-cloud', 'Databricks'], ['Skypoint-cloud', 'Azure Cloud Storage'], ['Skypoint-cloud', 'Apache Spark'], ['Skypoint-cloud', 'Power BI'], ['Skypoint-cloud', 'Azure data factory'], ['Slack', 'AWS S3'], ['Slack', 'Looker'], ['Slack', 'Segment'], ['Slack', 'Segment'], ['Slack', 'Airflow'], ['Slack', 'Snowflake'], ['Slack', 'Apache Kafka'], ['Smile-direct-club', 'dbt'], ['Smile-direct-club', 'Snowflake'], ['Smile-direct-club', 'Fivetran'], ['Smile-direct-club', 'Airflow'], ['Smile-direct-club', 'Looker'], ['Smileeio', 'Cube'], ['South-china-morning-post', 'Airflow'], ['South-china-morning-post', 'Google BigQuery'], ['South-china-morning-post', 'dbt'], ['South-china-morning-post', 'Tableau'], ['South-china-morning-post', 'Cube'], ['Spin', 'Airflow'], ['Spin', 'Fivetran'], ['Spin', 'dbt'], ['Spotify', 'Kubeflow'], ['Spotify', 'Google Cloud Composer'], ['Spotify', 'Apache Storm'], ['Spotify', 'Apache Kafka'], ['Spotify', 'Google Cloud Dataflow'], ['Spotify', 'Molecula'], ['Spotify', 'Tableau'], ['Spotify', 'Salesforce Einstein Analytics'], ['Spotify', 'AWS S3'], ['Spotify', 'mparticle'], ['Spotify', 'Segment'], ['Spotify', 'Google Data Catalog'], ['Spotify', 'Integromat'], ['Spotify', 'Redshift'], ['Spotify', 'Segment'], ['Spotify', 'Tellius'], ['Springworks-therapeutics', 'ClueDin'], ['Springworks-therapeutics', 'dbt'], ['Springworks-therapeutics', 'Fivetran'], ['Springworks-therapeutics', 'Snowflake'], ['Springworks-therapeutics', 'Power BI'], ['Stack-tecnologias', 'dbt'], ['Stack-tecnologias', 'AWS Athena'], ['Stack-tecnologias', 'Databricks'], ['Stack-tecnologias', 'Databricks'], ['Stack-tecnologias', 'AWS S3'], ['Stack-tecnologias', 'AWS Kinesis'], ['Stack-tecnologias', 'AWS Glue'], ['Stack-tecnologias', 'Airbyte'], ['Stackable', 'Apache Kafka'], ['Stackable', 'Airflow'], ['Stackable', 'Apache Nifi'], ['Stackable', 'Superset'], ['Stackable', 'Apache Spark'], ['Stackable', 'Hive'], ['Stonly', 'Segment'], ['Stonly', 'Segment'], ['Stonly', 'Tableau'], ['Stonly', 'dbt'], ['Stonly', 'Hex'], ['Stonly', 'Fivetran'], ['Stonly', 'PostHog'], ['Stonly', 'Redshift'], ['Stonly', 'Hightouch'], ['Streamnative', 'Apache Flink'], ['Streamnative', 'Apache Spark'], ['Stride', 'Tableau'], ['Stride', 'Superset'], ['Stride', 'Sisense'], ['Stride', 'Looker'], ['Stride', 'dbt'], ['Stride', 'Airflow'], ['Striim', 'Redshift'], ['Striim', 'Snowflake'], ['Striim', 'Google BigQuery'], ['Striim', 'dbt'], ['Striim', 'Looker'], ['Stripe', 'Segment'], ['Stripe', 'Segment'], ['Stripe', 'Looker'], ['Stripe', 'Tableau'], ['Stripe', 'Redshift'], ['Stripe', 'Apache Flink'], ['Sub-zero-group-inc', 'Snowflake'], ['Sub-zero-group-inc', 'Databricks'], ['Sub-zero-group-inc', 'Fivetran'], ['Sub-zero-group-inc', 'Azure data factory'], ['Sub-zero-group-inc', 'dbt'], ['Sub-zero-group-inc', 'Power BI'], ['Sub-zero-group-inc', 'Monte Carlo Data'], ['Sub-zero-group-inc', 'Metaphor'], ['Sub-zero-group-inc', 'Metaphor'], ['Sub-zero-group-inc', 'Azure Cloud Storage'], ['Sub-zero-group-inc', 'Databricks'], ['Supergrain', 'Supergrain'], ['Swiggy', 'Power BI'], ['Swiggy', 'Tableau'], ['Swiggy', 'Qlikview'], ['Swiggy', 'Apache Kafka'], ['Swiggy', 'Qlikview'], ['Swiggy', 'Alation'], ['Swiggy', 'Redshift'], ['Swiggy', 'Snowflake'], ['Swiggy', 'Vertica'], ['Swiggy', 'Segment'], ['Swiggy', 'Segment'], ['Swiggy', 'AWS S3'], ['Swiggy', 'Alation'], ['Swile', 'Snowflake'], ['Swile', 'dbt'], ['Swile', 'Looker'], ['Swile', 'Metabase'], ['Swile', 'Superset'], ['Swile', 'Hightouch'], ['Swile', 'Monte Carlo Data'], ['Swile', 'Stitch'], ['Swile', 'Fivetran'], ['Swile', 'Castor'], ['Swile', 'Castor'], ['Swile', 'Castor'], ['Swile', 'Airflow'], ['Swile', 'Apache Kafka'], ['Swile', 'Segment'], ['Swile', 'Segment'], ['Tabula', 'Snowflake'], ['Tabula', 'Fivetran'], ['Terality', 'AWS S3'], ['Terality', 'Airflow'], ['Terality', 'Apache Spark'], ['Thinking-machines-data-science', 'dbt'], ['Thinking-machines-data-science', 'Snowflake'], ['Thinking-machines-data-science', 'Google BigQuery'], ['Thinking-machines-data-science', 'Databricks'], ['Thinking-machines-data-science', 'Dagster'], ['Thinking-machines-data-science', 'Airflow'], ['Thinking-machines-data-science', 'Looker'], ['Thinking-machines-data-science', 'Tableau'], ['Thinking-machines-data-science', 'StreamSets'], ['Thinking-machines-data-science', 'Fivetran'], ['Thinking-machines-data-science', 'StreamSets'], ['Thinking-machines-data-science', 'Apache Kafka'], ['Thinking-machines-data-science', 'Streamlit'], ['Thinking-machines-data-science', 'Databricks'], ['Thoughtspot', 'ThoughtSpot'], ['Thoughtspot', 'Snowflake'], ['Thoughtspot', 'dbt'], ['Thoughtspot-inc', 'ThoughtSpot'], ['Thoughtspot-inc', 'Snowflake'], ['Threeflow', 'Google BigQuery'], ['Threeflow', 'Stitch'], ['Threeflow', 'Looker'], ['Threeflow', 'dbt'], ['Thrift-books', 'Snowflake'], ['Thrift-books', 'Fivetran'], ['Thrift-books', 'Power BI'], ['Thrift-books', 'Mode'], ['Thrift-books', 'dbt'], ['Thrive', 'Fivetran'], ['Thrive', 'Meltano'], ['Thrive', 'Stitch'], ['Thrive', 'Looker'], ['Thrive', 'dbt'], ['Thrive', 'Argo'], ['Thrive', 'Google BigQuery'], ['Thrive', 'Segment'], ['Thrive', 'Segment'], ['Thrive', 'AWS S3'], ['Timeplus', 'Apache Kafka'], ['Timeplus', 'StreamNative'], ['Timeplus', 'Redpanda'], ['Timeplus', 'Confluent'], ['Timeplus', 'Snowflake'], ['Timeplus', 'Airbyte'], ['Timeplus', 'Meltano'], ['Timeplus', 'dbt'], ['Timeplus', 'Mode'], ['Timeplus', 'Hyperquery'], ['Togo-group', 'Snowflake'], ['Togo-group', 'Looker'], ['Togo-group', 'Tableau'], ['Togo-group', 'dbt'], ['Togo-group', 'Avo'], ['Togo-group', 'Avo'], ['Too-good-to-go', 'dbt'], ['Too-good-to-go', 'Airflow'], ['Too-good-to-go', 'Airbyte'], ['Too-good-to-go', 'Redshift'], ['Too-good-to-go', 'Looker'], ['Trackingplan', 'Trackingplan'], ['Trackingplan', 'AWS S3'], ['Trackingplan', 'June'], ['Trackingplan', 'Graphext'], ['Trackingplan', 'Graphext'], ['Trackingplan', 'AWS Kinesis'], ['Trackingplan', 'Segment'], ['Trackingplan', 'Segment'], ['Trip-actions', 'dbt'], ['Trip-actions', 'Holistics.io'], ['Trip-actions', 'Tableau'], ['Trip-actions', 'Snowflake'], ['Trovatrip', 'Sigma'], ['Trovatrip', 'Sigma'], ['Trovatrip', 'Snowflake'], ['Trovatrip', 'Fivetran'], ['Trovatrip', 'dbt'], ['Trovatrip', 'Segment'], ['Trovatrip', 'Segment'], ['Trovatrip', 'PostHog'], ['Truebill', 'Looker'], ['Truebill', 'dbt'], ['Truebill', 'Google BigQuery'], ['Tula-skincare', 'Snowflake'], ['Tula-skincare', 'Fivetran'], ['Tula-skincare', 'dbt'], ['Tula-skincare', 'Looker'], ['Turntide', 'Snowflake'], ['Turntide', 'dbt'], ['Turntide', 'Tableau'], ['Twilio', 'Apache Kafka'], ['Twilio', 'Airflow'], ['Twilio', 'Apache Luigi'], ['Twilio', 'AWS S3'], ['Twilio', 'Redshift'], ['Twilio', 'Apache Spark'], ['Twinco-capital', 'dbt'], ['Twinco-capital', 'Looker'], ['Twinco-capital', 'Sigma'], ['Twinco-capital', 'Hevo Data'], ['Twinco-capital', 'Google BigQuery'], ['Twinco-capital', 'Google Cloud Storage'], ['Twinco-capital', 'AWS S3'], ['Twinco-capital', 'Sigma'], ['Typeform', 'Google BigQuery'], ['Typeform', 'Redshift'], ['Typeform', 'Snowflake'], ['Typeform', 'Looker'], ['Typeform', 'dbt'], ['Uber', 'Databricks'], ['Uber', 'Databricks'], ['Uber', 'Cloudera'], ['Uber', 'Tableau'], ['Uber', 'Looker'], ['Uber', 'Apache Kafka'], ['Uber', 'Apache Storm'], ['Uber', 'Heap'], ['Uber', 'Mixpanel'], ['Uber', 'Segment'], ['Uber', 'Segment'], ['Uber', 'Molecula'], ['Uber', 'Integromat'], ['Udemy', 'Redshift'], ['Udemy', 'Databricks'], ['Udemy', 'Airflow'], ['Udemy', 'Looker'], ['Udemy', 'Databricks'], ['Unionai', 'Flyte'], ['University-college-london', 'Fivetran'], ['University-college-london', 'dbt'], ['Unsplash', 'Redshift'], ['Unsplash', 'Google BigQuery'], ['Unsplash', 'AWS S3'], ['Unsplash', 'Google Cloud Storage'], ['Unsplash', 'dbt'], ['Unsplash', 'AWS Kinesis'], ['Unsplash', 'Looker'], ['Unsplash', 'Airflow'], ['Unsplash', 'Snowplow'], ['Untitled-firm', 'Snowflake'], ['Untitled-firm', 'Sisense'], ['Untitled-firm', 'Fivetran'], ['Untitled-firm', 'dbt'], ['Updater', 'Looker'], ['Updater', 'Fivetran'], ['Updater', 'dbt'], ['Updater', 'Snowflake'], ['Updater', 'Airflow'], ['Uproad', 'AWS Glue'], ['Uproad', 'Fivetran'], ['Uproad', 'Redshift'], ['Uproad', 'dbt'], ['Uproad', 'mparticle'], ['Uproad', 'AWS Kinesis'], ['Uproad', 'AWS S3'], ['Uproad', 'Redash'], ['Userled', 'AWS S3'], ['Vacasa', 'Salesforce Einstein Analytics'], ['Vacasa', 'Looker'], ['Vacasa', 'Metabase'], ['Vacasa', 'Segment'], ['Vacasa', 'Segment'], ['Vacasa', 'Airflow'], ['Vacasa', 'dbt'], ['Veed', 'Fivetran'], ['Veed', 'Google BigQuery'], ['Veed', 'dbt'], ['Veed', 'Looker'], ['Veed', 'Hex'], ['Velir', 'Snowflake'], ['Velir', 'Fivetran'], ['Velir', 'Power BI'], ['Velir', 'dbt'], ['Veronica-beard', 'dbt'], ['Veronica-beard', 'Google BigQuery'], ['Veronica-beard', 'Fivetran'], ['Veronica-beard', 'Segment'], ['Veronica-beard', 'Segment'], ['Vestwell', 'dbt'], ['Vestwell', 'Hightouch'], ['Vestwell', 'Fivetran'], ['Vestwell', 'Snowflake'], ['Vestwell', 'Metabase'], ['Vimeomate', 'Databricks'], ['Vimeomate', 'Databricks'], ['Vimeomate', 'Integrately'], ['Vimeomate', 'Funnel.io'], ['Vizzly', 'AWS S3'], ['Vizzly', 'PostHog'], ['Vmt-pvt-ltd', 'dbt'], ['Vmt-pvt-ltd', 'AWS Kinesis'], ['Vmt-pvt-ltd', 'Fivetran'], ['Vmt-pvt-ltd', 'Databricks'], ['Vmt-pvt-ltd', 'Databricks'], ['Vmt-pvt-ltd', 'Looker'], ['Vodafone', 'Salesforce Einstein Analytics'], ['Vodafone', 'Adverity.com'], ['Vodafone', 'Vertica'], ['Vodafone', 'Adverity.com'], ['Vodafone', 'Yellowfinbi'], ['Vodafone', 'Google Cloud Storage'], ['Vts', 'Looker'], ['Vts', 'Tableau'], ['Vts', 'Fivetran'], ['Vts', 'dbt'], ['Wallbox', 'Fivetran'], ['Wallbox', 'Airbyte'], ['Wallbox', 'Hightouch'], ['Wallbox', 'dbt'], ['Wallbox', 'Snowflake'], ['Wallbox', 'Databricks'], ['Wallbox', 'Tableau'], ['Wallbox', 'Airflow'], ['Wallbox', 'Databricks'], ['Walmart', 'Airflow'], ['Walmart', 'AWS S3'], ['Walmart', 'Google Cloud Storage'], ['Walmart', 'ThoughtSpot'], ['Walmart', 'Erwin By Quest'], ['Wellthy', 'AWS S3'], ['Wellthy', 'Snowflake'], ['Wellthy', 'Stitch'], ['Wellthy', 'Fivetran'], ['Wellthy', 'dbt'], ['Wellthy', 'ThoughtSpot'], ['Wellthy', 'Mode'], ['Wellthy', 'Snowplow'], ['Wellthy', 'Mixpanel'], ['Wellthy', 'Hightouch'], ['Winc', 'Snowflake'], ['Winc', 'dbt'], ['Winc', 'Tableau'], ['Winc', 'Fivetran'], ['Wisdomgarden', 'Airflow'], ['Workiz', 'Google BigQuery'], ['Workiz', 'Sisense'], ['Workiz', 'Looker'], ['Workiz', 'Integromat'], ['Workrise', 'Snowflake'], ['Workrise', 'dbt'], ['Workrise', 'Prefect'], ['Workrise', 'Fivetran'], ['X-team', 'Fivetran'], ['X-team', 'dbt'], ['X-team', 'Snowflake'], ['X-team', 'Google BigQuery'], ['X-team', 'Redshift'], ['X-team', 'Airflow'], ['Xometry', 'Fivetran'], ['Xometry', 'Snowflake'], ['Xometry', 'Looker'], ['Xometry', 'dbt'], ['Yotpo', 'Monte Carlo Data'], ['Yotpo', 'Apache Kafka'], ['Yotpo', 'Tableau'], ['Yotpo', 'Redash'], ['Yotpo', 'Looker'], ['Yotpo', 'Apache Hudi'], ['Yotpo', 'Upsolver'], ['Yotpo', 'Delta.io'], ['Yotpo', 'AWS S3'], ['Yotpo', 'Metorikku'], ['Yotpo', 'Stitch'], ['Yotpo', 'Upsolver'], ['Yotpo', 'dbt'], ['Yotpo', 'Apache Spark'], ['Yotpo', 'Upsolver'], ['Yotpo', 'Redshift'], ['Yotpo', 'Snowflake'], ['Yotpo', 'Airflow'], ['Yotpo', 'Debezium'], ['Yotpo', 'Okera'], ['Yotpo', 'Nexla'], ['Yotpo', 'Nexla'], ['You-need-a-budget', 'Fivetran'], ['You-need-a-budget', 'Snowflake'], ['You-need-a-budget', 'dbt'], ['You-need-a-budget', 'Metabase'], ['Zapier', 'Airflow'], ['Zapier', 'dbt'], ['Zapier', 'Tableau'], ['Zapier', 'Snowflake'], ['Zippi', 'dbt'], ['Zippi', 'Hightouch'], ['Zippi', 'Metabase'], ['Zippi', 'Redshift'], ['Zippi', 'Hevo Data'], ['Zippi', 'AWS S3'], ['Zippi', 'Logic Loop'], ['Zocdoc', 'dbt'], ['Zocdoc', 'Snowflake'], ['Zocdoc', 'Looker'], ['Zocdoc', 'Tableau'], ['Zomato', 'Cloudera'], ['Zomato', 'Segment'], ['Zomato', 'Segment'], ['Zomato', 'Redshift'], ['Zomato', 'Tableau'], ['Zoom', 'Redshift'], ['Zoom', 'Tableau'], ['Zoom', 'Domo'], ['Zoom', 'Salesforce Einstein Analytics'], ['Zoom', 'Amazon Quick Sight'], ['Zoom', 'Segment'], ['Zoom', 'Segment']]\n"
          ]
        }
      ]
    },
    {
      "cell_type": "code",
      "source": [
        "enterprise_tools"
      ],
      "metadata": {
        "colab": {
          "base_uri": "https://localhost:8080/"
        },
        "id": "gWB4cNHDju6U",
        "outputId": "bd88f6f8-e425-445b-f923-07266c8d3ac3"
      },
      "execution_count": 48,
      "outputs": [
        {
          "output_type": "execute_result",
          "data": {
            "text/plain": [
              "[['Facts', 'Segment'],\n",
              " ['Facts', 'Segment'],\n",
              " ['Facts', 'Rows.com'],\n",
              " ['Facts', 'June'],\n",
              " ['Facts', 'AWS S3'],\n",
              " ['1mg', 'Apache Kafka'],\n",
              " ['1mg', 'Rudderstack'],\n",
              " ['1mg', 'Rudderstack'],\n",
              " ['1mg', 'Rudderstack'],\n",
              " ['1mg', 'Rudderstack'],\n",
              " ['1mg', 'Google BigQuery'],\n",
              " ['1mg', 'Redshift'],\n",
              " ['1mg', 'AWS S3'],\n",
              " ['3step-sports', 'Tableau'],\n",
              " ['3step-sports', 'Snowflake'],\n",
              " ['3step-sports', 'Airbyte'],\n",
              " ['3step-sports', 'dbt'],\n",
              " ['5x', 'Fivetran'],\n",
              " ['5x', 'Looker'],\n",
              " ['5x', 'dbt'],\n",
              " ['5x', 'Snowflake'],\n",
              " ['Adevinta', 'Redshift'],\n",
              " ['Adevinta', 'AWS Glue'],\n",
              " ['Adevinta', 'AWS S3'],\n",
              " ['Adevinta', 'Delta.io'],\n",
              " ['Adevinta', 'Apache Hudi'],\n",
              " ['Adevinta', 'Tableau'],\n",
              " ['Adevinta', 'dbt'],\n",
              " ['Adevinta', 'Apache Spark'],\n",
              " ['Adevinta', 'AWS Athena'],\n",
              " ['Adevinta', 'Airflow'],\n",
              " ['Adevinta', 'Argo'],\n",
              " ['Adevinta', 'Apache Kafka'],\n",
              " ['Adevinta', 'AWS Kinesis'],\n",
              " ['Adevinta', 'Great Expectations'],\n",
              " ['Adevinta', 'Soda'],\n",
              " ['Affirm', 'Apache Kafka'],\n",
              " ['Affirm', 'Airflow'],\n",
              " ['Affirm', 'Databricks'],\n",
              " ['Affirm', 'Snowflake'],\n",
              " ['Affirm', 'Databricks'],\n",
              " ['Affirm', 'dbt'],\n",
              " ['Aggua', 'dbt'],\n",
              " ['Aggua', 'Looker'],\n",
              " ['Aggua', 'Fivetran'],\n",
              " ['Aggua', 'Databricks'],\n",
              " ['Aggua', 'Databricks'],\n",
              " ['Airbnb', 'Integromat'],\n",
              " ['Airbnb', 'Tableau'],\n",
              " ['Airbnb', 'Superset'],\n",
              " ['Airbnb', 'mparticle'],\n",
              " ['Airbnb', 'AWS S3'],\n",
              " ['Airbnb', 'Airflow'],\n",
              " ['Airbnb', 'StarRocks'],\n",
              " ['Airbyte', 'Segment'],\n",
              " ['Airbyte', 'Segment'],\n",
              " ['Airbyte', 'Google BigQuery'],\n",
              " ['Airbyte', 'dbt'],\n",
              " ['Airbyte', 'Airbyte'],\n",
              " ['Airbyte', 'Metabase'],\n",
              " ['Airbyte', 'Dagster'],\n",
              " ['Airtasker', 'Snowflake'],\n",
              " ['Airtasker', 'dbt'],\n",
              " ['Airtasker', 'Fivetran'],\n",
              " ['Airtasker', 'Segment'],\n",
              " ['Airtasker', 'Segment'],\n",
              " ['Airtasker', 'Tableau'],\n",
              " ['Aldea-ventures', 'Databricks'],\n",
              " ['Aldea-ventures', 'Snowflake'],\n",
              " ['Aldea-ventures', 'Databricks'],\n",
              " ['Aldea-ventures', 'Rows.com'],\n",
              " ['Aldea-ventures', 'Astronomer'],\n",
              " ['Aldea-ventures', 'Netspring'],\n",
              " ['Aldea-ventures', 'Variance'],\n",
              " ['Aldea-ventures', 'Hightouch'],\n",
              " ['Aldea-ventures', 'AWS Kinesis'],\n",
              " ['Aldea-ventures', 'Privacera'],\n",
              " ['Aldea-ventures', 'Datomize'],\n",
              " ['Aldea-ventures', 'Tecton'],\n",
              " ['Aldea-ventures', 'Quantive Signals'],\n",
              " ['Aldea-ventures', 'Correlated'],\n",
              " ['Aldea-ventures', 'Variance'],\n",
              " ['Aldea-ventures', 'data.world '],\n",
              " ['Aldea-ventures', 'Secoda'],\n",
              " ['Aldea-ventures', 'Secoda'],\n",
              " ['Aldea-ventures', 'Monte Carlo Data'],\n",
              " ['Aldea-ventures', 'dbt'],\n",
              " ['Aldea-ventures', 'Looker'],\n",
              " ['Aldea-ventures', 'Fivetran'],\n",
              " ['Aldea-ventures', 'Sisu Data'],\n",
              " ['Aldefi', 'Airbyte'],\n",
              " ['Aldefi', 'dbt'],\n",
              " ['Aldefi', 'Looker'],\n",
              " ['Aldefi', 'Tableau Data Catalog'],\n",
              " ['Algomarketing', 'Salesforce Einstein Analytics'],\n",
              " ['Algomarketing', 'Google BigQuery'],\n",
              " ['Amazon', 'AWS Kinesis'],\n",
              " ['Amazon', 'AWS S3'],\n",
              " ['Amazon', 'Redshift'],\n",
              " ['Amazon', 'Vertica'],\n",
              " ['Amazon', 'Cluvio'],\n",
              " ['Amazon', 'Tableau'],\n",
              " ['Amino', 'Stitch'],\n",
              " ['Amino', 'Looker'],\n",
              " ['Amino', 'Dagster'],\n",
              " ['Amino', 'dbt'],\n",
              " ['Amino', 'Snowflake'],\n",
              " ['Amino', 'Databricks'],\n",
              " ['Amino', 'Databricks'],\n",
              " ['Amuse', 'Fivetran'],\n",
              " ['Amuse', 'dbt'],\n",
              " ['Amuse', 'Sigma'],\n",
              " ['Amuse', 'Sigma'],\n",
              " ['Amuse', 'Snowflake'],\n",
              " ['Andersen-inc', 'Canvas'],\n",
              " ['Angellist', 'dbt'],\n",
              " ['Angellist', 'Hightouch'],\n",
              " ['Angellist', 'Metabase'],\n",
              " ['Angellist', 'Redshift'],\n",
              " ['Angellist', 'AWS Glue'],\n",
              " ['Angellist', 'Dagster'],\n",
              " ['Angellist', 'Secoda'],\n",
              " ['Angellist', 'Secoda'],\n",
              " ['Angellist', 'AWS S3'],\n",
              " ['Apache-doris', 'Apache Flink'],\n",
              " ['Apache-doris', 'Apache Spark'],\n",
              " ['Apache-doris', 'Apache Hudi'],\n",
              " ['App-creative', 'Databricks'],\n",
              " ['App-creative', 'Databricks'],\n",
              " ['App-creative', 'AWS Kinesis'],\n",
              " ['Apple', 'Min.io'],\n",
              " ['Aritzia', 'Google BigQuery'],\n",
              " ['Aritzia', 'Dataform'],\n",
              " ['Aritzia', 'Tableau'],\n",
              " ['Aritzia', 'Anomalo'],\n",
              " ['Aritzia', 'Beam'],\n",
              " ['Aritzia', 'Dagster'],\n",
              " ['Aritzia', 'Hightouch'],\n",
              " ['Arka-energy', 'Rows.com'],\n",
              " ['Assent-inc', 'dbt'],\n",
              " ['Assent-inc', 'Hightouch'],\n",
              " ['Assent-inc', 'Fivetran'],\n",
              " ['Assent-inc', 'Snowflake'],\n",
              " ['Assent-inc', 'Tableau'],\n",
              " ['Astrato-analytics', 'Snowflake'],\n",
              " ['Astrato-analytics', 'Google BigQuery'],\n",
              " ['Astrato-analytics', 'Databricks'],\n",
              " ['Astrato-analytics', 'Azure Synapse Analytics'],\n",
              " ['Astrato-analytics', 'Dremio'],\n",
              " ['Astrato-analytics', 'Redshift'],\n",
              " ['Astrato-analytics', 'Databricks'],\n",
              " ['Astrato-analytics', 'Dremio'],\n",
              " ['Astrato-analytics', 'Matillion'],\n",
              " ['Astrato-analytics', 'Astrato'],\n",
              " ['Atadataco', 'dbt'],\n",
              " ['Atadataco', 'Looker'],\n",
              " ['Atadataco', 'Sigma'],\n",
              " ['Atadataco', 'Fivetran'],\n",
              " ['Atadataco', 'Rudderstack'],\n",
              " ['Atadataco', 'Hightouch'],\n",
              " ['Atadataco', 'Rudderstack'],\n",
              " ['Atadataco', 'Shipyard'],\n",
              " ['Atadataco', 'Snowflake'],\n",
              " ['Atadataco', 'Google BigQuery'],\n",
              " ['Atadataco', 'Segment'],\n",
              " ['Atadataco', 'Rudderstack'],\n",
              " ['Atadataco', 'Segment'],\n",
              " ['Atadataco', 'Rudderstack'],\n",
              " ['Atadataco', 'Canvas'],\n",
              " ['Atadataco', 'Sigma'],\n",
              " ['Atlan', 'dbt'],\n",
              " ['Atlan', 'Looker'],\n",
              " ['Atlan', 'Snowflake'],\n",
              " ['Automatad', 'Apache Kafka'],\n",
              " ['Automatad', 'Redash'],\n",
              " ['Automatad', 'AWS S3'],\n",
              " ['Awmr', 'Airflow'],\n",
              " ['Axs', 'Databricks'],\n",
              " ['Axs', 'Redshift'],\n",
              " ['Axs', 'Snowflake'],\n",
              " ['Axs', 'Databricks'],\n",
              " ['Axs', 'Airflow'],\n",
              " ['Axs', 'dbt'],\n",
              " ['Axs', 'Looker'],\n",
              " ['Axs', 'Fivetran'],\n",
              " ['Azimo', 'Domo'],\n",
              " ['Azimo', 'Airflow'],\n",
              " ['Azimo', 'Google Cloud Composer'],\n",
              " ['Azimo', 'Segment'],\n",
              " ['Azimo', 'Segment'],\n",
              " ['Azimo', 'dbt'],\n",
              " ['Babylon-health', 'Airflow'],\n",
              " ['Babylon-health', 'dbt'],\n",
              " ['Babylon-health', 'Looker'],\n",
              " ['Babylon-health', 'Tableau'],\n",
              " ['Babylon-health', 'Google BigQuery'],\n",
              " ['Baobab-plus', 'dbt'],\n",
              " ['Baobab-plus', 'Google BigQuery'],\n",
              " ['Baobab-plus', 'Power BI'],\n",
              " ['Beamery', 'dbt'],\n",
              " ['Beamery', 'Google BigQuery'],\n",
              " ['Beamery', 'Tableau'],\n",
              " ['Beamery', 'Airflow'],\n",
              " ['Bed-bath-and-beyond', 'Domo'],\n",
              " ['Bed-bath-and-beyond', 'Microstrategy'],\n",
              " ['Bed-bath-and-beyond', 'Tableau'],\n",
              " ['Bed-bath-and-beyond', 'Google BigQuery'],\n",
              " ['Bench-accounting', 'Census'],\n",
              " ['Bench-accounting', 'dbt'],\n",
              " ['Bench-accounting', 'Fivetran'],\n",
              " ['Bench-accounting', 'Stitch'],\n",
              " ['Bench-accounting', 'Tableau'],\n",
              " ['Bench-accounting', 'Redshift'],\n",
              " ['Betterment', 'dbt'],\n",
              " ['Betterment', 'Segment'],\n",
              " ['Betterment', 'Segment'],\n",
              " ['Betterment', 'AWS S3'],\n",
              " ['Betterment', 'Looker'],\n",
              " ['Betterment', 'Airflow'],\n",
              " ['Bitmetric', 'Qlikview'],\n",
              " ['Bitmetric', 'Power BI'],\n",
              " ['Bitmetric', 'Astrato'],\n",
              " ['Bitmetric', 'Qlikview'],\n",
              " ['Bitmetric', 'Azure Cloud Storage'],\n",
              " ['Bitmetric', 'Azure data factory'],\n",
              " ['Bitmetric', 'Talend'],\n",
              " ['Bitmetric', 'Azure Synapse Analytics'],\n",
              " ['Bitmetric', 'Google BigQuery'],\n",
              " ['Bitmetric', 'Snowflake'],\n",
              " ['Bitmetric', 'Talend'],\n",
              " ['Blablacar', 'Tableau'],\n",
              " ['Blablacar', 'Google BigQuery'],\n",
              " ['Blablacar', 'Beam'],\n",
              " ['Blablacar', 'Google Cloud Dataflow'],\n",
              " ['Blablacar', 'Apache Kafka'],\n",
              " ['Bld', 'Cube'],\n",
              " ['Bld', 'Redpanda'],\n",
              " ['Bld', 'Materialize'],\n",
              " ['Bld', 'Google BigQuery'],\n",
              " ['Bld', 'Metabase'],\n",
              " ['Bld', 'Google Cloud Storage'],\n",
              " ['Blue-shell-consulting', 'Fivetran'],\n",
              " ['Blue-shell-consulting', 'dbt'],\n",
              " ['Blue-shell-consulting', 'Snowflake'],\n",
              " ['Blue-shell-consulting', 'Mode'],\n",
              " ['Blue-shell-consulting', 'Stemma AI'],\n",
              " ['Blue-shell-consulting', 'Stemma AI'],\n",
              " ['Bol', 'dbt'],\n",
              " ['Bol', 'Airflow'],\n",
              " ['Bolt', 'Looker'],\n",
              " ['Bolt', 'Tableau'],\n",
              " ['Bolt', 'Metabase'],\n",
              " ['Bolt', 'Redshift'],\n",
              " ['Bolt', 'Google BigQuery'],\n",
              " ['Bolt', 'Fivetran'],\n",
              " ['Bolt', 'Hightouch'],\n",
              " ['Branch-energy', 'Fivetran'],\n",
              " ['Branch-energy', 'Stitch'],\n",
              " ['Branch-energy', 'dbt'],\n",
              " ['Branch-energy', 'Airflow'],\n",
              " ['Branch-energy', 'Snowflake'],\n",
              " ['Branch-energy', 'AWS S3'],\n",
              " ['Branch-energy', 'Hex'],\n",
              " ['Branch-energy', 'Census'],\n",
              " ['Brooklyn-data-co', 'Fivetran'],\n",
              " ['Brooklyn-data-co', 'Rudderstack'],\n",
              " ['Brooklyn-data-co', 'Meltano'],\n",
              " ['Brooklyn-data-co', 'Stitch'],\n",
              " ['Brooklyn-data-co', 'Supermetrics'],\n",
              " ['Brooklyn-data-co', 'Airbyte'],\n",
              " ['Brooklyn-data-co', 'Matillion'],\n",
              " ['Brooklyn-data-co', 'dbt'],\n",
              " ['Brooklyn-data-co', 'Hightouch'],\n",
              " ['Brooklyn-data-co', 'Census'],\n",
              " ['Brooklyn-data-co', 'Rudderstack'],\n",
              " ['Brooklyn-data-co', 'Looker'],\n",
              " ['Brooklyn-data-co', 'Mode'],\n",
              " ['Brooklyn-data-co', 'Sigma'],\n",
              " ['Brooklyn-data-co', 'Tableau'],\n",
              " ['Brooklyn-data-co', 'Lightdash'],\n",
              " ['Brooklyn-data-co', 'Astronomer'],\n",
              " ['Brooklyn-data-co', 'Airflow'],\n",
              " ['Brooklyn-data-co', 'Dagster'],\n",
              " ['Brooklyn-data-co', 'Databricks'],\n",
              " ['Brooklyn-data-co', 'Snowflake'],\n",
              " ['Brooklyn-data-co', 'Google BigQuery'],\n",
              " ['Brooklyn-data-co', 'Firebolt'],\n",
              " ['Brooklyn-data-co', 'Redshift'],\n",
              " ['Brooklyn-data-co', 'Databricks'],\n",
              " ['Brooklyn-data-co', 'Heap'],\n",
              " ['Brooklyn-data-co', 'Mixpanel'],\n",
              " ['Brooklyn-data-co', 'Rudderstack'],\n",
              " ['Brooklyn-data-co', 'Segment'],\n",
              " ['Brooklyn-data-co', 'Snowplow'],\n",
              " ['Brooklyn-data-co', 'Rudderstack'],\n",
              " ['Brooklyn-data-co', 'Segment'],\n",
              " ['Brooklyn-data-co', 'mparticle'],\n",
              " ['Brooklyn-data-co', 'Simon'],\n",
              " ['Brooklyn-data-co', 'Sigma'],\n",
              " ['Brooklyn-data-co', 'Privacy Dynamics'],\n",
              " ['Brooklyn-data-co', 'HVR'],\n",
              " ['Brooklyn-data-co', 'Bigeye'],\n",
              " ['Brooklyn-data-co', 'Anomalo'],\n",
              " ['Brooklyn-data-co', 'Databand'],\n",
              " ['Brooklyn-data-co', 'Monte Carlo Data'],\n",
              " ['Brooklyn-data-co', 'Spectacles'],\n",
              " ['Brooklyn-data-co', 'Metaplane'],\n",
              " ['Brooklyn-data-co', 'Datafold'],\n",
              " ['Brooklyn-data-co', 'Select Star'],\n",
              " ['Brooklyn-data-co', 'Secoda'],\n",
              " ['Brooklyn-data-co', 'Select Star'],\n",
              " ['Brooklyn-data-co', 'Secoda'],\n",
              " ['Brooklyn-data-co', 'Transform Data'],\n",
              " ['Brooklyn-data-co', 'Lightdash'],\n",
              " ['Brooklyn-data-co', 'Materialize'],\n",
              " ['Brooklyn-data-co', 'Apache Kafka'],\n",
              " ['Brooklyn-data-co', 'Streamlit'],\n",
              " ['Bukuwarung', 'Stitch'],\n",
              " ['Bukuwarung', 'Google BigQuery'],\n",
              " ['Bukuwarung', 'Airflow'],\n",
              " ['Bukuwarung', 'Apache Kafka'],\n",
              " ['Bukuwarung', 'Tableau'],\n",
              " ['Bukuwarung', 'Data Hub'],\n",
              " ['Bukuwarung', 'Data Hub'],\n",
              " ['By-aliens', 'Airflow'],\n",
              " ['By-aliens', 'Google BigQuery'],\n",
              " ['Bytewax', 'Rows.com'],\n",
              " ['Call-criteria-quality-assurance-software', 'Rows.com'],\n",
              " ['Canva', 'Census'],\n",
              " ['Canva', 'Snowflake'],\n",
              " ['Canva', 'dbt'],\n",
              " ['Canva', 'AWS S3'],\n",
              " ['Canva', 'Looker'],\n",
              " ['Canva', 'Mode'],\n",
              " ['Canva', 'Fivetran'],\n",
              " ['Canva', 'Atlan'],\n",
              " ['Canva', 'Atlan'],\n",
              " ['Capdesk', 'Fivetran'],\n",
              " ['Capdesk', 'Looker'],\n",
              " ['Capdesk', 'dbt'],\n",
              " ['Capdesk', 'Snowflake'],\n",
              " ['Capdesk', 'Spectacles'],\n",
              " ['Cargo', 'dbt'],\n",
              " ['Catch-co', 'Redshift'],\n",
              " ['Catch-co', 'dbt'],\n",
              " ['Catch-co', 'Looker'],\n",
              " ['Catch-co', 'Fivetran'],\n",
              " ['Catch-co', 'Stitch'],\n",
              " ['Catchcomau', 'Redshift'],\n",
              " ['Catchcomau', 'Snowflake'],\n",
              " ['Catchcomau', 'Airflow'],\n",
              " ['Catchcomau', 'Alation'],\n",
              " ['Catchcomau', 'Alation'],\n",
              " ['Catchcomau', 'Tableau'],\n",
              " ['Catchcomau', 'AWS S3'],\n",
              " ['Checkr', 'Snowflake'],\n",
              " ['Checkr', 'Apache Kafka'],\n",
              " ['Checkr', 'Airflow'],\n",
              " ['Checkr', 'dbt'],\n",
              " ['Chime', 'Segment'],\n",
              " ['Chime', 'Segment'],\n",
              " ['Chime', 'Looker'],\n",
              " ['Chime', 'Hex'],\n",
              " ['Chime', 'Fivetran'],\n",
              " ['Chime', 'Snowflake'],\n",
              " ['Chongtechnologies', 'Databricks'],\n",
              " ['Chongtechnologies', 'Azure Synapse Analytics'],\n",
              " ['Chongtechnologies', 'Databricks'],\n",
              " ['Chongtechnologies', 'Azure Cloud Storage'],\n",
              " ['Chongtechnologies', 'AWS S3'],\n",
              " ['Chongtechnologies', 'Apache Kafka'],\n",
              " ['Chongtechnologies', 'KsqlDB'],\n",
              " ['Chongtechnologies', 'Apache Flink'],\n",
              " ['Chongtechnologies', 'Apache Spark'],\n",
              " ['Chongtechnologies', 'Azure data factory'],\n",
              " ['Chongtechnologies', 'Superset'],\n",
              " ['Chongtechnologies', 'Power BI'],\n",
              " ['Chownow', 'Snowflake'],\n",
              " ['Chownow', 'Fivetran'],\n",
              " ['Chownow', 'Matillion'],\n",
              " ['Chownow', 'dbt'],\n",
              " ['Chownow', 'AWS S3'],\n",
              " ['Ciclic', 'dbt'],\n",
              " ['Ciclic', 'Metabase'],\n",
              " ['Ciclic', 'Power BI'],\n",
              " ['Ciclic', 'Airflow'],\n",
              " ['Ciclic', 'Redshift'],\n",
              " ['Ciclic', 'Airbyte'],\n",
              " ['Circleup-inc', 'Airflow'],\n",
              " ['Circleup-inc', 'Apache Spark'],\n",
              " ['Circleup-inc', 'AWS S3'],\n",
              " ['Circleup-inc', 'Google Cloud Storage'],\n",
              " ['Circleup-inc', 'Google BigQuery'],\n",
              " ['Circleup-inc', 'Hive'],\n",
              " ['Circleup-inc', 'Metabase'],\n",
              " ['Circleup-inc', 'Looker'],\n",
              " ['Circleup-inc', 'Tableau'],\n",
              " ['Circleup-inc', 'Apache Kafka'],\n",
              " ['Clark', 'Superset'],\n",
              " ['Clark', 'Mixpanel'],\n",
              " ['Clark', 'Redshift'],\n",
              " ['Clark', 'Airflow'],\n",
              " ['Clark', 'dbt'],\n",
              " ['Clark', 'AWS Kinesis'],\n",
              " ['Clark', 'Fivetran'],\n",
              " ['Clark', 'Hightouch'],\n",
              " ['Classy', 'Fivetran'],\n",
              " ['Classy', 'Redshift'],\n",
              " ['Classy', 'AWS S3'],\n",
              " ['Classy', 'Looker'],\n",
              " ['Classy', 'dbt'],\n",
              " ['Clearbit', 'Segment'],\n",
              " ['Clearbit', 'Segment'],\n",
              " ['Clearbit', 'Tray.io'],\n",
              " ['Clearbit', 'Redshift'],\n",
              " ['Clearbit', 'dbt'],\n",
              " ['Clearbit', 'Stitch'],\n",
              " ['Clearbit', 'Mode'],\n",
              " ['Clearbit', 'Census'],\n",
              " ['Clearcover', 'Fivetran'],\n",
              " ['Clearcover', 'Alooma'],\n",
              " ['Clearcover', 'Looker'],\n",
              " ['Clearcover', 'dbt'],\n",
              " ['Clearcover', 'Redshift'],\n",
              " ['Clearcover', 'Snowflake'],\n",
              " ['Clevermaps', 'Keboola'],\n",
              " ['Clevermaps', 'Keboola'],\n",
              " ['Clevermaps', 'GoodData'],\n",
              " ['Clevermaps', 'CleverMaps'],\n",
              " ['Clevermaps', 'GoodData'],\n",
              " ['Clevermaps', 'Dagster'],\n",
              " ['Clevermaps', 'dbt'],\n",
              " ['Clevermaps', 'AWS S3'],\n",
              " ['Clevermaps', 'Streamlit'],\n",
              " ['Clickhouse', 'Apache Kafka'],\n",
              " ['Clickup', 'Census'],\n",
              " ['Clickup', 'AWS S3'],\n",
              " ['Clickup', 'Fivetran'],\n",
              " ['Clickup', 'dbt'],\n",
              " ['Clickup', 'Tableau'],\n",
              " ['Cloudfit', 'Fivetran'],\n",
              " ['Cloudfit', 'Looker'],\n",
              " ['Cloudfit', 'dbt'],\n",
              " ['Cloudfit', 'Google BigQuery'],\n",
              " ['Coca-cola', 'Yellowfinbi'],\n",
              " ['Coca-cola', 'ClueDin'],\n",
              " ['Coca-cola', 'Dataedo'],\n",
              " ['Coca-cola', 'Salesforce Einstein Analytics'],\n",
              " ['Coca-cola', 'AWS Kinesis'],\n",
              " ['Coginiti', 'Power BI'],\n",
              " ['Coginiti', 'Coginiti'],\n",
              " ['Coginiti', 'Census'],\n",
              " ['Coginiti', 'Hevo Data'],\n",
              " ['Collectors-universe', 'Hex'],\n",
              " ['Collectors-universe', 'Stitch'],\n",
              " ['Collectors-universe', 'Tableau'],\n",
              " ['Collectors-universe', 'dbt'],\n",
              " ['Collectors-universe', 'Google BigQuery'],\n",
              " ['Collibra', 'Apache Spark'],\n",
              " ['Collibra', 'dbt'],\n",
              " ['Collibra', 'Airflow'],\n",
              " ['Collibra', 'AWS S3'],\n",
              " ['Collibra', 'Redash'],\n",
              " ['Collibra', 'Tableau'],\n",
              " ['Collibra', 'Fivetran'],\n",
              " ['Collibra', 'Redshift'],\n",
              " ['Construct-connect', 'Google BigQuery'],\n",
              " ['Construct-connect', 'Fivetran'],\n",
              " ['Construct-connect', 'dbt'],\n",
              " ['Construct-connect', 'Power BI'],\n",
              " ['Contentful', 'Looker'],\n",
              " ['Contentful', 'Redash'],\n",
              " ['Contentful', 'dbt'],\n",
              " ['Contentful', 'Apache Kafka'],\n",
              " ['Contentful', 'Airflow'],\n",
              " ['Contentful', 'Segment'],\n",
              " ['Contentful', 'Segment'],\n",
              " ['Contentful', 'Redshift'],\n",
              " ['Contentful', 'AWS S3'],\n",
              " ['Contentful', 'Stitch'],\n",
              " ['Convoy', 'Stemma AI'],\n",
              " ['Convoy', 'Stemma AI'],\n",
              " ['Convoy', 'Metabase'],\n",
              " ['Convoy', 'Tableau'],\n",
              " ['Convoy', 'dbt'],\n",
              " ['Convoy', 'Snowflake'],\n",
              " ['Convoy', 'Fivetran'],\n",
              " ['Convoy', 'Airflow'],\n",
              " ['Convoy', 'Apache Kafka'],\n",
              " ['Coral', 'dbt'],\n",
              " ['Coral', 'AWS Athena'],\n",
              " ['Coral', 'Redshift'],\n",
              " ['Coral', 'Lightdash'],\n",
              " ['Coral', 'Lightdash'],\n",
              " ['Coral', 'AWS Glue'],\n",
              " ['Coral', 'Airbyte'],\n",
              " ['Coral', 'AWS S3'],\n",
              " ['Cortex', 'Databricks'],\n",
              " ['Cortex', 'Snowflake'],\n",
              " ['Cortex', 'Databricks'],\n",
              " ['Cortex', 'Apache Kafka'],\n",
              " ['Cortex', 'Apache Flink'],\n",
              " ['Cortex', 'Airflow'],\n",
              " ['Coverflex', 'Fivetran'],\n",
              " ['Coverflex', 'Stitch'],\n",
              " ['Coverflex', 'dbt'],\n",
              " ['Coverflex', 'Google BigQuery'],\n",
              " ['Coverflex', 'Segment'],\n",
              " ['Coverflex', 'Segment'],\n",
              " ['Coverflex', 'Lightdash'],\n",
              " ['Coverflex', 'Lightdash'],\n",
              " ['Coverflex', 'Google Cloud Storage'],\n",
              " ['Craft', 'AWS Kinesis'],\n",
              " ['Craft', 'AWS Glue'],\n",
              " ['Craft', 'AWS Athena'],\n",
              " ['Craft', 'AWS S3'],\n",
              " ['Craft', 'Airflow'],\n",
              " ['Craft', 'Redshift'],\n",
              " ['Craft', 'Pendo'],\n",
              " ['Createthink', 'Databricks'],\n",
              " ['Createthink', 'Databricks'],\n",
              " ['Creditxpert', 'Looker'],\n",
              " ['Creditxpert', 'Fivetran'],\n",
              " ['Creditxpert', 'Snowflake'],\n",
              " ['Creditxpert', 'dbt'],\n",
              " ['Cube-dev', 'Cube'],\n",
              " ['Culture-amp', 'Avo'],\n",
              " ['Culture-amp', 'Avo'],\n",
              " ['Culture-amp', 'dbt'],\n",
              " ['Culture-amp', 'Segment'],\n",
              " ['Culture-amp', 'Segment'],\n",
              " ['Culture-amp', 'Looker'],\n",
              " ['Culture-amp', 'Salesforce Einstein Analytics'],\n",
              " ['Culture-amp', 'Fivetran'],\n",
              " ['Culture-amp', 'Census'],\n",
              " ['Custom-ink', 'Tableau'],\n",
              " ['Custom-ink', 'Metabase'],\n",
              " ['Custom-ink', 'Redshift'],\n",
              " ['Custom-ink', 'dbt'],\n",
              " ['Custom-ink', 'Airflow'],\n",
              " ['Customer', 'Stitch'],\n",
              " ['Customer', 'Segment'],\n",
              " ['Customer', 'Segment'],\n",
              " ['Customer', 'Snowflake'],\n",
              " ['Customer', 'dbt'],\n",
              " ['Customer', 'Mode'],\n",
              " ['Dadosfera', 'dbt'],\n",
              " ['Dadosfera', 'AWS Athena'],\n",
              " ['Dadosfera', 'Apache Spark'],\n",
              " ['Dadosfera', 'AWS S3'],\n",
              " ['Dadosfera', 'AWS Glue'],\n",
              " ['Dadosfera', 'AWS Kinesis'],\n",
              " ['Dashlane', 'dbt'],\n",
              " ['Dashlane', 'AWS Athena'],\n",
              " ['Dashlane', 'Apache Spark'],\n",
              " ['Dashlane', 'AWS Kinesis'],\n",
              " ['Dashlane', 'Airbyte'],\n",
              " ['Dashlane', 'AWS Glue'],\n",
              " ['Dashlane', 'Airflow'],\n",
              " ['Dashlane', 'Tableau'],\n",
              " ['Dashlane', 'AWS S3'],\n",
              " ['Dashlane', 'Elementary Data'],\n",
              " ['Dashlane', 'Hightouch'],\n",
              " ['Dashlane', 'Redshift'],\n",
              " ['Databandcom', 'Databricks'],\n",
              " ['Databandcom', 'Databricks'],\n",
              " ['Databandcom', 'Apache Spark'],\n",
              " ['Databandcom', 'Databand'],\n",
              " ['Databandcom', 'Airflow'],\n",
              " ['Datacoves', 'dbt'],\n",
              " ['Datacoves', 'Datameer'],\n",
              " ['Datacoves', 'Airflow'],\n",
              " ['Datacoves', 'Superset'],\n",
              " ['Datacoves', 'Tableau'],\n",
              " ['Datacoves', 'Power BI'],\n",
              " ['Datacoves', 'Looker'],\n",
              " ['Datacoves', 'Hashboard'],\n",
              " ['Datacoves', 'Airbyte'],\n",
              " ['Datacoves', 'Fivetran'],\n",
              " ['Datacoves', 'StreamSets'],\n",
              " ['Datacoves', 'Snowflake'],\n",
              " ['Datacoves', 'Databricks'],\n",
              " ['Datacoves', 'Redshift'],\n",
              " ['Datacoves', 'Google BigQuery'],\n",
              " ['Datacoves', 'Databricks'],\n",
              " ['Datacoves', 'Streamlit'],\n",
              " ['Datacoves', 'Alation'],\n",
              " ['Datacoves', 'Collibra'],\n",
              " ['Datacoves', 'Alation'],\n",
              " ['Datacoves', 'Collibra'],\n",
              " ['Datacoves', 'Collibra'],\n",
              " ['Datacoves', 'Hightouch'],\n",
              " ['Datacoves', 'StreamSets'],\n",
              " ['Dataddo', 'Dataddo'],\n",
              " ['Dataddo', 'Google BigQuery'],\n",
              " ['Dataddo', 'Power BI'],\n",
              " ['Dataddo', 'Tableau'],\n",
              " ['Datafold', 'Looker'],\n",
              " ['Datafold', 'Hightouch'],\n",
              " ['Datafold', 'dbt'],\n",
              " ['Datafold', 'Datafold'],\n",
              " ['Datafold', 'Snowflake'],\n",
              " ['Datafold', 'Hex'],\n",
              " ['Datainsider', 'Apache Kafka'],\n",
              " ['Datalab', 'Fivetran'],\n",
              " ['Datalab', 'Matillion'],\n",
              " ['Datalab', 'Snowflake'],\n",
              " ['Datalab', 'Power BI'],\n",
              " ['Datalab', 'ThoughtSpot'],\n",
              " ['Datalab', 'dbt'],\n",
              " ['Datarobot', 'Snowflake'],\n",
              " ['Datarobot', 'Redshift'],\n",
              " ['Datarobot', 'Stitch'],\n",
              " ['Datarobot', 'Airflow'],\n",
              " ['Datarobot', 'AWS Kinesis'],\n",
              " ['Datazip', 'dbt'],\n",
              " ['Datazip', 'Jitsu'],\n",
              " ['Datazip', 'Superset'],\n",
              " ['Datuumai', 'Airbyte'],\n",
              " ['Datuumai', 'Google Cloud Storage'],\n",
              " ['Datuumai', 'dbt'],\n",
              " ['Decisiontree-analytics', 'Data Channel'],\n",
              " ['Decisiontree-analytics', 'Redshift'],\n",
              " ['Decisiontree-analytics', 'Google BigQuery'],\n",
              " ['Decisiontree-analytics', 'Tableau'],\n",
              " ['Decisiontree-analytics-services', 'Data Channel'],\n",
              " ['Decisiontree-analytics-services', 'Redshift'],\n",
              " ['Decisiontree-analytics-services', 'Google BigQuery'],\n",
              " ['Decisiontree-analytics-services', 'Tableau'],\n",
              " ['Decisiontree-analytics-and-services', 'Data Channel'],\n",
              " ['Decisiontree-analytics-and-services', 'Redshift'],\n",
              " ['Decisiontree-analytics-and-services', 'Tableau'],\n",
              " ['Decube', 'Redshift'],\n",
              " ['Decube', 'AWS S3'],\n",
              " ['Deepnote', 'Google BigQuery'],\n",
              " ['Deepnote', 'Snowflake'],\n",
              " ['Deepnote', 'Stitch'],\n",
              " ['Definite', 'Fivetran'],\n",
              " ['Definite', 'Airbyte'],\n",
              " ['Definite', 'dbt'],\n",
              " ['Definite', 'Snowflake'],\n",
              " ['Definite', 'Airflow'],\n",
              " ['Deliveroo', 'AWS S3'],\n",
              " ['Deliveroo', 'Looker'],\n",
              " ['Deliveroo', 'Tableau'],\n",
              " ['Deliveroo', 'Snowflake'],\n",
              " ['Deliveroo', 'Redshift'],\n",
              " ['Deliveroo', 'Segment'],\n",
              " ['Deliveroo', 'Segment'],\n",
              " ['Delivery-hero', 'AWS S3'],\n",
              " ['Delivery-hero', 'Airflow'],\n",
              " ['Delivery-hero', 'Avo'],\n",
              " ['Delivery-hero', 'Avo'],\n",
              " ['Devoted-health', 'Airflow'],\n",
              " ['Devoted-health', 'dbt'],\n",
              " ['Devoted-health', 'Snowflake'],\n",
              " ['Dialogue', 'Metabase'],\n",
              " ['Dialogue', 'Looker'],\n",
              " ['Dialogue', 'Fivetran'],\n",
              " ['Dialogue', 'Snowflake'],\n",
              " ['Dialogue', 'Snowplow'],\n",
              " ['Dialogue', 'dbt'],\n",
              " ['Dinmo', 'Databricks'],\n",
              " ['Dinmo', 'Google BigQuery'],\n",
              " ['Dinmo', 'Snowflake'],\n",
              " ['Dinmo', 'Databricks'],\n",
              " ['Dotz-inc', 'Airflow'],\n",
              " ['Dotz-inc', 'Google Cloud Composer'],\n",
              " ['Dotz-inc', 'Google Cloud Storage'],\n",
              " ['Dotz-inc', 'Google Cloud Dataflow'],\n",
              " ['Dotz-inc', 'Google Data Catalog'],\n",
              " ['Dotz-inc', 'Qlikview'],\n",
              " ['Dotz-inc', 'Apache Spark'],\n",
              " ['Dotz-inc', 'Dataform'],\n",
              " ['Dotz-inc', 'Google BigQuery'],\n",
              " ['Dotz-inc', 'Tableau'],\n",
              " ['Dotz-inc', 'Qlikview'],\n",
              " ['Dotz-inc', 'Looker'],\n",
              " ['Dotz-inc', 'Google cloud data catalog & discovery'],\n",
              " ['Dqlabs-inc', 'Snowflake'],\n",
              " ['Dribbble', 'Metabase'],\n",
              " ['Dribbble', 'dbt'],\n",
              " ['Dribbble', 'Iteratively'],\n",
              " ['Dribbble', 'Snowflake'],\n",
              " ['Dribbble', 'Dagster'],\n",
              " ['Dribbble', 'Snowplow'],\n",
              " ['Dribbble', 'Fivetran'],\n",
              " ['Drizly', 'Looker'],\n",
              " ['Drizly', 'Fivetran'],\n",
              " ['Drizly', 'Databricks'],\n",
              " ['Drizly', 'Snowflake'],\n",
              " ['Drizly', 'Databricks'],\n",
              " ['Drizly', 'Confluent'],\n",
              " ['Drizly', 'Materialize'],\n",
              " ['Drizly', 'dbt'],\n",
              " ['Dutchie', 'Looker'],\n",
              " ['Dutchie', 'Fivetran'],\n",
              " ['Dutchie', 'Snowflake'],\n",
              " ['Dutchie', 'dbt'],\n",
              " ['Dutchie', 'Dagster'],\n",
              " ['Dwhdev', 'Snowflake'],\n",
              " ['Ebury', 'dbt'],\n",
              " ['Ebury', 'Google BigQuery'],\n",
              " ['Ebury', 'Airflow'],\n",
              " ['Ebury', 'Hex'],\n",
              " ['Ebury', 'Hevo Data'],\n",
              " ['Ebury', 'Segment'],\n",
              " ['Ebury', 'Segment'],\n",
              " ['Ebury', 'Looker'],\n",
              " ['Egnyte', 'dbt'],\n",
              " ['Egnyte', 'Google BigQuery'],\n",
              " ['Egnyte', 'Fivetran'],\n",
              " ['Egnyte', 'Sisu Data'],\n",
              " ['Electric', 'Looker'],\n",
              " ['Electric', 'Snowflake'],\n",
              " ['Electric', 'Pendo'],\n",
              " ['Electric', 'AWS Kinesis'],\n",
              " ['Electric', 'Stitch'],\n",
              " ['Electric', 'dbt'],\n",
              " ['Electric', 'Celigo'],\n",
              " ['Envoy', 'Stitch'],\n",
              " ['Envoy', 'Segment'],\n",
              " ['Envoy', 'Segment'],\n",
              " ['Envoy', 'Airflow'],\n",
              " ['Envoy', 'Looker'],\n",
              " ['Envoy', 'dbt'],\n",
              " ['Envoy', 'Redshift'],\n",
              " ['Estuary', 'Hightouch'],\n",
              " ['Etna-research', 'AWS S3'],\n",
              " ['Eureka-inc', 'dbt'],\n",
              " ['Eureka-inc', 'Google Data Catalog'],\n",
              " ['Eureka-inc', 'Tableau'],\n",
              " ['Eureka-inc', 'Fivetran'],\n",
              " ['Ez-texting', 'Google BigQuery'],\n",
              " ['Ez-texting', 'Airflow'],\n",
              " ['Ez-texting', 'Fivetran'],\n",
              " ['Ez-texting', 'dbt'],\n",
              " ['Ez-texting', 'Tableau'],\n",
              " ['Facebook', 'Segment'],\n",
              " ['Facebook', 'Segment'],\n",
              " ['Facebook', 'Vertica'],\n",
              " ['Facebook', 'Snowflake'],\n",
              " ['Facebook', 'Cloudera'],\n",
              " ['Facebook', 'Tableau'],\n",
              " ['Facebook', 'Microstrategy'],\n",
              " ['Facebook', 'Matillion'],\n",
              " ['Fetch-rewards', 'Airflow'],\n",
              " ['Fetch-rewards', 'Great Expectations'],\n",
              " ['Fetch-rewards', 'Superset'],\n",
              " ['Fetch-rewards', 'Tableau'],\n",
              " ['Fetch-rewards', 'Apache Kafka'],\n",
              " ['Fetch-rewards', 'Apache Flink'],\n",
              " ['Fetch-rewards', 'AWS Kinesis'],\n",
              " ['Fetch-rewards', 'Apache Hudi'],\n",
              " ['Fetch-rewards', 'Snowflake'],\n",
              " ['Fetch-rewards', 'Apache Spark'],\n",
              " ['Fetch-rewards', 'dbt'],\n",
              " ['Fig-tech', 'Fivetran'],\n",
              " ['Fig-tech', 'dbt'],\n",
              " ['Fig-tech', 'Snowflake'],\n",
              " ['Fig-tech', 'Looker'],\n",
              " ['Figs', 'Fivetran'],\n",
              " ['Figs', 'dbt'],\n",
              " ['Figs', 'Looker'],\n",
              " ['Figs', 'Snowflake'],\n",
              " ['Flatfile', 'Segment'],\n",
              " ['Flatfile', 'Segment'],\n",
              " ['Flatfile', 'Google BigQuery'],\n",
              " ['Flatfile', 'dbt'],\n",
              " ['Flatfile', 'Stitch'],\n",
              " ['Flatfile', 'Hightouch'],\n",
              " ['Flawless', 'dbt'],\n",
              " ['Flawless', 'Fivetran'],\n",
              " ['Flawless', 'Metabase'],\n",
              " ['Flex', 'Looker'],\n",
              " ['Flex', 'Google BigQuery'],\n",
              " ['Flex', 'dbt'],\n",
              " ['Flipkart', 'Segment'],\n",
              " ['Flipkart', 'Segment'],\n",
              " ['Flipkart', 'Apache Kafka'],\n",
              " ['Flipkart', 'Apache Flink'],\n",
              " ['Flipkart', 'Apache Storm'],\n",
              " ['Flipkart', 'Kissflow'],\n",
              " ['Flipkart', 'Power BI'],\n",
              " ['Flipkart', 'Tableau'],\n",
              " ['Flixbus', 'Qlikview'],\n",
              " ['Flixbus', 'Tableau'],\n",
              " ['Flixbus', 'Qlikview'],\n",
              " ['Flixbus', 'Matillion'],\n",
              " ['Flixbus', 'Azure Cloud Storage'],\n",
              " ['Flixbus', 'AWS S3'],\n",
              " ['Flock-freight', 'Mode'],\n",
              " ['Flock-freight', 'Sigma'],\n",
              " ['Flock-freight', 'Snowflake'],\n",
              " ['Flock-freight', 'Argo'],\n",
              " ['Flock-freight', 'Sigma'],\n",
              " ['Flock-freight', 'dbt'],\n",
              " ['Flowcode', 'Looker'],\n",
              " ['Flowcode', 'Snowflake'],\n",
              " ['Flowcode', 'Airflow'],\n",
              " ['Flowcode', 'dbt'],\n",
              " ['Flowcode', 'Fivetran'],\n",
              " ['Forkbomb', 'Cube'],\n",
              " ['Forkbomb', 'Airbyte'],\n",
              " ['Forkbomb', 'Rudderstack'],\n",
              " ['Forkbomb', 'dbt'],\n",
              " ['Forkbomb', 'Rudderstack'],\n",
              " ['Forkbomb', 'Rudderstack'],\n",
              " ['Forkbomb', 'Rudderstack'],\n",
              " ['Forkbomb', 'Superset'],\n",
              " ['Fox', 'AWS Athena'],\n",
              " ['Fox', 'Apache Spark'],\n",
              " ['Fox', 'Monte Carlo Data'],\n",
              " ['Fox', 'Tableau'],\n",
              " ['Fox', 'Looker'],\n",
              " ['Fox', 'Redshift'],\n",
              " ['Fox', 'Matillion'],\n",
              " ['Fragment-studio', 'Google BigQuery'],\n",
              " ['Fragment-studio', 'Google Cloud Storage'],\n",
              " ['Fragment-studio', 'Funnel.io'],\n",
              " ['Fragment-studio', 'Power BI'],\n",
              " ['Fragment-studio', 'dbt'],\n",
              " ['Freshly-cosmetic', 'Hevo Data'],\n",
              " ['Freshly-cosmetic', 'Airflow'],\n",
              " ['Freshly-cosmetic', 'Google BigQuery'],\n",
              " ['Freshly-cosmetic', 'dbt'],\n",
              " ['Fullscript', 'Fivetran'],\n",
              " ['Fullscript', 'dbt'],\n",
              " ['Fullscript', 'Snowflake'],\n",
              " ['Gaia-gps', 'Tableau'],\n",
              " ['Gaia-gps', 'Mode'],\n",
              " ['Gaia-gps', 'Snowflake'],\n",
              " ['Gamechanger', 'Apache Kafka'],\n",
              " ['Gamechanger', 'AWS S3'],\n",
              " ['Gamechanger', 'Snowplow'],\n",
              " ['Gamechanger', 'dbt'],\n",
              " ['Gamechanger', 'Airflow'],\n",
              " ['Gamechanger', 'Looker'],\n",
              " ['Gamechanger', 'Hex'],\n",
              " ['Gamechanger', 'Fivetran'],\n",
              " ['Gamechanger', 'Snowflake'],\n",
              " ['Getindata', 'Databricks'],\n",
              " ['Getindata', 'Snowflake'],\n",
              " ['Getindata', 'Google BigQuery'],\n",
              " ['Getindata', 'Redshift'],\n",
              " ['Getindata', 'Databricks'],\n",
              " ['Getindata', 'Google Cloud Storage'],\n",
              " ['Getindata', 'Starburst'],\n",
              " ['Getindata', 'Fivetran'],\n",
              " ['Getindata', 'Airbyte'],\n",
              " ['Getindata', 'Looker'],\n",
              " ['Getindata', 'Tableau'],\n",
              " ['Getindata', 'dbt'],\n",
              " ['Getindata', 'Apache Spark'],\n",
              " ['Getindata', 'Apache Flink'],\n",
              " ['Getindata', 'Apache Kafka'],\n",
              " ['Getindata', 'Google Cloud Dataflow'],\n",
              " ['Getindata', 'Ververica'],\n",
              " ['Getindata', 'Confluent'],\n",
              " ['Getindata', 'AWS Kinesis'],\n",
              " ['Getindata', 'Astronomer'],\n",
              " ['Getindata', 'Google Cloud Composer'],\n",
              " ['Getindata', 'Airflow'],\n",
              " ['Getindata', 'Kubeflow'],\n",
              " ['Getindata', 'Argo'],\n",
              " ['Getindata', 'Google cloud data catalog & discovery'],\n",
              " ['Getindata', 'Marquez'],\n",
              " ['Getindata', 'Data Hub'],\n",
              " ['Getindata', 'Monte Carlo Data'],\n",
              " ['Getindata', 'Great Expectations'],\n",
              " ['Getindata', 'Marquez'],\n",
              " ['Getindata', 'Data Hub'],\n",
              " ['Getindata', 'Datakin'],\n",
              " ['Getindata', 'Debezium'],\n",
              " ['Getindata', 'Starburst'],\n",
              " ['Getsales', 'Tableau'],\n",
              " ['Getsales', 'Salesforce Einstein Analytics'],\n",
              " ['Getsales', 'Google BigQuery'],\n",
              " ['Getsales', 'Airflow'],\n",
              " ['Getsales', 'dbt'],\n",
              " ['Getsales', 'Fivetran'],\n",
              " ['Givedirectly', 'Sisense'],\n",
              " ['Givedirectly', 'Redshift'],\n",
              " ['Givedirectly', 'Stitch'],\n",
              " ['Goat', 'Snowflake'],\n",
              " ['Goat', 'Fivetran'],\n",
              " ['Goat', 'Mode'],\n",
              " ['Goat', 'dbt'],\n",
              " ['Gocanvas', 'dbt'],\n",
              " ['Gocanvas', 'Airflow'],\n",
              " ['Gocanvas', 'Looker'],\n",
              " ['Good-apple-foods', 'Looker'],\n",
              " ['Good-apple-foods', 'Rivery.io'],\n",
              " ['Good-apple-foods', 'Rivery.io'],\n",
              " ['Good-apple-foods', 'Rivery.io'],\n",
              " ['Good-apple-foods', 'Snowflake'],\n",
              " ['Good-eggs', 'Dagster'],\n",
              " ['Good-eggs', 'Mode'],\n",
              " ['Good-eggs', 'Stitch'],\n",
              " ['Good-eggs', 'Snowflake'],\n",
              " ['Good-eggs', 'dbt'],\n",
              " ['Google', 'Tableau'],\n",
              " ['Google', 'Sisense'],\n",
              " ['Google', 'Looker'],\n",
              " ['Google', 'Microstrategy'],\n",
              " ['Google', 'iguazio'],\n",
              " ['Google', 'Argo'],\n",
              " ['Google', 'Databricks'],\n",
              " ['Google', 'Redshift'],\n",
              " ['Google', 'Databricks'],\n",
              " ['Google', 'Apache Storm'],\n",
              " ['Google', 'Cloudera'],\n",
              " ['Google-dev-library', 'Google Cloud Storage'],\n",
              " ['Gopuff', 'Looker'],\n",
              " ['Gopuff', 'Sigma'],\n",
              " ['Gopuff', 'Segment'],\n",
              " ['Gopuff', 'Segment'],\n",
              " ['Gopuff', 'Sigma'],\n",
              " ['Gopuff', 'Spectacles'],\n",
              " ['Gopuff', 'dbt'],\n",
              " ['Gopuff', 'Snowflake'],\n",
              " ['Gousto', 'AWS S3'],\n",
              " ['Gousto', 'Databricks'],\n",
              " ['Gousto', 'Databricks'],\n",
              " ['Grainger', 'dbt'],\n",
              " ['Grainger', 'Airflow'],\n",
              " ['Grainger', 'Snowflake'],\n",
              " ['Groupone', 'Fivetran'],\n",
              " ['Groupone', 'Meltano'],\n",
              " ['Groupone', 'Hightouch'],\n",
              " ['Groupone', 'dbt'],\n",
              " ['Groupone', 'Snowflake'],\n",
              " ['Groupone', 'Tableau'],\n",
              " ['Groupone', 'Elementary Data'],\n",
              " ['Growth-talent', 'Segment'],\n",
              " ['Growth-talent', 'Segment'],\n",
              " ['Glean', 'Fivetran'],\n",
              " ['Glean', 'Google BigQuery'],\n",
              " ['Headway', 'Snowflake'],\n",
              " ['Headway', 'Looker'],\n",
              " ['Headway', 'Fivetran'],\n",
              " ['Headway', 'Hightouch'],\n",
              " ['Headway', 'dbt'],\n",
              " ['Headway', 'Avo'],\n",
              " ['Headway', 'Avo'],\n",
              " ['Health-joy', 'dbt'],\n",
              " ['Health-joy', 'Snowflake'],\n",
              " ['Health-joy', 'Fivetran'],\n",
              " ['Health-joy', 'Looker'],\n",
              " ['Heap', 'Snowflake'],\n",
              " ['Heap', 'Google BigQuery'],\n",
              " ['Heap', 'Redshift'],\n",
              " ['Heap', 'Apache Spark'],\n",
              " ['Helpscout', 'Fivetran'],\n",
              " ['Helpscout', 'Google BigQuery'],\n",
              " ['Helpscout', 'Looker'],\n",
              " ['Helpscout', 'Census'],\n",
              " ['Helpscout', 'dbt'],\n",
              " ['Hex', 'Hex'],\n",
              " ['Hometogo', 'AWS S3'],\n",
              " ['Hometogo', 'Delta.io'],\n",
              " ['Hometogo', 'Airbyte'],\n",
              " ['Hometogo', 'Anomalo'],\n",
              " ['Hometogo', 'Data Hub'],\n",
              " ['Hometogo', 'Qlikview'],\n",
              " ['Hometogo', 'Data Hub'],\n",
              " ['Hometogo', 'Snowplow'],\n",
              " ['Hometogo', 'Redash'],\n",
              " ['Hometogo', 'Superset'],\n",
              " ['Hometogo', 'Qlikview'],\n",
              " ['Hometogo', 'Tableau'],\n",
              " ['Hometogo', 'Redshift'],\n",
              " ['Hometogo', 'Sisu Data'],\n",
              " ['Hometogo', 'dbt'],\n",
              " ['Hometogo', 'Airflow'],\n",
              " ['Hotjar', 'Mixpanel'],\n",
              " ['Hotjar', 'Segment'],\n",
              " ['Hotjar', 'Segment'],\n",
              " ['Hotjar', 'Tableau'],\n",
              " ['Hotjar', 'Redshift'],\n",
              " ['Hotjar', 'Airflow'],\n",
              " ['Hotjar', 'dbt'],\n",
              " ['Hubla', 'dbt'],\n",
              " ['Hubla', 'Metabase'],\n",
              " ['Hubla', 'Google BigQuery'],\n",
              " ['Hubla', 'Airflow'],\n",
              " ['Hubla', 'Airbyte'],\n",
              " ['Hubla', 'Rudderstack'],\n",
              " ['Hubla', 'Rudderstack'],\n",
              " ['Hubla', 'Rudderstack'],\n",
              " ['Hubla', 'Rudderstack'],\n",
              " ['Hubla', 'Mixpanel'],\n",
              " ['Hubla', 'Hex'],\n",
              " ['Hubspot', 'Looker'],\n",
              " ['Hubspot', 'dbt'],\n",
              " ['Hubspot', 'Airflow'],\n",
              " ['Hubspot', 'Snowflake'],\n",
              " ['Humanloop', 'AWS S3'],\n",
              " ['Ifood-decision-sciences', 'Fivetran'],\n",
              " ['Ifood-decision-sciences', 'dbt'],\n",
              " ...]"
            ]
          },
          "metadata": {},
          "execution_count": 48
        }
      ]
    }
  ]
}